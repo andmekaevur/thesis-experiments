{
 "cells": [
  {
   "cell_type": "code",
   "execution_count": 39,
   "metadata": {
    "collapsed": true,
    "deletable": true,
    "editable": true
   },
   "outputs": [],
   "source": [
    "import numpy as np\n",
    "from joblib import Parallel, delayed\n",
    "from gensim.models.keyedvectors import KeyedVectors\n",
    "# from numba import jit, autojit\n",
    "from sklearn.manifold import MDS, TSNE\n",
    "from tqdm import tqdm\n",
    "from sklearn.metrics.pairwise import cosine_similarity, cosine_distances, linear_kernel, euclidean_distances\n",
    "from sklearn.feature_extraction.text import TfidfVectorizer\n",
    "from glob import glob\n",
    "import time \n",
    "import os\n",
    "from sklearn.decomposition import PCA, TruncatedSVD\n"
   ]
  },
  {
   "cell_type": "code",
   "execution_count": 65,
   "metadata": {
    "collapsed": true,
    "deletable": true,
    "editable": true
   },
   "outputs": [],
   "source": [
    "def pca_filename(distance_filename, **kwargs):\n",
    "    kwarg_list = []\n",
    "    for k, v in kwargs.items():\n",
    "        kwarg_list.append(\"_\".join(map(str,(k, v))))\n",
    "    joined_kwarg_list = \"_\".join(kwarg_list)\n",
    "    return os.path.join('datasets/sg/pca',\n",
    "                        distance_filename.replace('datasets/', '')\n",
    "                                         .replace('/', '_')\n",
    "                                         .replace('.npy', \"_\"+joined_kwarg_list+'.npy'))\n"
   ]
  },
  {
   "cell_type": "code",
   "execution_count": 48,
   "metadata": {
    "collapsed": true,
    "deletable": true,
    "editable": true
   },
   "outputs": [],
   "source": [
    "def lsi_filename(distance_filename, **kwargs):\n",
    "    kwarg_list = []\n",
    "    for k, v in kwargs.items():\n",
    "        kwarg_list.append(\"_\".join(map(str,(k, v))))\n",
    "    joined_kwarg_list = \"_\".join(kwarg_list)\n",
    "    return os.path.join('datasets/tfidf/lsi/',\n",
    "                        distance_filename.replace('datasets/', '')\n",
    "                                         .replace('/', '_')\n",
    "                                         .replace('.npy', \"_\"+joined_kwarg_list+'.npy'))"
   ]
  },
  {
   "cell_type": "code",
   "execution_count": 3,
   "metadata": {
    "collapsed": true,
    "deletable": true,
    "editable": true
   },
   "outputs": [],
   "source": [
    "dist_files = glob('datasets/angular-distance/*/*') + \\\n",
    "                glob('datasets/euclidean-distance/*/*') + \\\n",
    "                    glob('datasets/wmd/*')"
   ]
  },
  {
   "cell_type": "code",
   "execution_count": 33,
   "metadata": {
    "collapsed": true,
    "deletable": true,
    "editable": true
   },
   "outputs": [],
   "source": [
    "feature_files =  glob('datasets/tfidf-features/*') + glob('datasets/mean-vec/*')"
   ]
  },
  {
   "cell_type": "code",
   "execution_count": 26,
   "metadata": {
    "collapsed": false,
    "deletable": true,
    "editable": true
   },
   "outputs": [
    {
     "data": {
      "text/plain": [
       "'datasets/pca/mean-vec_õun_kivi_w_4_s_True_asd_123.npy'"
      ]
     },
     "execution_count": 26,
     "metadata": {},
     "output_type": "execute_result"
    }
   ],
   "source": [
    "pca_filename(feature_files[0], asd='123')"
   ]
  },
  {
   "cell_type": "code",
   "execution_count": 10,
   "metadata": {
    "collapsed": true,
    "deletable": true,
    "editable": true
   },
   "outputs": [],
   "source": [
    "X = np.load(feature_files[0])"
   ]
  },
  {
   "cell_type": "code",
   "execution_count": 22,
   "metadata": {
    "collapsed": false,
    "deletable": true,
    "editable": true
   },
   "outputs": [],
   "source": [
    "pca = PCA(n_components=2)\n",
    "X_reduced = pca.fit_transform(X)\n"
   ]
  },
  {
   "cell_type": "code",
   "execution_count": 23,
   "metadata": {
    "collapsed": false,
    "deletable": true,
    "editable": true
   },
   "outputs": [
    {
     "data": {
      "text/plain": [
       "(1884, 2)"
      ]
     },
     "execution_count": 23,
     "metadata": {},
     "output_type": "execute_result"
    }
   ],
   "source": []
  },
  {
   "cell_type": "code",
   "execution_count": 37,
   "metadata": {
    "collapsed": false,
    "deletable": true,
    "editable": true
   },
   "outputs": [],
   "source": [
    "feature_files = glob('datasets/mean-vec/*')# + glob('datasets/tfidf-features/*')"
   ]
  },
  {
   "cell_type": "code",
   "execution_count": 57,
   "metadata": {
    "collapsed": true,
    "deletable": true,
    "editable": true
   },
   "outputs": [],
   "source": [
    "feature_files = glob('datasets/tfidf/features/*')"
   ]
  },
  {
   "cell_type": "code",
   "execution_count": 60,
   "metadata": {
    "collapsed": true
   },
   "outputs": [],
   "source": [
    "feature_files = glob('datasets/sg/mean-vec/vectors/*')"
   ]
  },
  {
   "cell_type": "code",
   "execution_count": 63,
   "metadata": {
    "collapsed": false
   },
   "outputs": [
    {
     "data": {
      "text/plain": [
       "'datasets/pca/sg_mean-vec_vectors_õun_kivi_w_4_s_True_n_40.npy'"
      ]
     },
     "execution_count": 63,
     "metadata": {},
     "output_type": "execute_result"
    }
   ],
   "source": [
    "pca_filename(feature_files[0], n=n)"
   ]
  },
  {
   "cell_type": "code",
   "execution_count": 56,
   "metadata": {
    "collapsed": false,
    "deletable": true,
    "editable": true
   },
   "outputs": [
    {
     "data": {
      "text/plain": [
       "'datasets/tfidf/lsi/tfidf_features_õun_kivi_w_4_s_True_n_10.npy'"
      ]
     },
     "execution_count": 56,
     "metadata": {},
     "output_type": "execute_result"
    }
   ],
   "source": [
    "lsi_filename(tfidf_files[0], n=10)\n",
    "# /datasets/tfidf/lsi"
   ]
  },
  {
   "cell_type": "code",
   "execution_count": 66,
   "metadata": {
    "collapsed": false,
    "deletable": true,
    "editable": true
   },
   "outputs": [
    {
     "name": "stdout",
     "output_type": "stream",
     "text": [
      "datasets/sg/mean-vec/vectors/õun_kivi_w_4_s_True.npy\n",
      "[2, 10, 40]\n",
      "2 1494429938.1432264\n",
      "saving, datasets/sg/pca/sg_mean-vec_vectors_õun_kivi_w_4_s_True_n_2.npy\n",
      "10 1494429938.2012653\n",
      "saving, datasets/sg/pca/sg_mean-vec_vectors_õun_kivi_w_4_s_True_n_10.npy\n",
      "40 1494429938.2632143\n",
      "saving, datasets/sg/pca/sg_mean-vec_vectors_õun_kivi_w_4_s_True_n_40.npy\n",
      "datasets/sg/mean-vec/vectors/ämber_pang_w_4_s_True.npy\n",
      "[2, 10, 40]\n",
      "2 1494429938.4740248\n",
      "saving, datasets/sg/pca/sg_mean-vec_vectors_ämber_pang_w_4_s_True_n_2.npy\n",
      "10 1494429938.49474\n",
      "saving, datasets/sg/pca/sg_mean-vec_vectors_ämber_pang_w_4_s_True_n_10.npy\n",
      "40 1494429938.5152583\n",
      "saving, datasets/sg/pca/sg_mean-vec_vectors_ämber_pang_w_4_s_True_n_40.npy\n",
      "datasets/sg/mean-vec/vectors/joogitee_sõidutee_w_2_s_False.npy\n",
      "[2, 10, 40]\n",
      "2 1494429938.5378718\n",
      "saving, datasets/sg/pca/sg_mean-vec_vectors_joogitee_sõidutee_w_2_s_False_n_2.npy\n",
      "10 1494429938.5742404\n",
      "saving, datasets/sg/pca/sg_mean-vec_vectors_joogitee_sõidutee_w_2_s_False_n_10.npy\n",
      "40 1494429938.6127164\n",
      "saving, datasets/sg/pca/sg_mean-vec_vectors_joogitee_sõidutee_w_2_s_False_n_40.npy\n",
      "datasets/sg/mean-vec/vectors/ämber_pang_w_3_s_False.npy\n",
      "[2, 10, 40]\n",
      "2 1494429938.7045736\n",
      "saving, datasets/sg/pca/sg_mean-vec_vectors_ämber_pang_w_3_s_False_n_2.npy\n",
      "10 1494429938.7230725\n",
      "saving, datasets/sg/pca/sg_mean-vec_vectors_ämber_pang_w_3_s_False_n_10.npy\n",
      "40 1494429938.7423851\n",
      "saving, datasets/sg/pca/sg_mean-vec_vectors_ämber_pang_w_3_s_False_n_40.npy\n",
      "datasets/sg/mean-vec/vectors/hea_halb_w_4_s_False.npy\n",
      "[2, 10, 40]\n",
      "2 1494429938.793553\n",
      "saving, datasets/sg/pca/sg_mean-vec_vectors_hea_halb_w_4_s_False_n_2.npy\n",
      "10 1494429938.9786408\n",
      "saving, datasets/sg/pca/sg_mean-vec_vectors_hea_halb_w_4_s_False_n_10.npy\n",
      "40 1494429939.163344\n",
      "saving, datasets/sg/pca/sg_mean-vec_vectors_hea_halb_w_4_s_False_n_40.npy\n",
      "datasets/sg/mean-vec/vectors/hea_halb_w_3_s_False.npy\n",
      "[2, 10, 40]\n",
      "2 1494429939.6288984\n",
      "saving, datasets/sg/pca/sg_mean-vec_vectors_hea_halb_w_3_s_False_n_2.npy\n",
      "10 1494429939.8065698\n",
      "saving, datasets/sg/pca/sg_mean-vec_vectors_hea_halb_w_3_s_False_n_10.npy\n",
      "40 1494429939.991032\n",
      "saving, datasets/sg/pca/sg_mean-vec_vectors_hea_halb_w_3_s_False_n_40.npy\n",
      "datasets/sg/mean-vec/vectors/hea_halb_w_4_s_True.npy\n",
      "[2, 10, 40]\n",
      "2 1494429940.4424498\n",
      "saving, datasets/sg/pca/sg_mean-vec_vectors_hea_halb_w_4_s_True_n_2.npy\n",
      "10 1494429940.5852878\n",
      "saving, datasets/sg/pca/sg_mean-vec_vectors_hea_halb_w_4_s_True_n_10.npy\n",
      "40 1494429940.7277524\n",
      "saving, datasets/sg/pca/sg_mean-vec_vectors_hea_halb_w_4_s_True_n_40.npy\n",
      "datasets/sg/mean-vec/vectors/õun_banaan_w_2_s_True.npy\n",
      "[2, 10, 40]\n",
      "2 1494429941.0892806\n",
      "saving, datasets/sg/pca/sg_mean-vec_vectors_õun_banaan_w_2_s_True_n_2.npy\n",
      "10 1494429941.1216168\n",
      "saving, datasets/sg/pca/sg_mean-vec_vectors_õun_banaan_w_2_s_True_n_10.npy\n",
      "40 1494429941.1526\n",
      "saving, datasets/sg/pca/sg_mean-vec_vectors_õun_banaan_w_2_s_True_n_40.npy\n",
      "datasets/sg/mean-vec/vectors/ämber_pang_w_2_s_False.npy\n",
      "[2, 10, 40]\n",
      "2 1494429941.2338836\n",
      "saving, datasets/sg/pca/sg_mean-vec_vectors_ämber_pang_w_2_s_False_n_2.npy\n",
      "10 1494429941.252392\n",
      "saving, datasets/sg/pca/sg_mean-vec_vectors_ämber_pang_w_2_s_False_n_10.npy\n",
      "40 1494429941.272882\n",
      "saving, datasets/sg/pca/sg_mean-vec_vectors_ämber_pang_w_2_s_False_n_40.npy\n",
      "datasets/sg/mean-vec/vectors/õun_banaan_w_4_s_True.npy\n",
      "[2, 10, 40]\n",
      "2 1494429941.3225658\n",
      "saving, datasets/sg/pca/sg_mean-vec_vectors_õun_banaan_w_4_s_True_n_2.npy\n",
      "10 1494429941.3419054\n",
      "saving, datasets/sg/pca/sg_mean-vec_vectors_õun_banaan_w_4_s_True_n_10.npy\n",
      "40 1494429941.36244\n",
      "saving, datasets/sg/pca/sg_mean-vec_vectors_õun_banaan_w_4_s_True_n_40.npy\n",
      "datasets/sg/mean-vec/vectors/Eesti_TallinnTartu_w_4_s_False.npy\n",
      "[2, 10, 40]\n",
      "2 1494429941.4196625\n",
      "saving, datasets/sg/pca/sg_mean-vec_vectors_Eesti_TallinnTartu_w_4_s_False_n_2.npy\n",
      "10 1494429941.611395\n",
      "saving, datasets/sg/pca/sg_mean-vec_vectors_Eesti_TallinnTartu_w_4_s_False_n_10.npy\n",
      "40 1494429941.8000922\n",
      "saving, datasets/sg/pca/sg_mean-vec_vectors_Eesti_TallinnTartu_w_4_s_False_n_40.npy\n",
      "datasets/sg/mean-vec/vectors/õun_banaan_w_3_s_False.npy\n",
      "[2, 10, 40]\n",
      "2 1494429942.2646668\n",
      "saving, datasets/sg/pca/sg_mean-vec_vectors_õun_banaan_w_3_s_False_n_2.npy\n",
      "10 1494429942.3110373\n",
      "saving, datasets/sg/pca/sg_mean-vec_vectors_õun_banaan_w_3_s_False_n_10.npy\n",
      "40 1494429942.3530278\n",
      "saving, datasets/sg/pca/sg_mean-vec_vectors_õun_banaan_w_3_s_False_n_40.npy\n",
      "datasets/sg/mean-vec/vectors/õun_kivi_w_4_s_False.npy\n",
      "[2, 10, 40]\n",
      "2 1494429942.4655285\n",
      "saving, datasets/sg/pca/sg_mean-vec_vectors_õun_kivi_w_4_s_False_n_2.npy\n",
      "10 1494429942.5681388\n",
      "saving, datasets/sg/pca/sg_mean-vec_vectors_õun_kivi_w_4_s_False_n_10.npy\n",
      "40 1494429942.660331\n",
      "saving, datasets/sg/pca/sg_mean-vec_vectors_õun_kivi_w_4_s_False_n_40.npy\n",
      "datasets/sg/mean-vec/vectors/õun_puder_w_3_s_True.npy\n",
      "[2, 10, 40]\n",
      "2 1494429942.9035516\n",
      "saving, datasets/sg/pca/sg_mean-vec_vectors_õun_puder_w_3_s_True_n_2.npy\n",
      "10 1494429942.919508\n",
      "saving, datasets/sg/pca/sg_mean-vec_vectors_õun_puder_w_3_s_True_n_10.npy\n",
      "40 1494429942.9361923\n",
      "saving, datasets/sg/pca/sg_mean-vec_vectors_õun_puder_w_3_s_True_n_40.npy\n",
      "datasets/sg/mean-vec/vectors/õun_banaan_w_2_s_False.npy\n",
      "[2, 10, 40]\n",
      "2 1494429942.9777956\n",
      "saving, datasets/sg/pca/sg_mean-vec_vectors_õun_banaan_w_2_s_False_n_2.npy\n",
      "10 1494429943.02189\n",
      "saving, datasets/sg/pca/sg_mean-vec_vectors_õun_banaan_w_2_s_False_n_10.npy\n",
      "40 1494429943.066957\n",
      "saving, datasets/sg/pca/sg_mean-vec_vectors_õun_banaan_w_2_s_False_n_40.npy\n",
      "datasets/sg/mean-vec/vectors/õun_banaan_w_3_s_True.npy\n",
      "[2, 10, 40]\n",
      "2 1494429943.1780777\n",
      "saving, datasets/sg/pca/sg_mean-vec_vectors_õun_banaan_w_3_s_True_n_2.npy\n",
      "10 1494429943.2015486\n",
      "saving, datasets/sg/pca/sg_mean-vec_vectors_õun_banaan_w_3_s_True_n_10.npy\n",
      "40 1494429943.2268596\n",
      "saving, datasets/sg/pca/sg_mean-vec_vectors_õun_banaan_w_3_s_True_n_40.npy\n",
      "datasets/sg/mean-vec/vectors/õun_kivi_w_3_s_False.npy\n",
      "[2, 10, 40]\n",
      "2 1494429943.2891912\n",
      "saving, datasets/sg/pca/sg_mean-vec_vectors_õun_kivi_w_3_s_False_n_2.npy\n",
      "10 1494429943.3921583\n",
      "saving, datasets/sg/pca/sg_mean-vec_vectors_õun_kivi_w_3_s_False_n_10.npy\n",
      "40 1494429943.490819\n",
      "saving, datasets/sg/pca/sg_mean-vec_vectors_õun_kivi_w_3_s_False_n_40.npy\n",
      "datasets/sg/mean-vec/vectors/ämber_pang_w_4_s_False.npy\n",
      "[2, 10, 40]\n",
      "2 1494429943.738612\n",
      "saving, datasets/sg/pca/sg_mean-vec_vectors_ämber_pang_w_4_s_False_n_2.npy\n",
      "10 1494429943.756988\n",
      "saving, datasets/sg/pca/sg_mean-vec_vectors_ämber_pang_w_4_s_False_n_10.npy\n",
      "40 1494429943.7763975\n",
      "saving, datasets/sg/pca/sg_mean-vec_vectors_ämber_pang_w_4_s_False_n_40.npy\n",
      "datasets/sg/mean-vec/vectors/õun_puder_w_3_s_False.npy\n",
      "[2, 10, 40]\n",
      "2 1494429943.8239534\n",
      "saving, datasets/sg/pca/sg_mean-vec_vectors_õun_puder_w_3_s_False_n_2.npy\n",
      "10 1494429943.85361\n",
      "saving, datasets/sg/pca/sg_mean-vec_vectors_õun_puder_w_3_s_False_n_10.npy\n",
      "40 1494429943.8851364\n",
      "saving, datasets/sg/pca/sg_mean-vec_vectors_õun_puder_w_3_s_False_n_40.npy\n",
      "datasets/sg/mean-vec/vectors/ämber_pang_w_2_s_True.npy\n",
      "[2, 10, 40]\n",
      "2 1494429943.9623175\n",
      "saving, datasets/sg/pca/sg_mean-vec_vectors_ämber_pang_w_2_s_True_n_2.npy\n",
      "10 1494429943.9757557\n",
      "saving, datasets/sg/pca/sg_mean-vec_vectors_ämber_pang_w_2_s_True_n_10.npy\n",
      "40 1494429943.9902961\n",
      "saving, datasets/sg/pca/sg_mean-vec_vectors_ämber_pang_w_2_s_True_n_40.npy\n",
      "datasets/sg/mean-vec/vectors/õun_banaan_w_4_s_False.npy\n",
      "[2, 10, 40]\n",
      "2 1494429944.026447\n",
      "saving, datasets/sg/pca/sg_mean-vec_vectors_õun_banaan_w_4_s_False_n_2.npy\n",
      "10 1494429944.066873\n",
      "saving, datasets/sg/pca/sg_mean-vec_vectors_õun_banaan_w_4_s_False_n_10.npy\n",
      "40 1494429944.1107833\n",
      "saving, datasets/sg/pca/sg_mean-vec_vectors_õun_banaan_w_4_s_False_n_40.npy\n",
      "datasets/sg/mean-vec/vectors/õun_puder_w_2_s_False.npy\n",
      "[2, 10, 40]\n",
      "2 1494429944.2154858\n",
      "saving, datasets/sg/pca/sg_mean-vec_vectors_õun_puder_w_2_s_False_n_2.npy\n",
      "10 1494429944.2537756\n",
      "saving, datasets/sg/pca/sg_mean-vec_vectors_õun_puder_w_2_s_False_n_10.npy\n",
      "40 1494429944.2864869\n",
      "saving, datasets/sg/pca/sg_mean-vec_vectors_õun_puder_w_2_s_False_n_40.npy\n",
      "datasets/sg/mean-vec/vectors/õun_puder_w_4_s_False.npy\n",
      "[2, 10, 40]\n",
      "2 1494429944.3643615\n",
      "saving, datasets/sg/pca/sg_mean-vec_vectors_õun_puder_w_4_s_False_n_2.npy\n",
      "10 1494429944.3935277\n",
      "saving, datasets/sg/pca/sg_mean-vec_vectors_õun_puder_w_4_s_False_n_10.npy\n",
      "40 1494429944.4274848\n",
      "saving, datasets/sg/pca/sg_mean-vec_vectors_õun_puder_w_4_s_False_n_40.npy\n",
      "datasets/sg/mean-vec/vectors/õun_kivi_w_2_s_True.npy\n",
      "[2, 10, 40]\n",
      "2 1494429944.506416\n",
      "saving, datasets/sg/pca/sg_mean-vec_vectors_õun_kivi_w_2_s_True_n_2.npy\n",
      "10 1494429944.5714886\n",
      "saving, datasets/sg/pca/sg_mean-vec_vectors_õun_kivi_w_2_s_True_n_10.npy\n",
      "40 1494429944.63563\n",
      "saving, datasets/sg/pca/sg_mean-vec_vectors_õun_kivi_w_2_s_True_n_40.npy\n",
      "datasets/sg/mean-vec/vectors/ämber_pang_w_3_s_True.npy\n",
      "[2, 10, 40]\n",
      "2 1494429944.7989457\n",
      "saving, datasets/sg/pca/sg_mean-vec_vectors_ämber_pang_w_3_s_True_n_2.npy\n",
      "10 1494429944.8212152\n",
      "saving, datasets/sg/pca/sg_mean-vec_vectors_ämber_pang_w_3_s_True_n_10.npy\n",
      "40 1494429944.8444002\n",
      "saving, datasets/sg/pca/sg_mean-vec_vectors_ämber_pang_w_3_s_True_n_40.npy\n",
      "datasets/sg/mean-vec/vectors/countries_cities_w_3_s_True.npy\n",
      "[2, 10, 40]\n",
      "2 1494429944.8703363\n",
      "saving, datasets/sg/pca/sg_mean-vec_vectors_countries_cities_w_3_s_True_n_2.npy\n",
      "10 1494429944.9830742\n",
      "saving, datasets/sg/pca/sg_mean-vec_vectors_countries_cities_w_3_s_True_n_10.npy\n",
      "40 1494429945.091557\n",
      "saving, datasets/sg/pca/sg_mean-vec_vectors_countries_cities_w_3_s_True_n_40.npy\n",
      "datasets/sg/mean-vec/vectors/hea_halb_w_3_s_True.npy\n",
      "[2, 10, 40]\n",
      "2 1494429945.3739026\n",
      "saving, datasets/sg/pca/sg_mean-vec_vectors_hea_halb_w_3_s_True_n_2.npy\n",
      "10 1494429945.5620282\n",
      "saving, datasets/sg/pca/sg_mean-vec_vectors_hea_halb_w_3_s_True_n_10.npy\n",
      "40 1494429945.7537134\n",
      "saving, datasets/sg/pca/sg_mean-vec_vectors_hea_halb_w_3_s_True_n_40.npy\n",
      "datasets/sg/mean-vec/vectors/hea_halb_w_2_s_False.npy\n",
      "[2, 10, 40]\n",
      "2 1494429946.2166948\n",
      "saving, datasets/sg/pca/sg_mean-vec_vectors_hea_halb_w_2_s_False_n_2.npy\n",
      "10 1494429946.392441\n",
      "saving, datasets/sg/pca/sg_mean-vec_vectors_hea_halb_w_2_s_False_n_10.npy\n",
      "40 1494429946.5768542\n",
      "saving, datasets/sg/pca/sg_mean-vec_vectors_hea_halb_w_2_s_False_n_40.npy\n",
      "datasets/sg/mean-vec/vectors/countries_cities_w_3_s_False.npy\n",
      "[2, 10, 40]\n",
      "2 1494429947.0329723\n",
      "saving, datasets/sg/pca/sg_mean-vec_vectors_countries_cities_w_3_s_False_n_2.npy\n",
      "10 1494429947.211143\n",
      "saving, datasets/sg/pca/sg_mean-vec_vectors_countries_cities_w_3_s_False_n_10.npy\n",
      "40 1494429947.389256\n",
      "saving, datasets/sg/pca/sg_mean-vec_vectors_countries_cities_w_3_s_False_n_40.npy\n",
      "datasets/sg/mean-vec/vectors/joogitee_sõidutee_w_3_s_False.npy\n",
      "[2, 10, 40]\n",
      "2 1494429947.8298438\n",
      "saving, datasets/sg/pca/sg_mean-vec_vectors_joogitee_sõidutee_w_3_s_False_n_2.npy\n",
      "10 1494429947.8696642\n",
      "saving, datasets/sg/pca/sg_mean-vec_vectors_joogitee_sõidutee_w_3_s_False_n_10.npy\n",
      "40 1494429947.9061718\n",
      "saving, datasets/sg/pca/sg_mean-vec_vectors_joogitee_sõidutee_w_3_s_False_n_40.npy\n",
      "datasets/sg/mean-vec/vectors/õun_puder_w_2_s_True.npy\n",
      "[2, 10, 40]\n",
      "2 1494429948.0012343\n",
      "saving, datasets/sg/pca/sg_mean-vec_vectors_õun_puder_w_2_s_True_n_2.npy\n",
      "10 1494429948.0208907\n",
      "saving, datasets/sg/pca/sg_mean-vec_vectors_õun_puder_w_2_s_True_n_10.npy\n",
      "40 1494429948.044861\n",
      "saving, datasets/sg/pca/sg_mean-vec_vectors_õun_puder_w_2_s_True_n_40.npy\n",
      "datasets/sg/mean-vec/vectors/Eesti_TallinnTartu_w_3_s_False.npy\n",
      "[2, 10, 40]\n",
      "2 1494429948.1032195\n",
      "saving, datasets/sg/pca/sg_mean-vec_vectors_Eesti_TallinnTartu_w_3_s_False_n_2.npy\n",
      "10 1494429948.2940302\n",
      "saving, datasets/sg/pca/sg_mean-vec_vectors_Eesti_TallinnTartu_w_3_s_False_n_10.npy\n",
      "40 1494429948.4883184\n",
      "saving, datasets/sg/pca/sg_mean-vec_vectors_Eesti_TallinnTartu_w_3_s_False_n_40.npy\n",
      "datasets/sg/mean-vec/vectors/õun_puder_w_4_s_True.npy\n",
      "[2, 10, 40]\n",
      "2 1494429948.9590514\n",
      "saving, datasets/sg/pca/sg_mean-vec_vectors_õun_puder_w_4_s_True_n_2.npy\n",
      "10 1494429948.9760592\n",
      "saving, datasets/sg/pca/sg_mean-vec_vectors_õun_puder_w_4_s_True_n_10.npy\n",
      "40 1494429948.9893663\n",
      "saving, datasets/sg/pca/sg_mean-vec_vectors_õun_puder_w_4_s_True_n_40.npy\n",
      "datasets/sg/mean-vec/vectors/Eesti_TallinnTartu_w_4_s_True.npy\n",
      "[2, 10, 40]\n",
      "2 1494429949.0225585\n",
      "saving, datasets/sg/pca/sg_mean-vec_vectors_Eesti_TallinnTartu_w_4_s_True_n_2.npy\n",
      "10 1494429949.1009285\n",
      "saving, datasets/sg/pca/sg_mean-vec_vectors_Eesti_TallinnTartu_w_4_s_True_n_10.npy\n",
      "40 1494429949.174746\n",
      "saving, datasets/sg/pca/sg_mean-vec_vectors_Eesti_TallinnTartu_w_4_s_True_n_40.npy\n",
      "datasets/sg/mean-vec/vectors/countries_cities_w_4_s_True.npy\n",
      "[2, 10, 40]\n",
      "2 1494429949.3652148\n",
      "saving, datasets/sg/pca/sg_mean-vec_vectors_countries_cities_w_4_s_True_n_2.npy\n",
      "10 1494429949.4502735\n",
      "saving, datasets/sg/pca/sg_mean-vec_vectors_countries_cities_w_4_s_True_n_10.npy\n",
      "40 1494429949.5356464\n",
      "saving, datasets/sg/pca/sg_mean-vec_vectors_countries_cities_w_4_s_True_n_40.npy\n",
      "datasets/sg/mean-vec/vectors/joogitee_sõidutee_w_4_s_True.npy\n",
      "[2, 10, 40]\n",
      "2 1494429949.7483888\n",
      "saving, datasets/sg/pca/sg_mean-vec_vectors_joogitee_sõidutee_w_4_s_True_n_2.npy\n",
      "10 1494429949.7634172\n",
      "saving, datasets/sg/pca/sg_mean-vec_vectors_joogitee_sõidutee_w_4_s_True_n_10.npy\n",
      "40 1494429949.7792046\n",
      "saving, datasets/sg/pca/sg_mean-vec_vectors_joogitee_sõidutee_w_4_s_True_n_40.npy\n",
      "datasets/sg/mean-vec/vectors/hea_halb_w_2_s_True.npy\n",
      "[2, 10, 40]\n",
      "2 1494429949.8219278\n",
      "saving, datasets/sg/pca/sg_mean-vec_vectors_hea_halb_w_2_s_True_n_2.npy\n",
      "10 1494429950.0095837\n",
      "saving, datasets/sg/pca/sg_mean-vec_vectors_hea_halb_w_2_s_True_n_10.npy\n",
      "40 1494429950.198524\n",
      "saving, datasets/sg/pca/sg_mean-vec_vectors_hea_halb_w_2_s_True_n_40.npy\n",
      "datasets/sg/mean-vec/vectors/õun_kivi_w_3_s_True.npy\n",
      "[2, 10, 40]\n",
      "2 1494429950.666141\n",
      "saving, datasets/sg/pca/sg_mean-vec_vectors_õun_kivi_w_3_s_True_n_2.npy\n",
      "10 1494429950.7181754\n",
      "saving, datasets/sg/pca/sg_mean-vec_vectors_õun_kivi_w_3_s_True_n_10.npy\n",
      "40 1494429950.7664602\n",
      "saving, datasets/sg/pca/sg_mean-vec_vectors_õun_kivi_w_3_s_True_n_40.npy\n",
      "datasets/sg/mean-vec/vectors/countries_cities_w_4_s_False.npy\n",
      "[2, 10, 40]\n",
      "2 1494429950.8993673\n",
      "saving, datasets/sg/pca/sg_mean-vec_vectors_countries_cities_w_4_s_False_n_2.npy\n",
      "10 1494429951.0887325\n",
      "saving, datasets/sg/pca/sg_mean-vec_vectors_countries_cities_w_4_s_False_n_10.npy\n",
      "40 1494429951.2781937\n",
      "saving, datasets/sg/pca/sg_mean-vec_vectors_countries_cities_w_4_s_False_n_40.npy\n",
      "datasets/sg/mean-vec/vectors/countries_cities_w_2_s_False.npy\n",
      "[2, 10, 40]\n",
      "2 1494429951.7394955\n",
      "saving, datasets/sg/pca/sg_mean-vec_vectors_countries_cities_w_2_s_False_n_2.npy\n",
      "10 1494429951.914027\n",
      "saving, datasets/sg/pca/sg_mean-vec_vectors_countries_cities_w_2_s_False_n_10.npy\n",
      "40 1494429952.0964568\n",
      "saving, datasets/sg/pca/sg_mean-vec_vectors_countries_cities_w_2_s_False_n_40.npy\n",
      "datasets/sg/mean-vec/vectors/Eesti_TallinnTartu_w_2_s_True.npy\n",
      "[2, 10, 40]\n",
      "2 1494429952.546337\n",
      "saving, datasets/sg/pca/sg_mean-vec_vectors_Eesti_TallinnTartu_w_2_s_True_n_2.npy\n",
      "10 1494429952.666369\n",
      "saving, datasets/sg/pca/sg_mean-vec_vectors_Eesti_TallinnTartu_w_2_s_True_n_10.npy\n",
      "40 1494429952.7882757\n",
      "saving, datasets/sg/pca/sg_mean-vec_vectors_Eesti_TallinnTartu_w_2_s_True_n_40.npy\n",
      "datasets/sg/mean-vec/vectors/Eesti_TallinnTartu_w_3_s_True.npy\n",
      "[2, 10, 40]\n",
      "2 1494429953.0999005\n",
      "saving, datasets/sg/pca/sg_mean-vec_vectors_Eesti_TallinnTartu_w_3_s_True_n_2.npy\n",
      "10 1494429953.1941388\n",
      "saving, datasets/sg/pca/sg_mean-vec_vectors_Eesti_TallinnTartu_w_3_s_True_n_10.npy\n",
      "40 1494429953.2908201\n",
      "saving, datasets/sg/pca/sg_mean-vec_vectors_Eesti_TallinnTartu_w_3_s_True_n_40.npy\n",
      "datasets/sg/mean-vec/vectors/joogitee_sõidutee_w_3_s_True.npy\n",
      "[2, 10, 40]\n",
      "2 1494429953.5475094\n",
      "saving, datasets/sg/pca/sg_mean-vec_vectors_joogitee_sõidutee_w_3_s_True_n_2.npy\n",
      "10 1494429953.5701373\n",
      "saving, datasets/sg/pca/sg_mean-vec_vectors_joogitee_sõidutee_w_3_s_True_n_10.npy\n",
      "40 1494429953.5915017\n",
      "saving, datasets/sg/pca/sg_mean-vec_vectors_joogitee_sõidutee_w_3_s_True_n_40.npy\n",
      "datasets/sg/mean-vec/vectors/Eesti_TallinnTartu_w_2_s_False.npy\n",
      "[2, 10, 40]\n",
      "2 1494429953.6519868\n",
      "saving, datasets/sg/pca/sg_mean-vec_vectors_Eesti_TallinnTartu_w_2_s_False_n_2.npy\n",
      "10 1494429953.8470323\n",
      "saving, datasets/sg/pca/sg_mean-vec_vectors_Eesti_TallinnTartu_w_2_s_False_n_10.npy\n",
      "40 1494429954.0433724\n",
      "saving, datasets/sg/pca/sg_mean-vec_vectors_Eesti_TallinnTartu_w_2_s_False_n_40.npy\n",
      "datasets/sg/mean-vec/vectors/countries_cities_w_2_s_True.npy\n",
      "[2, 10, 40]\n",
      "2 1494429954.5137696\n",
      "saving, datasets/sg/pca/sg_mean-vec_vectors_countries_cities_w_2_s_True_n_2.npy\n",
      "10 1494429954.6480694\n",
      "saving, datasets/sg/pca/sg_mean-vec_vectors_countries_cities_w_2_s_True_n_10.npy\n",
      "40 1494429954.7911944\n",
      "saving, datasets/sg/pca/sg_mean-vec_vectors_countries_cities_w_2_s_True_n_40.npy\n",
      "datasets/sg/mean-vec/vectors/õun_kivi_w_2_s_False.npy\n",
      "[2, 10, 40]\n",
      "2 1494429955.1377156\n",
      "saving, datasets/sg/pca/sg_mean-vec_vectors_õun_kivi_w_2_s_False_n_2.npy\n",
      "10 1494429955.2408147\n",
      "saving, datasets/sg/pca/sg_mean-vec_vectors_õun_kivi_w_2_s_False_n_10.npy\n",
      "40 1494429955.347805\n",
      "saving, datasets/sg/pca/sg_mean-vec_vectors_õun_kivi_w_2_s_False_n_40.npy\n",
      "datasets/sg/mean-vec/vectors/joogitee_sõidutee_w_2_s_True.npy\n",
      "[2, 10, 40]\n",
      "2 1494429955.6189823\n",
      "saving, datasets/sg/pca/sg_mean-vec_vectors_joogitee_sõidutee_w_2_s_True_n_2.npy\n",
      "10 1494429955.6432498\n",
      "saving, datasets/sg/pca/sg_mean-vec_vectors_joogitee_sõidutee_w_2_s_True_n_10.npy\n",
      "40 1494429955.669216\n",
      "saving, datasets/sg/pca/sg_mean-vec_vectors_joogitee_sõidutee_w_2_s_True_n_40.npy\n",
      "datasets/sg/mean-vec/vectors/joogitee_sõidutee_w_4_s_False.npy\n",
      "[2, 10, 40]\n",
      "2 1494429955.7344365\n",
      "saving, datasets/sg/pca/sg_mean-vec_vectors_joogitee_sõidutee_w_4_s_False_n_2.npy\n",
      "10 1494429955.7693136\n",
      "saving, datasets/sg/pca/sg_mean-vec_vectors_joogitee_sõidutee_w_4_s_False_n_10.npy\n",
      "40 1494429955.806303\n",
      "saving, datasets/sg/pca/sg_mean-vec_vectors_joogitee_sõidutee_w_4_s_False_n_40.npy\n"
     ]
    }
   ],
   "source": [
    "n_range = [2,10,40]\n",
    "\n",
    "for feature_file in feature_files:\n",
    "    print(feature_file)\n",
    "\n",
    "    matrix = np.load(feature_file)\n",
    "    if 'tfidf' in feature_file:\n",
    "        matrix = matrix.item()\n",
    "    print(n_range)\n",
    "    for n in n_range:\n",
    "        print(n, time.time())\n",
    "        model = PCA(n_components=n)\n",
    "        filename = pca_filename(feature_file, n=n)\n",
    "\n",
    "#         model = TruncatedSVD(n_components=n)\n",
    "#         filename = lsi_filename(feature_file, n=n)\n",
    "        print('saving,', filename)\n",
    "        X_reduced = model.fit_transform(matrix)\n",
    "        np.save(filename, X_reduced)"
   ]
  },
  {
   "cell_type": "code",
   "execution_count": null,
   "metadata": {
    "collapsed": true,
    "deletable": true,
    "editable": true
   },
   "outputs": [],
   "source": [
    "for feature_file in feature_files:\n",
    "    print(feature_file)\n",
    "\n",
    "    matrix = np.load(feature_file)\n",
    "    if 'tfidf' in feature_file:\n",
    "        matrix = matrix.item()\n",
    "    n_range = [2,10,40]\n",
    "    print(n_range)\n",
    "    for n in n_range:\n",
    "        print(n, time.time())\n",
    "        pca = PCA(n_components=n)\n",
    "        X_reduced = pca.fit_transform(matrix)\n",
    "        np.save(pca_filename(feature_file, n=n), X_reduced)"
   ]
  },
  {
   "cell_type": "code",
   "execution_count": 32,
   "metadata": {
    "collapsed": false,
    "deletable": true,
    "editable": true
   },
   "outputs": [
    {
     "data": {
      "text/plain": [
       "<1884x5238 sparse matrix of type '<class 'numpy.float64'>'\n",
       "\twith 15469 stored elements in Compressed Sparse Row format>"
      ]
     },
     "execution_count": 32,
     "metadata": {},
     "output_type": "execute_result"
    }
   ],
   "source": [
    "matrix.item()"
   ]
  },
  {
   "cell_type": "code",
   "execution_count": null,
   "metadata": {
    "collapsed": true,
    "deletable": true,
    "editable": true
   },
   "outputs": [],
   "source": []
  }
 ],
 "metadata": {
  "kernelspec": {
   "display_name": "Python [conda root]",
   "language": "python",
   "name": "conda-root-py"
  },
  "language_info": {
   "codemirror_mode": {
    "name": "ipython",
    "version": 3
   },
   "file_extension": ".py",
   "mimetype": "text/x-python",
   "name": "python",
   "nbconvert_exporter": "python",
   "pygments_lexer": "ipython3",
   "version": "3.5.2"
  }
 },
 "nbformat": 4,
 "nbformat_minor": 2
}
