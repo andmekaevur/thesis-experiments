{
 "cells": [
  {
   "cell_type": "code",
   "execution_count": 2,
   "metadata": {
    "collapsed": true,
    "deletable": true,
    "editable": true
   },
   "outputs": [],
   "source": [
    "from gensim.models.keyedvectors import KeyedVectors\n",
    "import estnltk\n",
    "import pandas as pd\n",
    "import numpy as np\n",
    "from tqdm import tqdm\n",
    "import itertools\n",
    "from sklearn.metrics.pairwise import cosine_similarity, cosine_distances\n",
    "import operator\n",
    "import matplotlib.pyplot as plt"
   ]
  },
  {
   "cell_type": "code",
   "execution_count": 6,
   "metadata": {
    "collapsed": false,
    "deletable": true,
    "editable": true
   },
   "outputs": [],
   "source": [
    "model_cbow = KeyedVectors.load_word2vec_format('word2vec-models/lemmas.cbow.s100.w2v.bin', binary=True)\n",
    "model_sg = KeyedVectors.load_word2vec_format('word2vec-models/lemmas.sg.s100.w2v.bin', binary=True)"
   ]
  },
  {
   "cell_type": "code",
   "execution_count": null,
   "metadata": {
    "collapsed": true,
    "deletable": true,
    "editable": true
   },
   "outputs": [],
   "source": [
    "def sentence_to_contexts(sentence, symmetric, window_size):\n",
    "    sentence_text = estnltk.Text(sentence)\n",
    "    df = sentence_text.get.word_texts.lemmas.postags.postag_descriptions.as_dataframe\n",
    "    df = df[(df.postags != 'Z') & (df.postags != 'J')].reset_index()\n",
    "    indexes = df.loc[df.lemmas == 'tee'].index\n",
    "    results = []\n",
    "    for index in indexes:\n",
    "        left_context = \" \".join(df.word_texts[max(index-window_size,0):index])  \n",
    "        right_context = \" \".join(df.word_texts[index+1:index+window_size+1])\n",
    "        word_context = \"{} {}\".format(left_context, right_context).strip().lower()\n",
    "        lemma_left_context = \" \".join(df.lemmas[max(index-window_size,0):index])  \n",
    "        lemma_right_context = \" \".join(df.lemmas[index+1:index+window_size+1])\n",
    "        lemma_context = \"{} {}\".format(lemma_left_context, lemma_right_context).strip().lower()\n",
    "        if symmetric and (len(left_context.split()) != window_size or len(left_context.split()) != window_size):\n",
    "            continue\n",
    "        try:\n",
    "            model[lemma_context.split()]\n",
    "            results.append({'word_context': word_context, 'lemma_context': lemma_context})\n",
    "        except KeyError:\n",
    "            print('no key for', lemma_context.split())\n",
    "\n",
    "    return results\n",
    "\n",
    "\n",
    "def sentences_to_contexts(sentences, symmetric, window_size):\n",
    "    word_contexts = []\n",
    "    lemma_contexts = []\n",
    "    for sentence in sentences:\n",
    "#         print(sentence)\n",
    "        contexts = sentence_to_contexts(sentence, symmetric=symmetric, window_size=window_size)\n",
    "        for context in contexts:\n",
    "            word_contexts.append(context['word_context'])\n",
    "            lemma_contexts.append(context['lemma_context'])\n",
    "    return {'word_contexts': word_contexts, 'lemma_contexts': lemma_contexts}\n",
    "\n",
    "def generate_datasets(symmetric, window_size):\n",
    "    tee_soidu_contexts = sentences_to_contexts(tee_soidu, symmetric=symmetric, window_size=window_size)\n",
    "    tee_jook_contexts = sentences_to_contexts(tee_jook, symmetric=symmetric, window_size=window_size)\n",
    "    tee_soidu_lemma_contexts = tee_soidu_contexts['lemma_contexts']\n",
    "    print('tee_soidu_lemma_contexts', len(tee_soidu_lemma_contexts))\n",
    "    tee_soidu_word_contexts = tee_soidu_contexts['word_contexts']\n",
    "    tee_jook_lemma_contexts = tee_jook_contexts['lemma_contexts']\n",
    "    print('tee_jook_lemma_contexts', len(tee_jook_lemma_contexts))\n",
    "    tee_jook_word_contexts = tee_jook_contexts['word_contexts']\n",
    "    tee_word_contexts = list(tee_soidu_word_contexts)\n",
    "    tee_word_contexts.extend(tee_jook_word_contexts)\n",
    "    tee_lemma_contexts = list(tee_soidu_lemma_contexts)\n",
    "    print(len(tee_lemma_contexts))\n",
    "    tee_lemma_contexts.extend(tee_jook_lemma_contexts)\n",
    "    print(len(tee_lemma_contexts))\n",
    "    return {'tee_word_contexts': tee_word_contexts, 'tee_lemma_contexts': tee_lemma_contexts}"
   ]
  },
  {
   "cell_type": "code",
   "execution_count": null,
   "metadata": {
    "collapsed": true,
    "deletable": true,
    "editable": true
   },
   "outputs": [],
   "source": []
  }
 ],
 "metadata": {
  "kernelspec": {
   "display_name": "Python [default]",
   "language": "python",
   "name": "python3"
  },
  "language_info": {
   "codemirror_mode": {
    "name": "ipython",
    "version": 3
   },
   "file_extension": ".py",
   "mimetype": "text/x-python",
   "name": "python",
   "nbconvert_exporter": "python",
   "pygments_lexer": "ipython3",
   "version": "3.5.2"
  }
 },
 "nbformat": 4,
 "nbformat_minor": 2
}
