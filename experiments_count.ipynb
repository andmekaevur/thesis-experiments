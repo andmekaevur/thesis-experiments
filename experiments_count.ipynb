{
 "cells": [
  {
   "cell_type": "code",
   "execution_count": 32,
   "metadata": {
    "collapsed": true,
    "deletable": true,
    "editable": true
   },
   "outputs": [],
   "source": [
    "from glob import glob\n",
    "import os"
   ]
  },
  {
   "cell_type": "code",
   "execution_count": 17,
   "metadata": {
    "collapsed": false,
    "deletable": true,
    "editable": true
   },
   "outputs": [],
   "source": [
    "mds = glob('datasets/mds/*')"
   ]
  },
  {
   "cell_type": "code",
   "execution_count": 16,
   "metadata": {
    "collapsed": true,
    "deletable": true,
    "editable": true
   },
   "outputs": [],
   "source": [
    "pca = glob('datasets/pca/*')"
   ]
  },
  {
   "cell_type": "code",
   "execution_count": 14,
   "metadata": {
    "collapsed": false,
    "deletable": true,
    "editable": true
   },
   "outputs": [
    {
     "name": "stdout",
     "output_type": "stream",
     "text": [
      "datasets/mds/wmd_ämber_pang_w_4_s_False_n_10.npy\n",
      "datasets/mds/wmd_countries_cities_w_2_s_True_n_40.npy\n",
      "datasets/mds/wmd_õun_kivi_w_3_s_True_n_10.npy\n",
      "datasets/mds/wmd_countries_cities_w_2_s_True_n_20.npy\n",
      "datasets/mds/wmd_õun_banaan_w_3_s_False_n_40.npy\n",
      "datasets/mds/wmd_õun_puder_w_4_s_True_n_10.npy\n",
      "datasets/mds/wmd_õun_banaan_w_4_s_False_n_40.npy\n",
      "datasets/mds/wmd_ämber_pang_w_4_s_False_n_2.npy\n",
      "datasets/mds/wmd_Eesti_TallinnTartu_w_4_s_False_n_40.npy\n",
      "datasets/mds/wmd_õun_banaan_w_4_s_False_n_20.npy\n",
      "datasets/mds/wmd_õun_puder_w_2_s_False_n_20.npy\n",
      "datasets/mds/wmd_õun_puder_w_4_s_True_n_40.npy\n",
      "datasets/mds/wmd_õun_puder_w_2_s_False_n_40.npy\n"
     ]
    }
   ],
   "source": [
    "for file in mds:\n",
    "    if 'wmd' in file:\n",
    "        print(file)"
   ]
  },
  {
   "cell_type": "code",
   "execution_count": 20,
   "metadata": {
    "collapsed": false,
    "deletable": true,
    "editable": true
   },
   "outputs": [
    {
     "data": {
      "text/plain": [
       "['datasets/pca/mean-vec_Eesti_TallinnTartu_w_2_s_False_n_10.npy',\n",
       " 'datasets/pca/mean-vec_ämber_pang_w_3_s_False_n_2.npy',\n",
       " 'datasets/pca/mean-vec_hea_halb_w_3_s_True_n_40.npy',\n",
       " 'datasets/pca/mean-vec_countries_cities_w_4_s_False_n_10.npy',\n",
       " 'datasets/pca/mean-vec_joogitee_sõidutee_w_2_s_True_n_10.npy',\n",
       " 'datasets/pca/mean-vec_õun_kivi_w_2_s_True_n_2.npy',\n",
       " 'datasets/pca/mean-vec_joogitee_sõidutee_w_3_s_True_n_40.npy',\n",
       " 'datasets/pca/mean-vec_ämber_pang_w_4_s_True_n_10.npy',\n",
       " 'datasets/pca/mean-vec_ämber_pang_w_2_s_True_n_40.npy',\n",
       " 'datasets/pca/mean-vec_hea_halb_w_4_s_False_n_10.npy',\n",
       " 'datasets/pca/mean-vec_Eesti_TallinnTartu_w_2_s_True_n_2.npy',\n",
       " 'datasets/pca/mean-vec_õun_banaan_w_4_s_True_n_2.npy',\n",
       " 'datasets/pca/mean-vec_õun_puder_w_2_s_False_n_10.npy',\n",
       " 'datasets/pca/mean-vec_joogitee_sõidutee_w_3_s_False_n_2.npy',\n",
       " 'datasets/pca/mean-vec_ämber_pang_w_3_s_False_n_10.npy',\n",
       " 'datasets/pca/mean-vec_joogitee_sõidutee_w_2_s_False_n_10.npy',\n",
       " 'datasets/pca/mean-vec_õun_kivi_w_4_s_True_n_40.npy',\n",
       " 'datasets/pca/mean-vec_hea_halb_w_3_s_False_n_2.npy',\n",
       " 'datasets/pca/mean-vec_Eesti_TallinnTartu_w_3_s_True_n_10.npy',\n",
       " 'datasets/pca/mean-vec_õun_puder_w_3_s_False_n_2.npy',\n",
       " 'datasets/pca/mean-vec_õun_kivi_w_3_s_True_n_40.npy',\n",
       " 'datasets/pca/mean-vec_õun_banaan_w_2_s_True_n_10.npy',\n",
       " 'datasets/pca/mean-vec_hea_halb_w_3_s_True_n_10.npy',\n",
       " 'datasets/pca/mean-vec_countries_cities_w_3_s_True_n_2.npy',\n",
       " 'datasets/pca/mean-vec_õun_kivi_w_4_s_False_n_10.npy',\n",
       " 'datasets/pca/mean-vec_õun_kivi_w_3_s_False_n_2.npy',\n",
       " 'datasets/pca/mean-vec_ämber_pang_w_2_s_True_n_10.npy',\n",
       " 'datasets/pca/mean-vec_hea_halb_w_2_s_True_n_40.npy',\n",
       " 'datasets/pca/mean-vec_Eesti_TallinnTartu_w_4_s_False_n_2.npy',\n",
       " 'datasets/pca/mean-vec_countries_cities_w_2_s_False_n_40.npy',\n",
       " 'datasets/pca/mean-vec_countries_cities_w_3_s_True_n_10.npy',\n",
       " 'datasets/pca/mean-vec_joogitee_sõidutee_w_2_s_False_n_2.npy',\n",
       " 'datasets/pca/mean-vec_joogitee_sõidutee_w_2_s_True_n_40.npy',\n",
       " 'datasets/pca/mean-vec_joogitee_sõidutee_w_3_s_False_n_10.npy',\n",
       " 'datasets/pca/mean-vec_õun_banaan_w_2_s_True_n_2.npy',\n",
       " 'datasets/pca/mean-vec_Eesti_TallinnTartu_w_2_s_False_n_2.npy',\n",
       " 'datasets/pca/mean-vec_Eesti_TallinnTartu_w_3_s_True_n_2.npy',\n",
       " 'datasets/pca/mean-vec_Eesti_TallinnTartu_w_3_s_False_n_10.npy',\n",
       " 'datasets/pca/mean-vec_Eesti_TallinnTartu_w_4_s_True_n_10.npy',\n",
       " 'datasets/pca/mean-vec_Eesti_TallinnTartu_w_2_s_True_n_40.npy',\n",
       " 'datasets/pca/mean-vec_õun_kivi_w_3_s_False_n_40.npy',\n",
       " 'datasets/pca/mean-vec_õun_puder_w_2_s_True_n_40.npy',\n",
       " 'datasets/pca/mean-vec_õun_puder_w_4_s_False_n_40.npy',\n",
       " 'datasets/pca/mean-vec_hea_halb_w_2_s_True_n_10.npy',\n",
       " 'datasets/pca/mean-vec_hea_halb_w_4_s_True_n_40.npy',\n",
       " 'datasets/pca/mean-vec_õun_banaan_w_4_s_False_n_10.npy',\n",
       " 'datasets/pca/mean-vec_countries_cities_w_4_s_True_n_2.npy',\n",
       " 'datasets/pca/mean-vec_ämber_pang_w_4_s_True_n_2.npy',\n",
       " 'datasets/pca/mean-vec_countries_cities_w_4_s_False_n_2.npy',\n",
       " 'datasets/pca/mean-vec_joogitee_sõidutee_w_3_s_False_n_40.npy',\n",
       " 'datasets/pca/mean-vec_joogitee_sõidutee_w_3_s_True_n_2.npy',\n",
       " 'datasets/pca/mean-vec_õun_puder_w_3_s_True_n_10.npy',\n",
       " 'datasets/pca/mean-vec_joogitee_sõidutee_w_2_s_True_n_2.npy',\n",
       " 'datasets/pca/mean-vec_hea_halb_w_2_s_False_n_10.npy',\n",
       " 'datasets/pca/mean-vec_ämber_pang_w_3_s_True_n_40.npy',\n",
       " 'datasets/pca/mean-vec_countries_cities_w_4_s_False_n_40.npy',\n",
       " 'datasets/pca/mean-vec_Eesti_TallinnTartu_w_4_s_False_n_10.npy',\n",
       " 'datasets/pca/mean-vec_õun_banaan_w_2_s_False_n_10.npy',\n",
       " 'datasets/pca/mean-vec_countries_cities_w_2_s_False_n_2.npy',\n",
       " 'datasets/pca/mean-vec_Eesti_TallinnTartu_w_2_s_False_n_40.npy',\n",
       " 'datasets/pca/mean-vec_õun_banaan_w_3_s_False_n_2.npy',\n",
       " 'datasets/pca/mean-vec_Eesti_TallinnTartu_w_3_s_False_n_40.npy',\n",
       " 'datasets/pca/mean-vec_Eesti_TallinnTartu_w_4_s_True_n_40.npy',\n",
       " 'datasets/pca/mean-vec_õun_banaan_w_3_s_True_n_2.npy',\n",
       " 'datasets/pca/mean-vec_hea_halb_w_2_s_False_n_2.npy',\n",
       " 'datasets/pca/mean-vec_õun_kivi_w_4_s_True_n_10.npy',\n",
       " 'datasets/pca/mean-vec_õun_banaan_w_3_s_True_n_10.npy',\n",
       " 'datasets/pca/mean-vec_joogitee_sõidutee_w_4_s_False_n_10.npy',\n",
       " 'datasets/pca/mean-vec_õun_banaan_w_3_s_False_n_40.npy',\n",
       " 'datasets/pca/mean-vec_ämber_pang_w_2_s_False_n_40.npy',\n",
       " 'datasets/pca/mean-vec_Eesti_TallinnTartu_w_3_s_True_n_40.npy',\n",
       " 'datasets/pca/mean-vec_hea_halb_w_2_s_True_n_2.npy',\n",
       " 'datasets/pca/mean-vec_õun_kivi_w_3_s_True_n_10.npy',\n",
       " 'datasets/pca/mean-vec_õun_puder_w_2_s_True_n_10.npy',\n",
       " 'datasets/pca/mean-vec_õun_puder_w_2_s_False_n_40.npy',\n",
       " 'datasets/pca/mean-vec_countries_cities_w_2_s_True_n_2.npy',\n",
       " 'datasets/pca/mean-vec_õun_kivi_w_2_s_False_n_40.npy',\n",
       " 'datasets/pca/mean-vec_countries_cities_w_3_s_True_n_40.npy',\n",
       " 'datasets/pca/mean-vec_õun_banaan_w_2_s_False_n_40.npy',\n",
       " 'datasets/pca/mean-vec_joogitee_sõidutee_w_4_s_False_n_2.npy',\n",
       " 'datasets/pca/mean-vec_ämber_pang_w_3_s_True_n_2.npy',\n",
       " 'datasets/pca/mean-vec_õun_puder_w_3_s_True_n_2.npy',\n",
       " 'datasets/pca/mean-vec_countries_cities_w_3_s_False_n_10.npy',\n",
       " 'datasets/pca/mean-vec_countries_cities_w_2_s_False_n_10.npy',\n",
       " 'datasets/pca/mean-vec_ämber_pang_w_3_s_False_n_40.npy',\n",
       " 'datasets/pca/mean-vec_õun_puder_w_2_s_True_n_2.npy',\n",
       " 'datasets/pca/mean-vec_õun_kivi_w_2_s_True_n_40.npy',\n",
       " 'datasets/pca/mean-vec_õun_kivi_w_3_s_False_n_10.npy',\n",
       " 'datasets/pca/mean-vec_joogitee_sõidutee_w_4_s_True_n_10.npy',\n",
       " 'datasets/pca/mean-vec_õun_puder_w_4_s_False_n_10.npy',\n",
       " 'datasets/pca/mean-vec_joogitee_sõidutee_w_4_s_True_n_40.npy',\n",
       " 'datasets/pca/mean-vec_ämber_pang_w_4_s_False_n_40.npy',\n",
       " 'datasets/pca/mean-vec_hea_halb_w_3_s_False_n_40.npy',\n",
       " 'datasets/pca/mean-vec_joogitee_sõidutee_w_4_s_False_n_40.npy',\n",
       " 'datasets/pca/mean-vec_õun_puder_w_4_s_False_n_2.npy',\n",
       " 'datasets/pca/mean-vec_õun_kivi_w_4_s_False_n_2.npy',\n",
       " 'datasets/pca/mean-vec_countries_cities_w_3_s_False_n_2.npy',\n",
       " 'datasets/pca/mean-vec_õun_kivi_w_4_s_True_n_2.npy',\n",
       " 'datasets/pca/mean-vec_õun_kivi_w_3_s_True_n_2.npy',\n",
       " 'datasets/pca/mean-vec_hea_halb_w_4_s_False_n_40.npy',\n",
       " 'datasets/pca/mean-vec_õun_kivi_w_4_s_False_n_40.npy',\n",
       " 'datasets/pca/mean-vec_õun_puder_w_3_s_False_n_40.npy',\n",
       " 'datasets/pca/mean-vec_õun_puder_w_4_s_True_n_2.npy',\n",
       " 'datasets/pca/mean-vec_õun_banaan_w_4_s_True_n_10.npy',\n",
       " 'datasets/pca/mean-vec_ämber_pang_w_4_s_True_n_40.npy',\n",
       " 'datasets/pca/mean-vec_õun_banaan_w_3_s_True_n_40.npy',\n",
       " 'datasets/pca/mean-vec_hea_halb_w_4_s_False_n_2.npy',\n",
       " 'datasets/pca/mean-vec_õun_kivi_w_2_s_False_n_2.npy',\n",
       " 'datasets/pca/mean-vec_joogitee_sõidutee_w_4_s_True_n_2.npy',\n",
       " 'datasets/pca/mean-vec_ämber_pang_w_3_s_True_n_10.npy',\n",
       " 'datasets/pca/mean-vec_ämber_pang_w_2_s_True_n_2.npy',\n",
       " 'datasets/pca/mean-vec_õun_puder_w_3_s_True_n_40.npy',\n",
       " 'datasets/pca/mean-vec_õun_puder_w_4_s_True_n_10.npy',\n",
       " 'datasets/pca/mean-vec_ämber_pang_w_4_s_False_n_2.npy',\n",
       " 'datasets/pca/mean-vec_õun_banaan_w_3_s_False_n_10.npy',\n",
       " 'datasets/pca/mean-vec_ämber_pang_w_4_s_False_n_10.npy',\n",
       " 'datasets/pca/mean-vec_countries_cities_w_3_s_False_n_40.npy',\n",
       " 'datasets/pca/mean-vec_Eesti_TallinnTartu_w_2_s_True_n_10.npy',\n",
       " 'datasets/pca/mean-vec_countries_cities_w_2_s_True_n_10.npy',\n",
       " 'datasets/pca/mean-vec_joogitee_sõidutee_w_3_s_True_n_10.npy',\n",
       " 'datasets/pca/mean-vec_õun_puder_w_3_s_False_n_10.npy',\n",
       " 'datasets/pca/mean-vec_õun_kivi_w_2_s_False_n_10.npy',\n",
       " 'datasets/pca/mean-vec_õun_banaan_w_4_s_True_n_40.npy',\n",
       " 'datasets/pca/mean-vec_countries_cities_w_2_s_True_n_40.npy',\n",
       " 'datasets/pca/mean-vec_joogitee_sõidutee_w_2_s_False_n_40.npy',\n",
       " 'datasets/pca/mean-vec_Eesti_TallinnTartu_w_3_s_False_n_2.npy',\n",
       " 'datasets/pca/mean-vec_Eesti_TallinnTartu_w_4_s_False_n_40.npy',\n",
       " 'datasets/pca/mean-vec_hea_halb_w_4_s_True_n_2.npy',\n",
       " 'datasets/pca/mean-vec_õun_puder_w_4_s_True_n_40.npy',\n",
       " 'datasets/pca/mean-vec_õun_puder_w_2_s_False_n_2.npy',\n",
       " 'datasets/pca/mean-vec_hea_halb_w_3_s_False_n_10.npy',\n",
       " 'datasets/pca/mean-vec_hea_halb_w_4_s_True_n_10.npy',\n",
       " 'datasets/pca/mean-vec_countries_cities_w_4_s_True_n_10.npy',\n",
       " 'datasets/pca/mean-vec_Eesti_TallinnTartu_w_4_s_True_n_2.npy',\n",
       " 'datasets/pca/mean-vec_hea_halb_w_3_s_True_n_2.npy',\n",
       " 'datasets/pca/mean-vec_countries_cities_w_4_s_True_n_40.npy',\n",
       " 'datasets/pca/mean-vec_hea_halb_w_2_s_False_n_40.npy',\n",
       " 'datasets/pca/mean-vec_õun_banaan_w_4_s_False_n_2.npy',\n",
       " 'datasets/pca/mean-vec_õun_banaan_w_4_s_False_n_40.npy',\n",
       " 'datasets/pca/mean-vec_ämber_pang_w_2_s_False_n_10.npy',\n",
       " 'datasets/pca/mean-vec_õun_kivi_w_2_s_True_n_10.npy',\n",
       " 'datasets/pca/mean-vec_ämber_pang_w_2_s_False_n_2.npy',\n",
       " 'datasets/pca/mean-vec_õun_banaan_w_2_s_False_n_2.npy',\n",
       " 'datasets/pca/mean-vec_õun_banaan_w_2_s_True_n_40.npy']"
      ]
     },
     "execution_count": 20,
     "metadata": {},
     "output_type": "execute_result"
    }
   ],
   "source": [
    "pca"
   ]
  },
  {
   "cell_type": "code",
   "execution_count": 19,
   "metadata": {
    "collapsed": false,
    "deletable": true,
    "editable": true
   },
   "outputs": [],
   "source": [
    "for file in pca:\n",
    "    if 'wdm' in file:\n",
    "        print(file)"
   ]
  },
  {
   "cell_type": "code",
   "execution_count": 21,
   "metadata": {
    "collapsed": true,
    "deletable": true,
    "editable": true
   },
   "outputs": [],
   "source": [
    "agglo_files = glob('datasets/labels/agglomerative/*')"
   ]
  },
  {
   "cell_type": "code",
   "execution_count": 23,
   "metadata": {
    "collapsed": false,
    "deletable": true,
    "editable": true
   },
   "outputs": [
    {
     "name": "stdout",
     "output_type": "stream",
     "text": [
      "datasets/labels/agglomerative/wmd_ämber_pang_w_2_s_True_n_40.npy\n",
      "datasets/labels/agglomerative/wmd_joogitee_sõidutee_w_3_s_False_n_2.npy\n",
      "datasets/labels/agglomerative/wmd_ämber_pang_w_3_s_False_n_40.npy\n",
      "datasets/labels/agglomerative/wmd_õun_puder_w_3_s_True_n_40.npy\n",
      "datasets/labels/agglomerative/wmd_Eesti_TallinnTartu_w_4_s_True_n_40.npy\n",
      "datasets/labels/agglomerative/wmd_õun_puder_w_2_s_False_n_2.npy\n",
      "datasets/labels/agglomerative/wmd_Eesti_TallinnTartu_w_3_s_True_n_40.npy\n",
      "datasets/labels/agglomerative/wmd_joogitee_sõidutee_w_2_s_False_n_40.npy\n",
      "datasets/labels/agglomerative/wmd_Eesti_TallinnTartu_w_4_s_True_n_2.npy\n",
      "datasets/labels/agglomerative/wmd_ämber_pang_w_4_s_False_n_10.npy\n",
      "datasets/labels/agglomerative/wmd_õun_banaan_w_2_s_True_n_10.npy\n",
      "datasets/labels/agglomerative/wmd_countries_cities_w_2_s_True_n_40.npy\n",
      "datasets/labels/agglomerative/wmd_õun_banaan_w_4_s_True_n_40.npy\n",
      "datasets/labels/agglomerative/wmd_ämber_pang_w_4_s_True_n_10.npy\n",
      "datasets/labels/agglomerative/wmd_õun_banaan_w_2_s_False_n_10.npy\n",
      "datasets/labels/agglomerative/wmd_hea_halb_w_4_s_False_n_2.npy\n",
      "datasets/labels/agglomerative/wmd_õun_kivi_w_2_s_True_n_10.npy\n",
      "datasets/labels/agglomerative/wmd_õun_puder_w_3_s_False_n_10.npy\n",
      "datasets/labels/agglomerative/wmd_õun_puder_w_2_s_False_n_10.npy\n",
      "datasets/labels/agglomerative/wmd_countries_cities_w_3_s_False_n_2.npy\n",
      "datasets/labels/agglomerative/wmd_õun_kivi_w_4_s_True_n_2.npy\n",
      "datasets/labels/agglomerative/wmd_õun_kivi_w_3_s_False_n_40.npy\n",
      "datasets/labels/agglomerative/wmd_hea_halb_w_2_s_False_n_10.npy\n",
      "datasets/labels/agglomerative/wmd_õun_kivi_w_3_s_True_n_10.npy\n",
      "datasets/labels/agglomerative/wmd_õun_kivi_w_2_s_True_n_40.npy\n",
      "datasets/labels/agglomerative/wmd_countries_cities_w_2_s_True_n_10.npy\n",
      "datasets/labels/agglomerative/wmd_joogitee_sõidutee_w_4_s_False_n_10.npy\n",
      "datasets/labels/agglomerative/wmd_õun_banaan_w_4_s_False_n_10.npy\n",
      "datasets/labels/agglomerative/wmd_joogitee_sõidutee_w_3_s_False_n_40.npy\n",
      "datasets/labels/agglomerative/wmd_Eesti_TallinnTartu_w_3_s_False_n_40.npy\n",
      "datasets/labels/agglomerative/wmd_õun_puder_w_4_s_False_n_10.npy\n",
      "datasets/labels/agglomerative/wmd_joogitee_sõidutee_w_3_s_True_n_40.npy\n",
      "datasets/labels/agglomerative/wmd_ämber_pang_w_4_s_True_n_2.npy\n",
      "datasets/labels/agglomerative/wmd_õun_puder_w_2_s_True_n_10.npy\n",
      "datasets/labels/agglomerative/wmd_õun_kivi_w_3_s_False_n_10.npy\n",
      "datasets/labels/agglomerative/wmd_countries_cities_w_3_s_False_n_10.npy\n",
      "datasets/labels/agglomerative/wmd_countries_cities_w_3_s_True_n_40.npy\n",
      "datasets/labels/agglomerative/wmd_hea_halb_w_2_s_False_n_2.npy\n",
      "datasets/labels/agglomerative/wmd_õun_kivi_w_2_s_False_n_40.npy\n",
      "datasets/labels/agglomerative/wmd_ämber_pang_w_2_s_True_n_2.npy\n",
      "datasets/labels/agglomerative/wmd_õun_puder_w_2_s_True_n_2.npy\n",
      "datasets/labels/agglomerative/wmd_hea_halb_w_3_s_False_n_2.npy\n",
      "datasets/labels/agglomerative/wmd_õun_banaan_w_2_s_True_n_40.npy\n",
      "datasets/labels/agglomerative/wmd_õun_kivi_w_2_s_True_n_2.npy\n",
      "datasets/labels/agglomerative/wmd_hea_halb_w_4_s_True_n_10.npy\n",
      "datasets/labels/agglomerative/wmd_õun_kivi_w_3_s_True_n_2.npy\n",
      "datasets/labels/agglomerative/wmd_õun_kivi_w_4_s_False_n_10.npy\n",
      "datasets/labels/agglomerative/wmd_õun_banaan_w_2_s_False_n_40.npy\n",
      "datasets/labels/agglomerative/wmd_countries_cities_w_2_s_False_n_2.npy\n",
      "datasets/labels/agglomerative/wmd_countries_cities_w_4_s_False_n_40.npy\n",
      "datasets/labels/agglomerative/wmd_countries_cities_w_3_s_False_n_40.npy\n",
      "datasets/labels/agglomerative/wmd_ämber_pang_w_3_s_True_n_40.npy\n",
      "datasets/labels/agglomerative/wmd_õun_banaan_w_2_s_False_n_2.npy\n",
      "datasets/labels/agglomerative/wmd_countries_cities_w_2_s_False_n_40.npy\n",
      "datasets/labels/agglomerative/wmd_õun_banaan_w_3_s_False_n_40.npy\n",
      "datasets/labels/agglomerative/wmd_joogitee_sõidutee_w_2_s_True_n_10.npy\n",
      "datasets/labels/agglomerative/wmd_õun_puder_w_2_s_True_n_40.npy\n",
      "datasets/labels/agglomerative/wmd_õun_banaan_w_4_s_True_n_2.npy\n",
      "datasets/labels/agglomerative/wmd_joogitee_sõidutee_w_2_s_True_n_40.npy\n",
      "datasets/labels/agglomerative/wmd_õun_puder_w_4_s_True_n_10.npy\n",
      "datasets/labels/agglomerative/wmd_Eesti_TallinnTartu_w_2_s_True_n_40.npy\n",
      "datasets/labels/agglomerative/wmd_joogitee_sõidutee_w_4_s_False_n_40.npy\n",
      "datasets/labels/agglomerative/wmd_hea_halb_w_3_s_True_n_10.npy\n",
      "datasets/labels/agglomerative/wmd_õun_banaan_w_4_s_False_n_2.npy\n",
      "datasets/labels/agglomerative/wmd_õun_puder_w_3_s_True_n_10.npy\n",
      "datasets/labels/agglomerative/wmd_hea_halb_w_2_s_True_n_10.npy\n",
      "datasets/labels/agglomerative/wmd_õun_kivi_w_4_s_True_n_40.npy\n",
      "datasets/labels/agglomerative/wmd_õun_banaan_w_4_s_False_n_40.npy\n",
      "datasets/labels/agglomerative/wmd_hea_halb_w_4_s_False_n_40.npy\n",
      "datasets/labels/agglomerative/wmd_ämber_pang_w_4_s_False_n_2.npy\n",
      "datasets/labels/agglomerative/wmd_ämber_pang_w_4_s_True_n_40.npy\n",
      "datasets/labels/agglomerative/wmd_Eesti_TallinnTartu_w_4_s_False_n_40.npy\n",
      "datasets/labels/agglomerative/wmd_õun_kivi_w_3_s_False_n_2.npy\n",
      "datasets/labels/agglomerative/wmd_Eesti_TallinnTartu_w_4_s_False_n_2.npy\n",
      "datasets/labels/agglomerative/wmd_õun_banaan_w_3_s_True_n_2.npy\n",
      "datasets/labels/agglomerative/wmd_õun_puder_w_4_s_False_n_2.npy\n",
      "datasets/labels/agglomerative/wmd_Eesti_TallinnTartu_w_3_s_False_n_10.npy\n",
      "datasets/labels/agglomerative/wmd_countries_cities_w_4_s_False_n_10.npy\n",
      "datasets/labels/agglomerative/wmd_õun_kivi_w_3_s_True_n_40.npy\n",
      "datasets/labels/agglomerative/wmd_hea_halb_w_2_s_False_n_40.npy\n",
      "datasets/labels/agglomerative/wmd_õun_puder_w_4_s_True_n_2.npy\n",
      "datasets/labels/agglomerative/wmd_õun_puder_w_3_s_False_n_40.npy\n",
      "datasets/labels/agglomerative/wmd_joogitee_sõidutee_w_3_s_False_n_10.npy\n",
      "datasets/labels/agglomerative/wmd_õun_kivi_w_4_s_False_n_2.npy\n",
      "datasets/labels/agglomerative/wmd_joogitee_sõidutee_w_2_s_False_n_2.npy\n",
      "datasets/labels/agglomerative/wmd_ämber_pang_w_2_s_False_n_10.npy\n",
      "datasets/labels/agglomerative/wmd_õun_puder_w_3_s_False_n_2.npy\n",
      "datasets/labels/agglomerative/wmd_countries_cities_w_3_s_True_n_10.npy\n",
      "datasets/labels/agglomerative/wmd_ämber_pang_w_3_s_True_n_2.npy\n",
      "datasets/labels/agglomerative/wmd_õun_banaan_w_2_s_True_n_2.npy\n",
      "datasets/labels/agglomerative/wmd_õun_puder_w_3_s_True_n_2.npy\n",
      "datasets/labels/agglomerative/wmd_joogitee_sõidutee_w_3_s_True_n_10.npy\n",
      "datasets/labels/agglomerative/wmd_hea_halb_w_4_s_False_n_10.npy\n",
      "datasets/labels/agglomerative/wmd_hea_halb_w_2_s_True_n_2.npy\n",
      "datasets/labels/agglomerative/wmd_countries_cities_w_4_s_True_n_2.npy\n",
      "datasets/labels/agglomerative/wmd_ämber_pang_w_4_s_False_n_40.npy\n",
      "datasets/labels/agglomerative/wmd_õun_banaan_w_4_s_True_n_10.npy\n",
      "datasets/labels/agglomerative/wmd_Eesti_TallinnTartu_w_2_s_False_n_10.npy\n",
      "datasets/labels/agglomerative/wmd_ämber_pang_w_2_s_False_n_40.npy\n",
      "datasets/labels/agglomerative/wmd_Eesti_TallinnTartu_w_4_s_False_n_10.npy\n",
      "datasets/labels/agglomerative/wmd_joogitee_sõidutee_w_2_s_True_n_2.npy\n",
      "datasets/labels/agglomerative/wmd_countries_cities_w_2_s_True_n_2.npy\n",
      "datasets/labels/agglomerative/wmd_hea_halb_w_3_s_True_n_2.npy\n",
      "datasets/labels/agglomerative/wmd_joogitee_sõidutee_w_2_s_False_n_10.npy\n",
      "datasets/labels/agglomerative/wmd_hea_halb_w_3_s_False_n_40.npy\n",
      "datasets/labels/agglomerative/wmd_countries_cities_w_4_s_False_n_2.npy\n",
      "datasets/labels/agglomerative/wmd_countries_cities_w_4_s_True_n_40.npy\n",
      "datasets/labels/agglomerative/wmd_õun_puder_w_4_s_False_n_40.npy\n",
      "datasets/labels/agglomerative/wmd_hea_halb_w_4_s_True_n_2.npy\n",
      "datasets/labels/agglomerative/wmd_countries_cities_w_2_s_False_n_10.npy\n",
      "datasets/labels/agglomerative/wmd_Eesti_TallinnTartu_w_2_s_False_n_2.npy\n",
      "datasets/labels/agglomerative/wmd_hea_halb_w_2_s_True_n_40.npy\n",
      "datasets/labels/agglomerative/wmd_joogitee_sõidutee_w_4_s_False_n_2.npy\n",
      "datasets/labels/agglomerative/wmd_õun_kivi_w_2_s_False_n_2.npy\n",
      "datasets/labels/agglomerative/wmd_õun_banaan_w_3_s_True_n_10.npy\n",
      "datasets/labels/agglomerative/wmd_joogitee_sõidutee_w_4_s_True_n_10.npy\n",
      "datasets/labels/agglomerative/wmd_Eesti_TallinnTartu_w_4_s_True_n_10.npy\n",
      "datasets/labels/agglomerative/wmd_õun_kivi_w_4_s_False_n_40.npy\n",
      "datasets/labels/agglomerative/wmd_Eesti_TallinnTartu_w_3_s_True_n_10.npy\n",
      "datasets/labels/agglomerative/wmd_õun_puder_w_4_s_True_n_40.npy\n",
      "datasets/labels/agglomerative/wmd_Eesti_TallinnTartu_w_2_s_True_n_10.npy\n",
      "datasets/labels/agglomerative/wmd_ämber_pang_w_2_s_True_n_10.npy\n",
      "datasets/labels/agglomerative/wmd_õun_kivi_w_2_s_False_n_10.npy\n",
      "datasets/labels/agglomerative/wmd_ämber_pang_w_2_s_False_n_2.npy\n",
      "datasets/labels/agglomerative/wmd_Eesti_TallinnTartu_w_2_s_True_n_2.npy\n",
      "datasets/labels/agglomerative/wmd_õun_banaan_w_3_s_False_n_2.npy\n",
      "datasets/labels/agglomerative/wmd_õun_puder_w_2_s_False_n_40.npy\n",
      "datasets/labels/agglomerative/wmd_joogitee_sõidutee_w_4_s_True_n_2.npy\n",
      "datasets/labels/agglomerative/wmd_ämber_pang_w_3_s_True_n_10.npy\n",
      "datasets/labels/agglomerative/wmd_countries_cities_w_4_s_True_n_10.npy\n",
      "datasets/labels/agglomerative/wmd_countries_cities_w_3_s_True_n_2.npy\n",
      "datasets/labels/agglomerative/wmd_Eesti_TallinnTartu_w_3_s_True_n_2.npy\n",
      "datasets/labels/agglomerative/wmd_hea_halb_w_3_s_False_n_10.npy\n",
      "datasets/labels/agglomerative/wmd_õun_kivi_w_4_s_True_n_10.npy\n",
      "datasets/labels/agglomerative/wmd_õun_banaan_w_3_s_False_n_10.npy\n",
      "datasets/labels/agglomerative/wmd_hea_halb_w_3_s_True_n_40.npy\n",
      "datasets/labels/agglomerative/wmd_hea_halb_w_4_s_True_n_40.npy\n",
      "datasets/labels/agglomerative/wmd_ämber_pang_w_3_s_False_n_2.npy\n",
      "datasets/labels/agglomerative/wmd_Eesti_TallinnTartu_w_3_s_False_n_2.npy\n",
      "datasets/labels/agglomerative/wmd_õun_banaan_w_3_s_True_n_40.npy\n",
      "datasets/labels/agglomerative/wmd_ämber_pang_w_3_s_False_n_10.npy\n",
      "datasets/labels/agglomerative/wmd_joogitee_sõidutee_w_3_s_True_n_2.npy\n",
      "datasets/labels/agglomerative/wmd_joogitee_sõidutee_w_4_s_True_n_40.npy\n",
      "datasets/labels/agglomerative/wmd_Eesti_TallinnTartu_w_2_s_False_n_40.npy\n"
     ]
    }
   ],
   "source": [
    "for file in agglo_files:\n",
    "    if 'wmd' in file:\n",
    "        print(file)"
   ]
  },
  {
   "cell_type": "code",
   "execution_count": 27,
   "metadata": {
    "collapsed": true
   },
   "outputs": [],
   "source": [
    "def labels_filename(distance_filename, subdir, **kwargs):\n",
    "    kwarg_list = []\n",
    "    for k, v in kwargs.items():\n",
    "        kwarg_list.append(\"_\".join(map(str,(k, v))))\n",
    "    joined_kwarg_list = \"_\".join(kwarg_list)\n",
    "    return os.path.join('datasets/labels',\n",
    "                        subdir, \n",
    "                        distance_filename.replace('datasets/', '')\n",
    "                                         .replace('/', '_')\n",
    "                                         .replace('.npy', \"_\"+joined_kwarg_list+'.npy'))"
   ]
  },
  {
   "cell_type": "code",
   "execution_count": 24,
   "metadata": {
    "collapsed": true
   },
   "outputs": [],
   "source": [
    "dist_files = glob('datasets/tfidf/angular-distance/*') + glob('datasets/tfidf/euclidean-distance/*') + \\\n",
    "             glob('datasets/cbow/mean-vec/angular-distance/*') + glob('datasets/cbow/mean-vec/euclidean-distance/*') +\\\n",
    "             glob('datasets/sg/mean-vec/angular-distance/*') + glob('datasets/sg/mean-vec/euclidean-distance/*') + \\\n",
    "             glob('datasets/cbow/wmd/*') + glob('datasets/sg/wmd/*')"
   ]
  },
  {
   "cell_type": "code",
   "execution_count": 25,
   "metadata": {
    "collapsed": true
   },
   "outputs": [],
   "source": [
    "dist_files_features =\\\n",
    "        glob('datasets/tfidf/mds/*') + glob('datasets/cbow/mds/*') + glob('datasets/sg/mds/*') +\\\n",
    "        glob('datasets/cbow/pca/*') + glob('datasets/sg/pca/*') +\\\n",
    "        glob('datasets/tfidf/lsi/*')"
   ]
  },
  {
   "cell_type": "code",
   "execution_count": 26,
   "metadata": {
    "collapsed": true
   },
   "outputs": [],
   "source": [
    "dist_files_lsi_cos = glob('datasets/tfidf/lsi-cos-dist/*')"
   ]
  },
  {
   "cell_type": "code",
   "execution_count": 31,
   "metadata": {
    "collapsed": false
   },
   "outputs": [
    {
     "data": {
      "text/plain": [
       "(384, 1292)"
      ]
     },
     "execution_count": 31,
     "metadata": {},
     "output_type": "execute_result"
    }
   ],
   "source": [
    "len(dist_files), len(dist_files_features)"
   ]
  },
  {
   "cell_type": "code",
   "execution_count": 42,
   "metadata": {
    "collapsed": false
   },
   "outputs": [
    {
     "name": "stdout",
     "output_type": "stream",
     "text": [
      "2\n",
      "10\n",
      "40\n"
     ]
    }
   ],
   "source": [
    "for n in [2,10,40]:\n",
    "    print(n)\n",
    "    for fname in dist_files_lsi_cos:\n",
    "        if not os.path.isfile(labels_filename(fname, 'agglomerative', n=n)):\n",
    "            print(fname)"
   ]
  },
  {
   "cell_type": "code",
   "execution_count": 67,
   "metadata": {
    "collapsed": true
   },
   "outputs": [],
   "source": [
    "files = glob('datasets/labels/agglomerative/*')\n",
    "files_no_n = [fname[:fname.rindex('_n_')] + '.npy' for filename in files]\n",
    "unique_files = list(set(files_no_n))"
   ]
  },
  {
   "cell_type": "code",
   "execution_count": 49,
   "metadata": {
    "collapsed": false
   },
   "outputs": [],
   "source": [
    "fname = files[0]"
   ]
  },
  {
   "cell_type": "code",
   "execution_count": 60,
   "metadata": {
    "collapsed": false
   },
   "outputs": [
    {
     "data": {
      "text/plain": [
       "'datasets/labels/agglomerative/tfidf_lsi-cos-dist_tfidf_features_õun_banaan_w_2_s_True_n_10_n_40.npy'"
      ]
     },
     "execution_count": 60,
     "metadata": {},
     "output_type": "execute_result"
    }
   ],
   "source": [
    "fname.replace('_n_10.npy', '.npy')"
   ]
  },
  {
   "cell_type": "code",
   "execution_count": 64,
   "metadata": {
    "collapsed": false
   },
   "outputs": [
    {
     "data": {
      "text/plain": [
       "'datasets/labels/agglomerative/tfidf_lsi-cos-dist_tfidf_features_õun_banaan_w_2_s_True_n_10_n_40.npy'"
      ]
     },
     "execution_count": 64,
     "metadata": {},
     "output_type": "execute_result"
    }
   ],
   "source": [
    "fname"
   ]
  },
  {
   "cell_type": "code",
   "execution_count": 66,
   "metadata": {
    "collapsed": false
   },
   "outputs": [
    {
     "data": {
      "text/plain": [
       "'datasets/labels/agglomerative/tfidf_lsi-cos-dist_tfidf_features_õun_banaan_w_2_s_True_n_10.npy'"
      ]
     },
     "execution_count": 66,
     "metadata": {},
     "output_type": "execute_result"
    }
   ],
   "source": [
    "fname[:fname.rindex('_n_')] + '.npy' "
   ]
  },
  {
   "cell_type": "code",
   "execution_count": null,
   "metadata": {
    "collapsed": true
   },
   "outputs": [],
   "source": []
  },
  {
   "cell_type": "code",
   "execution_count": 69,
   "metadata": {
    "collapsed": false
   },
   "outputs": [],
   "source": [
    "for n in [2,10,40]:\n",
    "    for unique_file in unique_files:\n",
    "#         fname = \n",
    "        if not os.path.isfile(unique_file.replace('.npy', '_n_{}.npy'.format(n))):\n",
    "                print(unique_file)\n",
    "    \n"
   ]
  }
 ],
 "metadata": {
  "kernelspec": {
   "display_name": "Python [conda root]",
   "language": "python",
   "name": "conda-root-py"
  },
  "language_info": {
   "codemirror_mode": {
    "name": "ipython",
    "version": 3
   },
   "file_extension": ".py",
   "mimetype": "text/x-python",
   "name": "python",
   "nbconvert_exporter": "python",
   "pygments_lexer": "ipython3",
   "version": "3.5.2"
  }
 },
 "nbformat": 4,
 "nbformat_minor": 2
}
