{
 "cells": [
  {
   "cell_type": "code",
   "execution_count": 3,
   "metadata": {
    "collapsed": true,
    "deletable": true,
    "editable": true
   },
   "outputs": [],
   "source": [
    "%matplotlib inline\n",
    "from gensim.models import KeyedVectors\n",
    "import estnltk\n",
    "import pandas as pd\n",
    "import numpy as np\n",
    "from tqdm import tqdm\n",
    "import itertools\n",
    "from sklearn.metrics.pairwise import cosine_similarity, cosine_distances, linear_kernel, euclidean_distances\n",
    "import operator\n",
    "from joblib import Parallel, delayed\n",
    "from sklearn.feature_extraction.text import TfidfVectorizer\n",
    "import numba\n",
    "import glob\n",
    "# import pyemd\n",
    "import seaborn as sns\n",
    "import matplotlib.pyplot as plt\n",
    "import logging\n"
   ]
  },
  {
   "cell_type": "code",
   "execution_count": 13,
   "metadata": {
    "collapsed": false,
    "deletable": true,
    "editable": true
   },
   "outputs": [],
   "source": [
    "logger = logging.getLogger('generate_wmd')\n",
    "logger.setLevel(logging.DEBUG)\n",
    "# create file handler which logs even debug messages\n",
    "fh = logging.FileHandler('sg_wmd.log')\n",
    "fh.setLevel(logging.DEBUG)\n",
    "# create console handler with a higher log level\n",
    "ch = logging.StreamHandler()\n",
    "ch.setLevel(logging.ERROR)\n",
    "# create formatter and add it to the handlers\n",
    "formatter = logging.Formatter('%(asctime)s - %(message)s')\n",
    "fh.setFormatter(formatter)\n",
    "ch.setFormatter(formatter)\n",
    "# add the handlers to the logger\n",
    "logger.addHandler(fh)\n",
    "logger.addHandler(ch)\n",
    "\n",
    "def log(txt):\n",
    "    print(txt)\n",
    "    logger.info(txt)"
   ]
  },
  {
   "cell_type": "code",
   "execution_count": 7,
   "metadata": {
    "collapsed": true,
    "deletable": true,
    "editable": true
   },
   "outputs": [],
   "source": [
    "model = KeyedVectors.load_word2vec_format('word2vec-models/lemmas.cbow.s100.w2v.bin', binary=True)"
   ]
  },
  {
   "cell_type": "code",
   "execution_count": 15,
   "metadata": {
    "collapsed": true
   },
   "outputs": [],
   "source": [
    "model = 123"
   ]
  },
  {
   "cell_type": "code",
   "execution_count": 17,
   "metadata": {
    "collapsed": false
   },
   "outputs": [],
   "source": [
    "model_sg = KeyedVectors.load_word2vec_format('word2vec-models/lemmas.sg.s100.w2v.bin', binary=True)"
   ]
  },
  {
   "cell_type": "code",
   "execution_count": 6,
   "metadata": {
    "collapsed": true,
    "deletable": true,
    "editable": true
   },
   "outputs": [],
   "source": [
    "contexts1 = open('../datasets/tee_sõidu_contexts_s_True_w_3.txt').read().splitlines()\n",
    "contexts2 = open('../datasets/tee_jook_contexts_s_True_w_3.txt').read().splitlines()\n",
    "contexts = contexts1 + contexts2\n",
    "true_labels = len(contexts1)*[0] + len(contexts2)*[1]"
   ]
  },
  {
   "cell_type": "code",
   "execution_count": 18,
   "metadata": {
    "collapsed": false,
    "deletable": true,
    "editable": true
   },
   "outputs": [],
   "source": [
    "def alignement_matrix_row_dist(s1, s1_index, contexts, row_length):\n",
    "    row = np.zeros(row_length)\n",
    "    for j in range(s1_index+1):\n",
    "        s2 = contexts[j]\n",
    "        row[j] = model_sg.wmdistance(s1.split(), s2.split())\n",
    "    return row"
   ]
  },
  {
   "cell_type": "code",
   "execution_count": 9,
   "metadata": {
    "collapsed": false,
    "deletable": true,
    "editable": true
   },
   "outputs": [
    {
     "data": {
      "text/plain": [
       "<gensim.models.keyedvectors.KeyedVectors at 0x7f4fa5d3eb00>"
      ]
     },
     "execution_count": 9,
     "metadata": {},
     "output_type": "execute_result"
    }
   ],
   "source": [
    "model"
   ]
  },
  {
   "cell_type": "code",
   "execution_count": 11,
   "metadata": {
    "collapsed": false,
    "deletable": true,
    "editable": true
   },
   "outputs": [
    {
     "name": "stdout",
     "output_type": "stream",
     "text": [
      "('joogitee', 'sõidutee')\n",
      "(2, False)\n",
      "1954\n",
      "('õun', 'banaan')\n",
      "(2, False)\n",
      "3958\n",
      "('õun', 'puder')\n",
      "(2, False)\n",
      "3602\n",
      "('õun', 'kivi')\n",
      "(2, False)\n",
      "5568\n",
      "('hea', 'halb')\n",
      "(2, False)\n",
      "20000\n",
      "('countries', 'cities')\n",
      "(2, False)\n",
      "20000\n",
      "('Eesti', 'TallinnTartu')\n",
      "(2, False)\n",
      "20000\n",
      "('ämber', 'pang')\n",
      "(2, False)\n",
      "926\n"
     ]
    }
   ],
   "source": [
    "for word1, word2 in words:\n",
    "    print((word1, word2))\n",
    "    for window in [2]:\n",
    "        for symmetric in [False]:\n",
    "            print((window, symmetric))\n",
    "            with open('../datasets/contexts/{}_s_{}_w_{}.txt'.format(word1, symmetric, window)) as f:\n",
    "                contexts1 = f.read().splitlines()\n",
    "            with open('../datasets/contexts/{}_s_{}_w_{}.txt'.format(word2, symmetric, window)) as f:\n",
    "                contexts2 = f.read().splitlines()\n",
    "            contexts = contexts1 + contexts2\n",
    "            print(len(contexts))"
   ]
  },
  {
   "cell_type": "code",
   "execution_count": null,
   "metadata": {
    "collapsed": false,
    "deletable": true,
    "editable": true
   },
   "outputs": [
    {
     "name": "stderr",
     "output_type": "stream",
     "text": [
      "INFO:generate_wmd:('joogitee', 'sõidutee')\n",
      "INFO:generate_wmd:(2, True)\n",
      "\n",
      "0it [00:00, ?it/s]"
     ]
    },
    {
     "name": "stdout",
     "output_type": "stream",
     "text": [
      "('joogitee', 'sõidutee')\n",
      "(2, True)\n"
     ]
    },
    {
     "name": "stderr",
     "output_type": "stream",
     "text": [
      "\u001b[A\n",
      "1it [00:01,  1.69s/it]\u001b[A\n",
      "624it [00:03,  1.19s/it]\u001b[A\n",
      "662it [00:05,  1.18it/s]\u001b[A\n",
      "681it [00:07,  1.61it/s]\u001b[A\n",
      "700it [00:09,  2.15it/s]\u001b[A\n",
      "719it [00:10,  2.87it/s]\u001b[A\n",
      "738it [00:12,  3.68it/s]\u001b[A\n",
      "757it [00:14,  4.46it/s]\u001b[A\n",
      "776it [00:16,  5.24it/s]\u001b[A\n",
      "795it [00:17,  6.98it/s]\u001b[A\n",
      "814it [00:23,  4.86it/s]\u001b[A\n",
      "833it [00:24,  6.49it/s]\u001b[A\n",
      "852it [00:31,  4.69it/s]\u001b[A\n",
      "871it [00:31,  6.26it/s]\u001b[A\n",
      "890it [00:35,  5.98it/s]\u001b[A\n",
      "909it [00:39,  5.57it/s]\u001b[A\n",
      "918it [00:39,  7.17it/s]\u001b[A\n",
      "927it [00:40,  7.75it/s]\u001b[A\n",
      "936it [00:41,  7.98it/s]\u001b[A\n",
      "945it [00:44,  5.60it/s]\u001b[A\n",
      "954it [00:47,  4.71it/s]\u001b[A\n",
      "963it [00:48,  4.97it/s]\u001b[A\n",
      "972it [00:52,  3.94it/s]\u001b[A\n",
      "981it [00:56,  3.13it/s]\u001b[A\n",
      "990it [00:57,  3.89it/s]\u001b[A\n",
      "999it [00:59,  4.22it/s]\u001b[A\n",
      "1008it [00:59,  5.20it/s]\u001b[A\n",
      "1017it [01:03,  3.81it/s]\u001b[A\n",
      "1026it [01:05,  3.93it/s]\u001b[A\n",
      "1030it [01:06,  5.17it/s]\u001b[A\n",
      "1034it [01:07,  4.65it/s]\u001b[A\n",
      "1038it [01:08,  3.47it/s]\u001b[A\n",
      "1046it [01:09,  4.41it/s]\u001b[A\n",
      "1050it [01:12,  2.53it/s]\u001b[A\n",
      "1054it [01:13,  2.74it/s]\u001b[A\n",
      "1058it [01:15,  2.61it/s]\u001b[A\n",
      "1062it [01:15,  3.60it/s]\u001b[A\n",
      "1066it [01:17,  3.06it/s]\u001b[A\n",
      "1070it [01:19,  2.69it/s]\u001b[A\n",
      "1074it [01:19,  3.73it/s]\u001b[A\n",
      "1078it [01:19,  4.73it/s]\u001b[A\n",
      "1082it [01:20,  5.32it/s]\u001b[A\n",
      "1084it [01:20,  6.61it/s]\u001b[A\n",
      "1086it [01:22,  2.88it/s]\u001b[A\n",
      "1088it [01:24,  1.78it/s]\u001b[A\n",
      "1092it [01:24,  2.36it/s]\u001b[A\n",
      "1094it [01:24,  3.18it/s]\u001b[A\n",
      "1096it [01:24,  4.10it/s]\u001b[A\n",
      "1098it [01:25,  5.33it/s]\u001b[A\n",
      "1100it [01:25,  4.68it/s]\u001b[A\n",
      "1102it [01:26,  2.87it/s]\u001b[A\n",
      "1104it [01:27,  2.69it/s]\u001b[A\n",
      "1105it [01:28,  3.06it/s]\u001b[A\n",
      "1106it [01:29,  1.83it/s]\u001b[A\n",
      "1107it [01:29,  2.04it/s]\u001b[A\n",
      "1108it [01:29,  2.62it/s]\u001b[A\n",
      "1109it [01:29,  2.57it/s]\u001b[A\n",
      "1110it [01:30,  3.27it/s]\u001b[A\n",
      "1111it [01:30,  3.96it/s]\u001b[A\n",
      "1112it [01:30,  3.83it/s]\u001b[A\n",
      "1113it [01:30,  4.20it/s]\u001b[A\n",
      "1114it [01:31,  2.16it/s]\u001b[A\n",
      "1115it [01:31,  2.63it/s]\u001b[A\n",
      "1116it [01:31,  3.21it/s]\u001b[A\n",
      "1118it [01:32,  4.14it/s]\u001b[A\n",
      "1119it [01:32,  4.16it/s]\u001b[A\n",
      "1120it [01:32,  3.81it/s]\u001b[A\n",
      "1122it [01:32,  4.47it/s]\u001b[A\n",
      "1123it [01:33,  5.15it/s]\u001b[A\n",
      "1124it [01:33,  4.75it/s]\u001b[A\n",
      "1126it [01:33,  5.99it/s]\u001b[A\n",
      "1127it [01:33,  5.21it/s]\u001b[A\n",
      "1128it [01:33,  4.58it/s]\u001b[A\n",
      "1130it [01:34,  5.75it/s]\u001b[A\n",
      "1132it [01:34,  6.94it/s]\u001b[A\n",
      "1134it [01:34,  5.63it/s]\u001b[A\n",
      "1135it [01:35,  4.78it/s]\u001b[A\n",
      "1136it [01:35,  4.53it/s]\u001b[A\n",
      "1138it [01:35,  5.48it/s]\u001b[A\n",
      "1141it [01:36,  5.42it/s]\u001b[A\n",
      "1143it [01:36,  5.38it/s]\u001b[A\n",
      "1144it [01:36,  5.12it/s]\u001b[A\n",
      "1146it [01:36,  6.55it/s]\u001b[A\n",
      "1148it [01:36,  7.48it/s]\u001b[A\n",
      "1150it [01:37,  5.51it/s]\u001b[A\n",
      "1151it [01:37,  4.34it/s]\u001b[A\n",
      "1153it [01:38,  5.00it/s]\u001b[A\n",
      "1156it [01:38,  6.33it/s]\u001b[A\n",
      "1157it [01:38,  4.46it/s]\u001b[A\n",
      "1158it [01:38,  4.54it/s]\u001b[A\n",
      "1159it [01:39,  3.66it/s]\u001b[A\n",
      "1161it [01:39,  4.64it/s]\u001b[A\n",
      "1164it [01:39,  5.69it/s]\u001b[A\n",
      "1165it [01:40,  4.60it/s]\u001b[A\n",
      "1166it [01:40,  4.20it/s]\u001b[A\n",
      "1167it [01:40,  3.44it/s]\u001b[A\n",
      "1170it [01:40,  4.68it/s]\u001b[A\n",
      "1172it [01:41,  5.13it/s]\u001b[A\n",
      "1174it [01:41,  4.48it/s]\u001b[A\n",
      "1175it [01:42,  3.68it/s]\u001b[A\n",
      "1178it [01:42,  4.91it/s]\u001b[A\n",
      "1180it [01:42,  5.32it/s]\u001b[A\n",
      "1181it [01:42,  5.76it/s]\u001b[A\n",
      "1182it [01:43,  3.94it/s]\u001b[A\n",
      "1183it [01:43,  3.82it/s]\u001b[A\n",
      "1185it [01:43,  4.88it/s]\u001b[A\n",
      "1187it [01:43,  5.82it/s]\u001b[A\n",
      "1188it [01:43,  5.37it/s]\u001b[A\n",
      "1190it [01:44,  4.60it/s]\u001b[A\n",
      "1191it [01:44,  4.36it/s]\u001b[A\n",
      "1192it [01:44,  5.20it/s]\u001b[A\n",
      "1194it [01:45,  6.45it/s]\u001b[A\n",
      "1196it [01:45,  6.18it/s]\u001b[A\n",
      "1198it [01:45,  5.07it/s]\u001b[A\n",
      "1199it [01:46,  4.37it/s]\u001b[A\n",
      "1202it [01:46,  5.50it/s]\u001b[A\n",
      "1204it [01:46,  5.53it/s]\u001b[A\n",
      "1205it [01:46,  6.34it/s]\u001b[A\n",
      "1206it [01:47,  4.35it/s]\u001b[A\n",
      "1207it [01:47,  4.13it/s]\u001b[A\n",
      "1208it [01:47,  4.62it/s]\u001b[A\n",
      "1210it [01:47,  5.69it/s]\u001b[A\n",
      "1211it [01:48,  6.52it/s]\u001b[A\n",
      "1212it [01:48,  5.21it/s]\u001b[A\n",
      "1214it [01:48,  4.88it/s]\u001b[A\n",
      "1215it [01:48,  5.08it/s]\u001b[A\n",
      "1216it [01:49,  5.08it/s]\u001b[A\n",
      "1217it [01:49,  5.27it/s]\u001b[A\n",
      "1219it [01:49,  6.03it/s]\u001b[A\n",
      "1220it [01:49,  5.06it/s]\u001b[A\n",
      "1222it [01:50,  5.06it/s]\u001b[A\n",
      "1223it [01:50,  5.51it/s]\u001b[A\n",
      "1224it [01:50,  4.91it/s]\u001b[A\n",
      "1225it [01:50,  4.86it/s]\u001b[A\n",
      "1227it [01:51,  5.75it/s]\u001b[A\n",
      "1228it [01:51,  6.11it/s]\u001b[A\n",
      "1229it [01:51,  6.40it/s]\u001b[A\n",
      "1230it [01:51,  4.47it/s]\u001b[A\n",
      "1232it [01:52,  4.62it/s]\u001b[A\n",
      "1233it [01:52,  4.77it/s]\u001b[A\n",
      "1235it [01:52,  6.16it/s]\u001b[A\n",
      "1236it [01:52,  4.91it/s]\u001b[A\n",
      "1238it [01:53,  4.79it/s]\u001b[A\n",
      "1240it [01:53,  4.72it/s]\u001b[A\n",
      "1241it [01:53,  5.18it/s]\u001b[A\n",
      "1242it [01:53,  6.04it/s]\u001b[A\n",
      "1243it [01:53,  6.68it/s]\u001b[A\n",
      "1244it [01:54,  5.91it/s]\u001b[A\n",
      "1245it [01:54,  6.70it/s]\u001b[A\n",
      "1246it [01:54,  4.63it/s]\u001b[A\n",
      "1248it [01:55,  4.60it/s]\u001b[A\n",
      "1250it [01:55,  5.11it/s]\u001b[A\n",
      "1251it [01:55,  5.21it/s]\u001b[A\n",
      "1252it [01:55,  5.66it/s]\u001b[A\n",
      "1254it [01:56,  5.63it/s]\u001b[A\n",
      "\u001b[AINFO:generate_wmd:datasets/sg/wmd/joogitee_sõidutee_w_2_s_True.npy\n",
      "INFO:generate_wmd:(2, False)\n",
      "\n",
      "0it [00:00, ?it/s]"
     ]
    },
    {
     "name": "stdout",
     "output_type": "stream",
     "text": [
      "datasets/sg/wmd/joogitee_sõidutee_w_2_s_True.npy\n",
      "(2, False)\n"
     ]
    },
    {
     "name": "stderr",
     "output_type": "stream",
     "text": [
      "\u001b[A\n",
      "1it [00:01,  1.47s/it]\u001b[A\n",
      "436it [00:01,  1.03s/it]\u001b[A\n",
      "552it [00:03,  1.37it/s]\u001b[A\n",
      "635it [00:08,  1.90it/s]\u001b[A\n",
      "694it [00:13,  2.51it/s]\u001b[A\n",
      "736it [00:19,  3.14it/s]\u001b[A\n",
      "766it [00:22,  3.90it/s]\u001b[A\n",
      "787it [00:24,  4.98it/s]\u001b[A\n",
      "802it [00:28,  4.53it/s]\u001b[A\n",
      "813it [00:28,  5.93it/s]\u001b[A\n",
      "821it [00:29,  6.94it/s]\u001b[A\n",
      "827it [00:31,  5.49it/s]\u001b[A\n",
      "832it [00:32,  4.90it/s]\u001b[A\n",
      "837it [00:33,  4.72it/s]\u001b[A\n",
      "844it [00:33,  6.27it/s]\u001b[A\n",
      "851it [00:36,  4.14it/s]\u001b[A\n",
      "858it [00:38,  4.13it/s]\u001b[A\n",
      "865it [00:38,  5.47it/s]\u001b[A\n",
      "868it [00:39,  5.90it/s]\u001b[A\n",
      "871it [00:39,  6.24it/s]\u001b[A\n",
      "874it [00:40,  6.22it/s]\u001b[A\n",
      "877it [00:42,  3.26it/s]\u001b[A\n",
      "880it [00:42,  3.72it/s]\u001b[A\n",
      "886it [00:43,  4.34it/s]\u001b[A\n",
      "889it [00:44,  3.98it/s]\u001b[A\n",
      "892it [00:45,  4.37it/s]\u001b[A\n",
      "895it [00:45,  5.12it/s]\u001b[A\n",
      "898it [00:45,  5.14it/s]\u001b[A\n",
      "901it [00:46,  4.63it/s]\u001b[A\n",
      "902it [00:47,  2.90it/s]\u001b[A\n",
      "903it [00:47,  2.88it/s]\u001b[A\n",
      "904it [00:48,  3.15it/s]\u001b[A\n",
      "905it [00:48,  3.64it/s]\u001b[A\n",
      "906it [00:48,  2.77it/s]\u001b[A\n",
      "908it [00:49,  2.97it/s]\u001b[A\n",
      "909it [00:49,  3.75it/s]\u001b[A\n",
      "910it [00:49,  3.79it/s]\u001b[A\n",
      "911it [00:49,  3.59it/s]\u001b[A\n",
      "912it [00:50,  4.26it/s]\u001b[A\n",
      "913it [00:50,  3.21it/s]\u001b[A\n",
      "914it [00:50,  3.87it/s]\u001b[A\n",
      "915it [00:50,  4.64it/s]\u001b[A\n",
      "916it [00:50,  5.44it/s]\u001b[A\n",
      "917it [00:51,  6.06it/s]\u001b[A\n",
      "918it [00:51,  5.94it/s]\u001b[A\n",
      "919it [00:51,  5.33it/s]\u001b[A\n",
      "922it [00:51,  7.04it/s]\u001b[A\n",
      "924it [00:51,  8.40it/s]\u001b[A\n",
      "926it [00:51,  9.30it/s]\u001b[A\n",
      "928it [00:52,  6.10it/s]\u001b[A\n",
      "931it [00:52,  7.86it/s]\u001b[A\n",
      "933it [00:52,  9.57it/s]\u001b[A\n",
      "935it [00:53,  7.13it/s]\u001b[A\n",
      "937it [00:53,  7.26it/s]\u001b[A\n",
      "939it [00:53,  8.57it/s]\u001b[A\n",
      "942it [00:53, 10.36it/s]\u001b[A\n",
      "944it [00:54,  7.57it/s]\u001b[A\n",
      "946it [00:54,  8.35it/s]\u001b[A\n",
      "948it [00:54,  8.31it/s]\u001b[A\n",
      "950it [00:54, 10.02it/s]\u001b[A\n",
      "952it [00:54,  8.92it/s]\u001b[A\n",
      "954it [00:55,  7.31it/s]\u001b[A\n",
      "957it [00:55,  8.04it/s]\u001b[A\n",
      "959it [00:55,  8.14it/s]\u001b[A\n",
      "961it [00:55,  9.77it/s]\u001b[A\n",
      "963it [00:56,  8.25it/s]\u001b[A\n",
      "965it [00:56,  9.55it/s]\u001b[A\n",
      "967it [00:56,  7.64it/s]"
     ]
    }
   ],
   "source": [
    "# print(window, symmetric, func, name)\n",
    "# apple_contexts = open('../datasets/apple_contexts_s_{}_w_{}.txt'.format(symmetric, window)).read().splitlines()\n",
    "# rock_contexts = open('../datasets/rock_contexts_s_{}_w_{}.txt'.format(symmetric, window)).read().splitlines()\n",
    "# pear_contexts = open('../datasets/pear_contexts_s_{}_w_{}.txt'.format(symmetric, window)).read().splitlines()\n",
    "# contexts = apple_contexts + rock_contexts + pear_contexts\n",
    "# labels = [0]*len(apple_contexts) + [1]*len(rock_contexts) + [2]*len(pear_contexts)\n",
    "\n",
    "#23:55\n",
    "\n",
    "words = [('joogitee', 'sõidutee'),\n",
    "        ('ämber', 'pang'),\n",
    "        ('õun', 'banaan'),\n",
    "        ('õun', 'puder'),\n",
    "        ('õun', 'kivi'),\n",
    "        ('hea', 'halb'),\n",
    "        ('countries', 'cities'),\n",
    "        ('Eesti', 'TallinnTartu')]\n",
    "\n",
    "for word1, word2 in words:\n",
    "    log((word1, word2))\n",
    "    for window in [2,3,4]:\n",
    "        for symmetric in [True, False]:\n",
    "            log((window, symmetric))\n",
    "            with open('datasets/contexts/{}_s_{}_w_{}.txt'.format(word1, symmetric, window)) as f:\n",
    "                contexts1 = f.read().splitlines()\n",
    "            with open('datasets/contexts/{}_s_{}_w_{}.txt'.format(word2, symmetric, window)) as f:\n",
    "                contexts2 = f.read().splitlines()\n",
    "            contexts = contexts1 + contexts2\n",
    "\n",
    "            n = len(contexts)\n",
    "\n",
    "            distance_matrix_rows = Parallel(n_jobs=8)(delayed(alignement_matrix_row_dist)(s1, s1_index, contexts, n) \n",
    "                                                                    for s1_index, s1 in tqdm(enumerate(contexts)))\n",
    "            distance_matrix = np.array(distance_matrix_rows)\n",
    "\n",
    "            distance_matrix_partial = np.array(distance_matrix_rows)\n",
    "            distance_matrix = distance_matrix_partial + distance_matrix_partial.T\n",
    "            \n",
    "            filename = 'datasets/sg/wmd/{}_{}_w_{}_s_{}.npy'.format(word1, word2, window, symmetric)\n",
    "            log(filename)\n",
    "            np.save(filename, distance_matrix)"
   ]
  },
  {
   "cell_type": "code",
   "execution_count": 20,
   "metadata": {
    "collapsed": false,
    "deletable": true,
    "editable": true
   },
   "outputs": [
    {
     "ename": "TypeError",
     "evalue": "log() takes 1 positional argument but 2 were given",
     "output_type": "error",
     "traceback": [
      "\u001b[0;31m---------------------------------------------------------------------------\u001b[0m",
      "\u001b[0;31mTypeError\u001b[0m                                 Traceback (most recent call last)",
      "\u001b[0;32m<ipython-input-20-9de585633c76>\u001b[0m in \u001b[0;36m<module>\u001b[0;34m()\u001b[0m\n\u001b[0;32m----> 1\u001b[0;31m \u001b[0mlog\u001b[0m\u001b[0;34m(\u001b[0m\u001b[0;36m1\u001b[0m\u001b[0;34m,\u001b[0m\u001b[0;36m2\u001b[0m\u001b[0;34m)\u001b[0m\u001b[0;34m\u001b[0m\u001b[0m\n\u001b[0m",
      "\u001b[0;31mTypeError\u001b[0m: log() takes 1 positional argument but 2 were given"
     ]
    }
   ],
   "source": []
  },
  {
   "cell_type": "code",
   "execution_count": 9,
   "metadata": {
    "collapsed": false,
    "deletable": true,
    "editable": true
   },
   "outputs": [
    {
     "data": {
      "text/plain": [
       "19.682990621389386"
      ]
     },
     "execution_count": 9,
     "metadata": {},
     "output_type": "execute_result"
    }
   ],
   "source": [
    "model.wmdistance(contexts[1].split(), contexts[0].split())"
   ]
  }
 ],
 "metadata": {
  "kernelspec": {
   "display_name": "Python [conda root]",
   "language": "python",
   "name": "conda-root-py"
  },
  "language_info": {
   "codemirror_mode": {
    "name": "ipython",
    "version": 3
   },
   "file_extension": ".py",
   "mimetype": "text/x-python",
   "name": "python",
   "nbconvert_exporter": "python",
   "pygments_lexer": "ipython3",
   "version": "3.5.2"
  }
 },
 "nbformat": 4,
 "nbformat_minor": 2
}
