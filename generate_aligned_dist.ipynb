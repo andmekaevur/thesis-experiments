{
 "cells": [
  {
   "cell_type": "code",
   "execution_count": 69,
   "metadata": {
    "collapsed": true,
    "deletable": true,
    "editable": true
   },
   "outputs": [],
   "source": [
    "%matplotlib inline\n",
    "from gensim.models import KeyedVectors\n",
    "import estnltk\n",
    "import pandas as pd\n",
    "import numpy as np\n",
    "from tqdm import tqdm\n",
    "import itertools\n",
    "from sklearn.metrics.pairwise import cosine_similarity, cosine_distances, linear_kernel, euclidean_distances\n",
    "import operator\n",
    "from joblib import Parallel, delayed\n",
    "from sklearn.feature_extraction.text import TfidfVectorizer\n",
    "import numba\n",
    "import glob\n",
    "# import pyemd\n",
    "import seaborn as sns\n",
    "import matplotlib.pyplot as plt  "
   ]
  },
  {
   "cell_type": "code",
   "execution_count": 2,
   "metadata": {
    "collapsed": false,
    "deletable": true,
    "editable": true
   },
   "outputs": [],
   "source": [
    "model = KeyedVectors.load_word2vec_format('word2vec-models/lemmas.cbow.s100.w2v.bin', binary=True)"
   ]
  },
  {
   "cell_type": "code",
   "execution_count": 3,
   "metadata": {
    "collapsed": false
   },
   "outputs": [
    {
     "data": {
      "text/plain": [
       "<gensim.models.keyedvectors.KeyedVectors at 0x7f833da0de48>"
      ]
     },
     "execution_count": 3,
     "metadata": {},
     "output_type": "execute_result"
    }
   ],
   "source": [
    "model"
   ]
  },
  {
   "cell_type": "code",
   "execution_count": 23,
   "metadata": {
    "collapsed": false,
    "deletable": true,
    "editable": true
   },
   "outputs": [],
   "source": [
    "symmetric = False\n",
    "window = 3\n",
    "apple_contexts = open('../datasets/apple_contexts_s_{}_w_{}.txt'.format(symmetric, window)).read().splitlines()\n",
    "rock_contexts = open('../datasets/rock_contexts_s_{}_w_{}.txt'.format(symmetric, window)).read().splitlines()\n",
    "pear_contexts = open('../datasets/pear_contexts_s_{}_w_{}.txt'.format(symmetric, window)).read().splitlines()\n",
    "contexts = apple_contexts + rock_contexts + pear_contexts\n",
    "labels = [0]*len(apple_contexts) + [1]*len(rock_contexts) + [2]*len(pear_contexts)\n",
    "# n = len(contexts)\n",
    "\n",
    "s1, s2 = contexts[0].split(), contexts[2].split()\n",
    "\n",
    "if len(s2) < len(s1):\n",
    "    s1, s2 = s2, s1\n",
    "m = len(s1)\n",
    "n = len(s2)\n",
    "\n",
    "m = len(s1)\n",
    "n = len(s2)\n",
    "sum_init=np.inf\n",
    "comparison=operator.lt\n",
    "metric=cosine_distances\n",
    "# n = len(contexts)"
   ]
  },
  {
   "cell_type": "code",
   "execution_count": 24,
   "metadata": {
    "collapsed": false,
    "deletable": true,
    "editable": true
   },
   "outputs": [
    {
     "data": {
      "text/plain": [
       "(['eesti', 'jõudma', 'kauplusekett', 'tavaliselt'],\n",
       " ['õgima', 'säilitusaine', 'poola', 'hingama', 'sisse', 'mürgine'])"
      ]
     },
     "execution_count": 24,
     "metadata": {},
     "output_type": "execute_result"
    }
   ],
   "source": [
    "s1, s2"
   ]
  },
  {
   "cell_type": "code",
   "execution_count": 27,
   "metadata": {
    "collapsed": true,
    "deletable": true,
    "editable": true
   },
   "outputs": [],
   "source": [
    "similarity_matrix = metric(model[s1], model[s2])"
   ]
  },
  {
   "cell_type": "code",
   "execution_count": 61,
   "metadata": {
    "collapsed": false,
    "deletable": true,
    "editable": true
   },
   "outputs": [],
   "source": [
    "# %%timeit\n",
    "\n",
    "\n",
    "# best_sum = sum_init\n",
    "# for perm in itertools.permutations(list(range(n)), m):\n",
    "#     perm_sum = 0\n",
    "#     for i, j in enumerate(perm):\n",
    "#         perm_sum += similarity_matrix[i,j]\n",
    "#     if comparison(perm_sum, best_sum):\n",
    "#         best_sum = perm_sum\n",
    "\n",
    "# asd(similarity_matrix, m, n, sum_init)"
   ]
  },
  {
   "cell_type": "code",
   "execution_count": 32,
   "metadata": {
    "collapsed": true,
    "deletable": true,
    "editable": true
   },
   "outputs": [],
   "source": [
    "# @numba.jit(nopython=True)\n",
    "# def asd(similarity_matrix, m, n, sum_init):\n",
    "#     best_sum = sum_init\n",
    "#     for perm in itertools.permutations(list(range(n)), m):\n",
    "#         perm_sum = 0\n",
    "#         for i, j in enumerate(perm):\n",
    "#             perm_sum += similarity_matrix[i,j]\n",
    "#         if comparison(perm_sum, best_sum):\n",
    "#             best_sum = perm_sum\n",
    "#     return best_sum\n",
    "\n",
    "def alignement_cos_metric_contexts(s1, s2, sum_init, comparison, metric):\n",
    "    if type(s1) == str:\n",
    "        s1 = s1.split()\n",
    "        s2 = s2.split()\n",
    "    \n",
    "    if len(s2) < len(s1):\n",
    "        s1, s2 = s2, s1\n",
    "    m = len(s1)\n",
    "    n = len(s2)\n",
    "\n",
    "#     similarity_matrix = np.empty((m,n))\n",
    "#     similarity_matrix[:] = np.NAN\n",
    "\n",
    "#     for i, w1 in enumerate(s1):\n",
    "#         for j, w2 in enumerate(s2):\n",
    "#             similarity_matrix[i,j] = metric([model[w1]], [model[w2]])[0]\n",
    "\n",
    "    similarity_matrix = metric(model[s1], model[s2])\n",
    "    \n",
    "    best_sum = sum_init\n",
    "    for perm in itertools.permutations(list(range(n)), m):\n",
    "        perm_sum = 0\n",
    "        for i, j in enumerate(perm):\n",
    "            perm_sum += similarity_matrix[i,j]\n",
    "        if comparison(perm_sum, best_sum):\n",
    "            best_sum = perm_sum\n",
    "\n",
    "    return best_sum/m\n",
    "    \n",
    "def alignement_cos_sim_contexts(s1, s2):\n",
    "    return alignement_cos_metric_contexts(s1, s2, \n",
    "                        sum_init=-np.inf,\n",
    "                        comparison=operator.gt,\n",
    "                        metric=cosine_similarity)\n",
    "\n",
    "    \n",
    "def alignement_cos_dist_contexts(s1, s2):\n",
    "    return alignement_cos_metric_contexts(s1, s2, \n",
    "                        sum_init=np.inf,\n",
    "                        comparison=operator.lt,\n",
    "                        metric=cosine_distances)\n",
    "\n",
    "\n",
    "def alignement_matrix_row_dist(s1, s1_index, contexts, row_length):\n",
    "    row = np.zeros(row_length)\n",
    "    for j in range(s1_index+1):\n",
    "        s2 = contexts[j]\n",
    "        row[j] = alignement_cos_dist_contexts(s1, s2)\n",
    "    return row\n",
    "\n",
    "\n",
    "def alignement_matrix_row_sim(s1, s1_index, contexts, row_length):\n",
    "    row = np.zeros(row_length)\n",
    "    for j in range(s1_index+1):\n",
    "        s2 = contexts[j]\n",
    "        row[j] = alignement_cos_sim_contexts(s1, s2)\n",
    "    return row"
   ]
  },
  {
   "cell_type": "code",
   "execution_count": 191,
   "metadata": {
    "collapsed": false,
    "deletable": true,
    "editable": true
   },
   "outputs": [
    {
     "name": "stdout",
     "output_type": "stream",
     "text": [
      "3 False <function alignement_matrix_row_dist at 0x7fa35527dae8> dist\n"
     ]
    }
   ],
   "source": [
    "symmetric = False\n",
    "window = 3\n",
    "print(window, symmetric, func, name)\n",
    "apple_contexts = open('../datasets/apple_contexts_s_{}_w_{}.txt'.format(symmetric, window)).read().splitlines()\n",
    "rock_contexts = open('../datasets/rock_contexts_s_{}_w_{}.txt'.format(symmetric, window)).read().splitlines()\n",
    "pear_contexts = open('../datasets/pear_contexts_s_{}_w_{}.txt'.format(symmetric, window)).read().splitlines()\n",
    "contexts = apple_contexts + rock_contexts + pear_contexts\n",
    "labels = [0]*len(apple_contexts) + [1]*len(rock_contexts) + [2]*len(pear_contexts)\n",
    "n = len(contexts)\n",
    "\n",
    "# distance_matrix_rows = Parallel(n_jobs=1)(delayed(alignement_matrix_row_sim)(s1, s1_index, contexts, n) \n",
    "#                                            for s1_index, s1 in tqdm(enumerate(contexts)))\n",
    "# distance_matrix_partial = np.array(distance_matrix_rows)\n",
    "# distance_matrix = distance_matrix_partial + distance_matrix_partial.T\n",
    "# if func.__name__ == alignement_matrix_row_sim.__name__:\n",
    "#     np.fill_diagonal(distance_matrix, 1)\n",
    "# if func.__name__ == alignement_matrix_row_dist.__name__.:\n",
    "#     np.fill_diagonal(distance_matrix, 0)"
   ]
  },
  {
   "cell_type": "code",
   "execution_count": 193,
   "metadata": {
    "collapsed": false,
    "deletable": true,
    "editable": true
   },
   "outputs": [
    {
     "data": {
      "text/plain": [
       "11801"
      ]
     },
     "execution_count": 193,
     "metadata": {},
     "output_type": "execute_result"
    }
   ],
   "source": [
    "len(contexts)"
   ]
  },
  {
   "cell_type": "code",
   "execution_count": 52,
   "metadata": {
    "collapsed": false,
    "deletable": true,
    "editable": true
   },
   "outputs": [
    {
     "name": "stdout",
     "output_type": "stream",
     "text": [
      "1\n",
      "1\n"
     ]
    }
   ],
   "source": [
    "asd = distance_matrix2 + distance_matrix2.T\n",
    "np.fill_diagonal(asd, 1)\n",
    "np.allclose(distance_matrix1, asd)\n",
    "for func, name in [(alignement_matrix_row_dist, 'dist'), (alignement_matrix_row_sim, 'sim')]:\n",
    "    print(1\n",
    "        )"
   ]
  },
  {
   "cell_type": "code",
   "execution_count": null,
   "metadata": {
    "collapsed": false,
    "deletable": true,
    "editable": true
   },
   "outputs": [
    {
     "name": "stdout",
     "output_type": "stream",
     "text": [
      "3 True <function alignement_matrix_row_dist at 0x7fa35527dae8> dist\n"
     ]
    },
    {
     "name": "stderr",
     "output_type": "stream",
     "text": [
      "\n",
      "\n",
      "\n",
      "\u001b[A\u001b[A\u001b[A"
     ]
    }
   ],
   "source": [
    "#alustas 6:40\n",
    "for window in [3,2,4]:\n",
    "    for symmetric in [True, False]:\n",
    "        for func, name in [(alignement_matrix_row_dist, 'dist'), (alignement_matrix_row_sim, 'sim')]:\n",
    "    #         symmetric = True\n",
    "    #         window = 4\n",
    "            print(window, symmetric, func, name)\n",
    "            apple_contexts = open('../datasets/apple_contexts_s_{}_w_{}.txt'.format(symmetric, window)).read().splitlines()\n",
    "            rock_contexts = open('../datasets/rock_contexts_s_{}_w_{}.txt'.format(symmetric, window)).read().splitlines()\n",
    "            pear_contexts = open('../datasets/pear_contexts_s_{}_w_{}.txt'.format(symmetric, window)).read().splitlines()\n",
    "            contexts = apple_contexts + rock_contexts + pear_contexts\n",
    "            labels = [0]*len(apple_contexts) + [1]*len(rock_contexts) + [2]*len(pear_contexts)\n",
    "            n = len(contexts)\n",
    "\n",
    "            distance_matrix_rows = Parallel(n_jobs=20)(delayed(func)(s1, s1_index, contexts, n) \n",
    "                                                                    for s1_index, s1 in enumerate(contexts))\n",
    "            distance_matrix = np.array(distance_matrix_rows)\n",
    "            \n",
    "            distance_matrix_partial = np.array(distance_matrix_rows)\n",
    "            distance_matrix = distance_matrix_partial + distance_matrix_partial.T\n",
    "            if func.__name__ == alignement_matrix_row_sim.__name__:\n",
    "                print('sim diag')\n",
    "                np.fill_diagonal(distance_matrix, 1)\n",
    "            if func.__name__ == alignement_matrix_row_dist.__name__:\n",
    "                print('dist diag')\n",
    "                np.fill_diagonal(distance_matrix, 0)\n",
    "            \n",
    "            filename = '../datasets/apple-rock-pear/alignement_{}_w_{}_s_{}.npy'.format(name, window, symmetric)\n",
    "\n",
    "            np.save(filename, distance_matrix)"
   ]
  },
  {
   "cell_type": "code",
   "execution_count": null,
   "metadata": {
    "collapsed": true,
    "deletable": true,
    "editable": true
   },
   "outputs": [],
   "source": [
    "# check max_distances"
   ]
  },
  {
   "cell_type": "code",
   "execution_count": 91,
   "metadata": {
    "collapsed": false,
    "deletable": true,
    "editable": true
   },
   "outputs": [
    {
     "name": "stdout",
     "output_type": "stream",
     "text": [
      "../datasets/apple-rock-pear/alignement_dist_w_3_s_True.npy\n"
     ]
    },
    {
     "name": "stderr",
     "output_type": "stream",
     "text": [
      "/media/cdata-work/anaconda3/lib/python3.5/site-packages/ipykernel/__main__.py:4: RuntimeWarning: invalid value encountered in greater\n"
     ]
    },
    {
     "name": "stdout",
     "output_type": "stream",
     "text": [
      "ABOVE 1 ../datasets/apple-rock-pear/alignement_dist_w_3_s_True.npy\n",
      "../datasets/apple-rock-pear/tfidf_cosine_distances_w_3_s_True.npy\n",
      "../datasets/apple-rock-pear/clipped_cos_dist_w_2_s_False.npy\n",
      "../datasets/apple-rock-pear/cos_dist_w_3_s_False.npy\n",
      "ABOVE 1 ../datasets/apple-rock-pear/cos_dist_w_3_s_False.npy\n",
      "../datasets/apple-rock-pear/tfidf_cosine_distances_w_2_s_False.npy\n",
      "../datasets/apple-rock-pear/clipped_cos_dist_w_4_s_True.npy\n",
      "../datasets/apple-rock-pear/tfidf_cosine_distances_w_4_s_False.npy\n",
      "../datasets/apple-rock-pear/clipped_cos_dist_w_3_s_True.npy\n",
      "../datasets/apple-rock-pear/cos_dist_w_2_s_False.npy\n",
      "ABOVE 1 ../datasets/apple-rock-pear/cos_dist_w_2_s_False.npy\n",
      "../datasets/apple-rock-pear/alignement_dist_w_2_s_False.npy\n",
      "ABOVE 1 ../datasets/apple-rock-pear/alignement_dist_w_2_s_False.npy\n",
      "../datasets/apple-rock-pear/cos_dist_w_4_s_False.npy\n",
      "ABOVE 1 ../datasets/apple-rock-pear/cos_dist_w_4_s_False.npy\n",
      "../datasets/apple-rock-pear/cos_dist_w_3_s_True.npy\n",
      "ABOVE 1 ../datasets/apple-rock-pear/cos_dist_w_3_s_True.npy\n",
      "../datasets/apple-rock-pear/tfidf_cosine_distances_w_2_s_True.npy\n",
      "../datasets/apple-rock-pear/clipped_cos_dist_w_3_s_False.npy\n",
      "../datasets/apple-rock-pear/tfidf_cosine_distances_w_3_s_False.npy\n",
      "../datasets/apple-rock-pear/clipped_cos_dist_w_2_s_True.npy\n",
      "../datasets/apple-rock-pear/cos_dist_w_4_s_True.npy\n",
      "ABOVE 1 ../datasets/apple-rock-pear/cos_dist_w_4_s_True.npy\n",
      "../datasets/apple-rock-pear/alignement_dist_w_3_s_False.npy\n",
      "ABOVE 1 ../datasets/apple-rock-pear/alignement_dist_w_3_s_False.npy\n",
      "../datasets/apple-rock-pear/tfidf_cosine_distances_w_4_s_True.npy\n",
      "../datasets/apple-rock-pear/alignement_dist_w_2_s_True.npy\n",
      "ABOVE 1 ../datasets/apple-rock-pear/alignement_dist_w_2_s_True.npy\n",
      "../datasets/apple-rock-pear/cos_dist_w_2_s_True.npy\n",
      "ABOVE 1 ../datasets/apple-rock-pear/cos_dist_w_2_s_True.npy\n",
      "../datasets/apple-rock-pear/clipped_cos_dist_w_4_s_False.npy\n"
     ]
    }
   ],
   "source": [
    "for dist_file in glob.glob('../datasets/apple-rock-pear/*dist*'):\n",
    "    dist = np.load(dist_file)\n",
    "    print(dist_file)\n",
    "    if dist[dist>1].any():\n",
    "        print('ABOVE 1', dist_file)"
   ]
  },
  {
   "cell_type": "code",
   "execution_count": 110,
   "metadata": {
    "collapsed": false,
    "deletable": true,
    "editable": true
   },
   "outputs": [
    {
     "name": "stderr",
     "output_type": "stream",
     "text": [
      "/media/cdata-work/anaconda3/lib/python3.5/site-packages/ipykernel/__main__.py:4: RuntimeWarning: invalid value encountered in greater\n"
     ]
    },
    {
     "data": {
      "text/plain": [
       "0.02220061794897864"
      ]
     },
     "execution_count": 110,
     "metadata": {},
     "output_type": "execute_result"
    }
   ],
   "source": [
    "filename = '../datasets/apple-rock-pear/alignement_dist_w_3_s_False.npy'\n",
    "dist = np.load(filename)\n",
    "\n",
    "dist[dist>1].shape\n",
    "\n",
    "dist.shape[0]*dist.shape[0]\n",
    "\n",
    "3091738/139263601"
   ]
  },
  {
   "cell_type": "code",
   "execution_count": 261,
   "metadata": {
    "collapsed": false,
    "deletable": true,
    "editable": true
   },
   "outputs": [
    {
     "data": {
      "text/plain": [
       "(4716,)"
      ]
     },
     "execution_count": 261,
     "metadata": {},
     "output_type": "execute_result"
    }
   ],
   "source": [
    "filename = '../datasets/apple-rock-pear/alignement_sim_w_3_s_False.npy'\n",
    "sim = np.load(filename)\n",
    "\n",
    "sim[sim>1].shape\n"
   ]
  },
  {
   "cell_type": "code",
   "execution_count": 337,
   "metadata": {
    "collapsed": false,
    "deletable": true,
    "editable": true
   },
   "outputs": [
    {
     "name": "stdout",
     "output_type": "stream",
     "text": [
      "../datasets/apple-rock-pear/alignement_sim_w_3_s_False.npy ../datasets/apple-rock-pear/alignement_dist_w_3_s_False.npy\n",
      "../datasets/apple-rock-pear/alignement_sim_w_3_s_True.npy ../datasets/apple-rock-pear/alignement_dist_w_3_s_True.npy\n",
      "../datasets/apple-rock-pear/alignement_sim_w_2_s_False.npy ../datasets/apple-rock-pear/alignement_dist_w_2_s_False.npy\n",
      "../datasets/apple-rock-pear/alignement_sim_w_2_s_True.npy ../datasets/apple-rock-pear/alignement_dist_w_2_s_True.npy\n"
     ]
    }
   ],
   "source": [
    "for sim_filename in glob.glob('../datasets/apple-rock-pear/alignement_sim_*'):\n",
    "    print(sim_filename, sim_filename.replace('sim', 'dist'))\n",
    "    dist_filename = sim_filename.replace('sim', 'dist')\n",
    "    sim = np.load(sim_filename)\n",
    "    dist = 1-sim\n",
    "    np.save(dist_filename, dist)"
   ]
  },
  {
   "cell_type": "code",
   "execution_count": 309,
   "metadata": {
    "collapsed": false,
    "deletable": true,
    "editable": true
   },
   "outputs": [],
   "source": [
    "sim = np.load(sim_filename)\n",
    "dist = np.load(sim_filename.replace('sim', 'dist').replace('/alig', '/backup/alig'))"
   ]
  },
  {
   "cell_type": "code",
   "execution_count": 320,
   "metadata": {
    "collapsed": false,
    "deletable": true,
    "editable": true
   },
   "outputs": [
    {
     "data": {
      "text/plain": [
       "(979638,)"
      ]
     },
     "execution_count": 320,
     "metadata": {},
     "output_type": "execute_result"
    }
   ],
   "source": [
    "sim[sim<0].shape"
   ]
  },
  {
   "cell_type": "code",
   "execution_count": 321,
   "metadata": {
    "collapsed": false,
    "deletable": true,
    "editable": true
   },
   "outputs": [
    {
     "data": {
      "text/plain": [
       "0.008515105590341123"
      ]
     },
     "execution_count": 321,
     "metadata": {},
     "output_type": "execute_result"
    }
   ],
   "source": [
    "979638/(sim.shape[0]**2)"
   ]
  },
  {
   "cell_type": "code",
   "execution_count": 322,
   "metadata": {
    "collapsed": true,
    "deletable": true,
    "editable": true
   },
   "outputs": [],
   "source": [
    "filename = '../datasets/apple-rock-pear/alignement_sim_w_2_s_True.npy'\n",
    "sim2 = np.load(filename)\n",
    "filename = '../datasets/apple-rock-pear/alignement_dist_w_2_s_True.npy'\n",
    "dist2 = np.load(filename)\n",
    "\n"
   ]
  },
  {
   "cell_type": "code",
   "execution_count": 327,
   "metadata": {
    "collapsed": false,
    "deletable": true,
    "editable": true
   },
   "outputs": [
    {
     "data": {
      "text/plain": [
       "True"
      ]
     },
     "execution_count": 327,
     "metadata": {},
     "output_type": "execute_result"
    }
   ],
   "source": [
    "np.allclose(sim2, 1-dist2)"
   ]
  },
  {
   "cell_type": "code",
   "execution_count": 333,
   "metadata": {
    "collapsed": false,
    "deletable": true,
    "editable": true
   },
   "outputs": [
    {
     "data": {
      "text/plain": [
       "((9620, 9620), (10726, 10726))"
      ]
     },
     "execution_count": 333,
     "metadata": {},
     "output_type": "execute_result"
    }
   ],
   "source": [
    "sim2.shape, dist2.shape"
   ]
  },
  {
   "cell_type": "code",
   "execution_count": 339,
   "metadata": {
    "collapsed": true,
    "deletable": true,
    "editable": true
   },
   "outputs": [
    {
     "name": "stdout",
     "output_type": "stream",
     "text": [
      "../datasets/apple-rock-pear/alignement_sim_w_3_s_True.npy (9620, 9620)\n",
      "../datasets/apple-rock-pear/alignement_dist_w_3_s_True.npy (9620, 9620)\n",
      "True\n",
      "../datasets/apple-rock-pear/alignement_sim_w_3_s_False.npy (11801, 11801)\n",
      "../datasets/apple-rock-pear/alignement_dist_w_3_s_False.npy (11801, 11801)\n",
      "True\n",
      "../datasets/apple-rock-pear/alignement_sim_w_2_s_True.npy (10726, 10726)\n",
      "../datasets/apple-rock-pear/alignement_dist_w_2_s_True.npy (10726, 10726)\n",
      "True\n",
      "../datasets/apple-rock-pear/alignement_sim_w_2_s_False.npy (12097, 12097)\n",
      "../datasets/apple-rock-pear/alignement_dist_w_2_s_False.npy (12097, 12097)\n",
      "True\n"
     ]
    }
   ],
   "source": [
    "for window in [3,2]:\n",
    "    for symmetric in [True, False]:\n",
    "        filename = '../datasets/apple-rock-pear/alignement_sim_w_{}_s_{}.npy'.format(window, symmetric)\n",
    "        sim2 = np.load(filename)\n",
    "        print(filename, sim2.shape)\n",
    "        filename = '../datasets/apple-rock-pear/alignement_dist_w_{}_s_{}.npy'.format(window, symmetric)\n",
    "        dist2 = np.load(filename)\n",
    "        print(filename, dist2.shape)\n",
    "        print(np.allclose(sim2, 1-dist2))"
   ]
  },
  {
   "cell_type": "code",
   "execution_count": 348,
   "metadata": {
    "collapsed": false,
    "deletable": true,
    "editable": true
   },
   "outputs": [
    {
     "data": {
      "text/plain": [
       "0.011455799384831256"
      ]
     },
     "execution_count": 348,
     "metadata": {},
     "output_type": "execute_result"
    }
   ],
   "source": [
    "sim2[sim2<0].shape[0]/sim2.shape[0]**2"
   ]
  },
  {
   "cell_type": "code",
   "execution_count": 350,
   "metadata": {
    "collapsed": true,
    "deletable": true,
    "editable": true
   },
   "outputs": [
    {
     "name": "stdout",
     "output_type": "stream",
     "text": [
      "../datasets/apple-rock-pear/alignement_dist_w_3_s_True.npy\n",
      "max 1.2121040634810925 (0.0019052692545416037), min -2.384185791015625e-07 (1.9342067159114975e-05)\n",
      "../datasets/apple-rock-pear/tfidf_cosine_distances_w_3_s_True.npy\n",
      "max 1.0 (0.0), min 0.0 (0.0)\n",
      "../datasets/apple-rock-pear/tfidf_cosine_similarity_w_4_s_True.npy\n",
      "max 1.0000000000000004 (4.902363923508069e-05), min 0.0 (0.0)\n",
      "../datasets/apple-rock-pear/cos_sim_w_2_s_False.npy\n",
      "max 1.0 (0.0), min -0.5705318450927734 (0.08919834025488316)\n",
      "../datasets/apple-rock-pear/tfidf_cosine_similarity_w_2_s_False.npy\n",
      "max 1.0000000000000004 (3.411977862748684e-05), min 0.0 (0.0)\n",
      "../datasets/apple-rock-pear/alignement_sim_w_3_s_False.npy\n",
      "max 1.000000238418579 (3.386383783081984e-05), min -0.37082311511039734 (0.003673292923109176)\n",
      "../datasets/apple-rock-pear/cos_dist_w_3_s_False.npy\n",
      "max 1.6227898597717285 (0.06816227594172292), min 0.0 (0.0)\n",
      "../datasets/apple-rock-pear/alignement_sim_w_3_s_True.npy\n",
      "max 1.000000238418579 (1.9342067159114975e-05), min -0.21210406348109245 (0.0019052692545416037)\n",
      "../datasets/apple-rock-pear/tfidf_cosine_distances_w_2_s_False.npy\n",
      "max 1.0 (0.0), min 0.0 (0.0)\n",
      "../datasets/apple-rock-pear/tfidf_cosine_distances_w_4_s_False.npy\n",
      "max 1.0 (0.0), min 0.0 (0.0)\n",
      "../datasets/apple-rock-pear/cos_sim_w_4_s_True.npy\n",
      "max 1.0 (0.0), min -0.5654020309448242 (0.04786602900158766)\n",
      "../datasets/apple-rock-pear/tfidf_cosine_similarity_w_3_s_False.npy\n",
      "max 1.0000000000000004 (3.3210400756476204e-05), min 0.0 (0.0)\n",
      "../datasets/apple-rock-pear/cos_dist_w_2_s_False.npy\n",
      "max 1.5705318450927734 (0.08919834025488316), min 0.0 (0.0)\n",
      "../datasets/apple-rock-pear/tfidf_cosine_similarity_w_3_s_True.npy\n",
      "max 1.0000000000000007 (4.176373718993262e-05), min 0.0 (0.0)\n",
      "../datasets/apple-rock-pear/cos_sim_w_3_s_True.npy\n",
      "max 1.0 (0.0), min -0.6070233583450317 (0.05839741788806238)\n",
      "../datasets/apple-rock-pear/alignement_dist_w_2_s_False.npy\n",
      "max 1.3987378478050232 (0.011455799384831256), min -2.980232238769531e-07 (6.95789276957883e-05)\n",
      "../datasets/apple-rock-pear/cos_dist_w_4_s_False.npy\n",
      "max 1.5948529243469238 (0.05850003287902153), min 0.0 (0.0)\n",
      "../datasets/apple-rock-pear/tfidf_cosine_similarity_w_4_s_False.npy\n",
      "max 1.0000000000000004 (3.687802460312976e-05), min 0.0 (0.0)\n",
      "../datasets/apple-rock-pear/cos_sim_w_2_s_True.npy\n",
      "max 1.0 (0.0), min -0.5705318450927734 (0.08152932109287159)\n",
      "../datasets/apple-rock-pear/cos_dist_w_3_s_True.npy\n",
      "max 1.6070233583450317 (0.05839741788806238), min 0.0 (0.0)\n",
      "../datasets/apple-rock-pear/cos_sim_w_3_s_False.npy\n",
      "max 1.0 (0.0), min -0.6227898597717285 (0.06816227594172292)\n",
      "../datasets/apple-rock-pear/tfidf_cosine_distances_w_2_s_True.npy\n",
      "max 1.0 (0.0), min 0.0 (0.0)\n",
      "../datasets/apple-rock-pear/tfidf_cosine_similarity_w_2_s_True.npy\n",
      "max 1.0000000000000004 (3.9279572824606164e-05), min 0.0 (0.0)\n",
      "../datasets/apple-rock-pear/tfidf_cosine_distances_w_3_s_False.npy\n",
      "max 1.0 (0.0), min 0.0 (0.0)\n",
      "../datasets/apple-rock-pear/alignement_sim_w_2_s_False.npy\n",
      "max 1.0000002980232239 (6.95789276957883e-05), min -0.3987378478050232 (0.011455799384831256)\n",
      "../datasets/apple-rock-pear/alignement_sim_w_2_s_True.npy\n",
      "max 1.0000002980232239 (4.7041612774235134e-05), min -0.3053555488586426 (0.008515105590341123)\n",
      "../datasets/apple-rock-pear/cos_dist_w_4_s_True.npy\n",
      "max 1.5654020309448242 (0.04786602900158766), min 0.0 (0.0)\n",
      "../datasets/apple-rock-pear/alignement_dist_w_3_s_False.npy\n",
      "max 1.3708231151103973 (0.003673292923109176), min -2.384185791015625e-07 (3.386383783081984e-05)\n",
      "../datasets/apple-rock-pear/tfidf_cosine_distances_w_4_s_True.npy\n",
      "max 1.0 (0.0), min 0.0 (0.0)\n",
      "../datasets/apple-rock-pear/cos_sim_w_4_s_False.npy\n",
      "max 1.0 (0.0), min -0.5948529243469238 (0.05850003287902153)\n",
      "../datasets/apple-rock-pear/alignement_dist_w_2_s_True.npy\n",
      "max 1.3053555488586426 (0.008515105590341123), min -2.980232238769531e-07 (4.7041612774235134e-05)\n",
      "../datasets/apple-rock-pear/cos_dist_w_2_s_True.npy\n",
      "max 1.5705318450927734 (0.08152932109287159), min 0.0 (0.0)\n",
      "../datasets/apple-rock-pear/backup\n"
     ]
    },
    {
     "ename": "IsADirectoryError",
     "evalue": "[Errno 21] Is a directory: '../datasets/apple-rock-pear/backup'",
     "output_type": "error",
     "traceback": [
      "\u001b[0;31m---------------------------------------------------------------------------\u001b[0m",
      "\u001b[0;31mIsADirectoryError\u001b[0m                         Traceback (most recent call last)",
      "\u001b[0;32m<ipython-input-350-d07d856fa156>\u001b[0m in \u001b[0;36m<module>\u001b[0;34m()\u001b[0m\n\u001b[1;32m      1\u001b[0m \u001b[0;32mfor\u001b[0m \u001b[0mfile\u001b[0m \u001b[0;32min\u001b[0m \u001b[0mglob\u001b[0m\u001b[0;34m.\u001b[0m\u001b[0mglob\u001b[0m\u001b[0;34m(\u001b[0m\u001b[0;34m'../datasets/apple-rock-pear/*'\u001b[0m\u001b[0;34m)\u001b[0m\u001b[0;34m:\u001b[0m\u001b[0;34m\u001b[0m\u001b[0m\n\u001b[1;32m      2\u001b[0m     \u001b[0mprint\u001b[0m\u001b[0;34m(\u001b[0m\u001b[0mfile\u001b[0m\u001b[0;34m)\u001b[0m\u001b[0;34m\u001b[0m\u001b[0m\n\u001b[0;32m----> 3\u001b[0;31m     \u001b[0marr\u001b[0m \u001b[0;34m=\u001b[0m \u001b[0mnp\u001b[0m\u001b[0;34m.\u001b[0m\u001b[0mload\u001b[0m\u001b[0;34m(\u001b[0m\u001b[0mfile\u001b[0m\u001b[0;34m)\u001b[0m\u001b[0;34m\u001b[0m\u001b[0m\n\u001b[0m\u001b[1;32m      4\u001b[0m     \u001b[0mmin_f\u001b[0m \u001b[0;34m=\u001b[0m \u001b[0marr\u001b[0m\u001b[0;34m[\u001b[0m\u001b[0marr\u001b[0m\u001b[0;34m<\u001b[0m\u001b[0;36m0\u001b[0m\u001b[0;34m]\u001b[0m\u001b[0;34m.\u001b[0m\u001b[0mshape\u001b[0m\u001b[0;34m[\u001b[0m\u001b[0;36m0\u001b[0m\u001b[0;34m]\u001b[0m\u001b[0;34m/\u001b[0m\u001b[0marr\u001b[0m\u001b[0;34m.\u001b[0m\u001b[0mshape\u001b[0m\u001b[0;34m[\u001b[0m\u001b[0;36m0\u001b[0m\u001b[0;34m]\u001b[0m\u001b[0;34m**\u001b[0m\u001b[0;36m2\u001b[0m\u001b[0;34m\u001b[0m\u001b[0m\n\u001b[1;32m      5\u001b[0m     \u001b[0mmax_f\u001b[0m \u001b[0;34m=\u001b[0m \u001b[0marr\u001b[0m\u001b[0;34m[\u001b[0m\u001b[0marr\u001b[0m\u001b[0;34m>\u001b[0m\u001b[0;36m1\u001b[0m\u001b[0;34m]\u001b[0m\u001b[0;34m.\u001b[0m\u001b[0mshape\u001b[0m\u001b[0;34m[\u001b[0m\u001b[0;36m0\u001b[0m\u001b[0;34m]\u001b[0m\u001b[0;34m/\u001b[0m\u001b[0marr\u001b[0m\u001b[0;34m.\u001b[0m\u001b[0mshape\u001b[0m\u001b[0;34m[\u001b[0m\u001b[0;36m0\u001b[0m\u001b[0;34m]\u001b[0m\u001b[0;34m**\u001b[0m\u001b[0;36m2\u001b[0m\u001b[0;34m\u001b[0m\u001b[0m\n",
      "\u001b[0;32m/media/cdata-work/anaconda3/lib/python3.5/site-packages/numpy/lib/npyio.py\u001b[0m in \u001b[0;36mload\u001b[0;34m(file, mmap_mode, allow_pickle, fix_imports, encoding)\u001b[0m\n\u001b[1;32m    360\u001b[0m     \u001b[0mown_fid\u001b[0m \u001b[0;34m=\u001b[0m \u001b[0;32mFalse\u001b[0m\u001b[0;34m\u001b[0m\u001b[0m\n\u001b[1;32m    361\u001b[0m     \u001b[0;32mif\u001b[0m \u001b[0misinstance\u001b[0m\u001b[0;34m(\u001b[0m\u001b[0mfile\u001b[0m\u001b[0;34m,\u001b[0m \u001b[0mbasestring\u001b[0m\u001b[0;34m)\u001b[0m\u001b[0;34m:\u001b[0m\u001b[0;34m\u001b[0m\u001b[0m\n\u001b[0;32m--> 362\u001b[0;31m         \u001b[0mfid\u001b[0m \u001b[0;34m=\u001b[0m \u001b[0mopen\u001b[0m\u001b[0;34m(\u001b[0m\u001b[0mfile\u001b[0m\u001b[0;34m,\u001b[0m \u001b[0;34m\"rb\"\u001b[0m\u001b[0;34m)\u001b[0m\u001b[0;34m\u001b[0m\u001b[0m\n\u001b[0m\u001b[1;32m    363\u001b[0m         \u001b[0mown_fid\u001b[0m \u001b[0;34m=\u001b[0m \u001b[0;32mTrue\u001b[0m\u001b[0;34m\u001b[0m\u001b[0m\n\u001b[1;32m    364\u001b[0m     \u001b[0;32melse\u001b[0m\u001b[0;34m:\u001b[0m\u001b[0;34m\u001b[0m\u001b[0m\n",
      "\u001b[0;31mIsADirectoryError\u001b[0m: [Errno 21] Is a directory: '../datasets/apple-rock-pear/backup'"
     ]
    }
   ],
   "source": [
    "for file in glob.glob('../datasets/apple-rock-pear/*'):\n",
    "    print(file)\n",
    "    arr = np.load(file)\n",
    "    min_f = arr[arr<0].shape[0]/arr.shape[0]**2\n",
    "    max_f = arr[arr>1].shape[0]/arr.shape[0]**2\n",
    "    print('max {} ({}), min {} ({})'.format(np.max(arr), max_f, np.min(arr), min_f))"
   ]
  },
  {
   "cell_type": "code",
   "execution_count": 361,
   "metadata": {
    "collapsed": false,
    "deletable": true,
    "editable": true
   },
   "outputs": [
    {
     "name": "stdout",
     "output_type": "stream",
     "text": [
      "../datasets/apple-rock-pear/alignement_sim_w_3_s_False.npy\n",
      "../datasets/apple-rock-pear/alignement_sim_w_3_s_True.npy\n",
      "../datasets/apple-rock-pear/alignement_sim_w_2_s_False.npy\n",
      "../datasets/apple-rock-pear/alignement_sim_w_2_s_True.npy\n",
      "../datasets/apple-rock-pear/cos_sim_w_2_s_False.npy\n",
      "../datasets/apple-rock-pear/cos_sim_w_4_s_True.npy\n",
      "../datasets/apple-rock-pear/cos_sim_w_3_s_True.npy\n",
      "../datasets/apple-rock-pear/cos_sim_w_2_s_True.npy\n",
      "../datasets/apple-rock-pear/cos_sim_w_3_s_False.npy\n",
      "../datasets/apple-rock-pear/cos_sim_w_4_s_False.npy\n"
     ]
    }
   ],
   "source": [
    "for file in glob.glob('../datasets/apple-rock-pear/alig*sim*') + glob.glob('../datasets/apple-rock-pear/cos*sim*'):\n",
    "    print(file)\n",
    "    sim = np.load(file)\n",
    "    sim[sim<0] = 0\n",
    "    np.save(file, sim)"
   ]
  },
  {
   "cell_type": "code",
   "execution_count": 29,
   "metadata": {
    "collapsed": true
   },
   "outputs": [],
   "source": [
    "s1 = 'kes see on'\n",
    "s2 = 'mis see on'"
   ]
  },
  {
   "cell_type": "code",
   "execution_count": 39,
   "metadata": {
    "collapsed": false
   },
   "outputs": [
    {
     "data": {
      "text/plain": [
       "4.534144507413864"
      ]
     },
     "execution_count": 39,
     "metadata": {},
     "output_type": "execute_result"
    }
   ],
   "source": [
    "model.wmdistance(s1, s2)"
   ]
  },
  {
   "cell_type": "code",
   "execution_count": 33,
   "metadata": {
    "collapsed": false
   },
   "outputs": [
    {
     "data": {
      "text/plain": [
       "(0.89924401044845581, 0.10075618823369344)"
      ]
     },
     "execution_count": 33,
     "metadata": {},
     "output_type": "execute_result"
    }
   ],
   "source": [
    "alignement_cos_sim_contexts(s1, s2), alignement_cos_dist_contexts(s1, s2)"
   ]
  },
  {
   "cell_type": "code",
   "execution_count": 38,
   "metadata": {
    "collapsed": false
   },
   "outputs": [
    {
     "data": {
      "text/plain": [
       "4.9630372483904166"
      ]
     },
     "execution_count": 38,
     "metadata": {},
     "output_type": "execute_result"
    }
   ],
   "source": [
    "alignement_cos_metric_contexts(s1, s2, \n",
    "                        sum_init=np.inf,\n",
    "                        comparison=operator.lt,\n",
    "                        metric=euclidean_distances)"
   ]
  },
  {
   "cell_type": "code",
   "execution_count": 165,
   "metadata": {
    "collapsed": false
   },
   "outputs": [],
   "source": [
    "contexts1 = open('../datasets/tee_sõidu_contexts_s_True_w_3.txt').read().splitlines()\n",
    "contexts2 = open('../datasets/tee_jook_contexts_s_True_w_3.txt').read().splitlines()\n",
    "contexts = contexts1 + contexts2   "
   ]
  },
  {
   "cell_type": "code",
   "execution_count": 117,
   "metadata": {
    "collapsed": true
   },
   "outputs": [
    {
     "name": "stderr",
     "output_type": "stream",
     "text": [
      "  2%|▏         | 30/1394 [00:00<00:04, 295.00it/s]"
     ]
    },
    {
     "name": "stdout",
     "output_type": "stream",
     "text": [
      "0.00614504748955 0.0\n",
      "24.1441822052 24.144190423217776\n",
      "22.3098640442 22.30985956700325\n",
      "21.1138138771 21.113818520500182\n",
      "19.750338316 19.750340102748872\n",
      "23.3878073692 23.387805554857255\n",
      "22.3130712509 22.313070702884197\n",
      "24.3968558311 24.396852013373852\n",
      "17.4381039143 17.43810702956009\n",
      "21.6400825977 21.640083193737983\n",
      "20.1789999008 20.179003977941512\n",
      "21.9719252586 21.97192564641714\n",
      "24.1218447685 24.121840367451192\n",
      "26.7697620392 26.76976627901268\n",
      "20.4579758644 20.45797225879669\n",
      "20.3128261566 20.31282124562073\n",
      "20.9780888557 20.97808349876404\n",
      "22.0690588951 22.06906008927154\n",
      "25.4142317772 25.414241669757843\n",
      "21.6488275528 21.648828184035303\n",
      "20.4182116985 20.418216379730225\n",
      "19.3104908466 19.310492104994772\n",
      "24.7284989357 24.728501850090026\n",
      "23.9035334587 23.90353048756027\n",
      "21.5000433922 21.500039486555103\n",
      "20.5856571198 20.58566016357279\n",
      "22.867202282 22.8672009434309\n",
      "22.661261797 22.661264186862944\n",
      "23.9693832397 23.96938322522688\n",
      "22.6741905212 22.674190268221377\n",
      "19.7705550194 19.77055637505722\n",
      "21.6561894417 21.65618953318596\n",
      "24.0387768745 24.03877437812805\n",
      "20.9279942513 20.92799518303871\n",
      "22.5227618217 22.522755836515906\n",
      "20.25826931"
     ]
    },
    {
     "name": "stderr",
     "output_type": "stream",
     "text": [
      "  8%|▊         | 118/1394 [00:00<00:04, 290.58it/s]"
     ]
    },
    {
     "name": "stdout",
     "output_type": "stream",
     "text": [
      " 20.258262657767773\n",
      "23.7736930847 23.77368599408054\n",
      "24.3516392708 24.351641921839715\n",
      "19.4691307545 19.469126452281476\n",
      "24.1974525452 24.1974548223114\n",
      "25.1948251724 25.19483121780014\n",
      "23.7892208099 23.78922250740719\n",
      "21.4233663082 21.423364939818384\n",
      "22.7845401764 22.784540286174774\n",
      "24.641228199 24.641225674415587\n",
      "22.7513198853 22.75132690398455\n",
      "23.5546255112 23.554630129665377\n",
      "23.8718276024 23.871831526555063\n",
      "17.4912142754 17.491203314105988\n",
      "24.6072616577 24.60725920882511\n",
      "20.9147222042 20.914723482151032\n",
      "23.4313716888 23.431366687288282\n",
      "25.1065716743 25.106572607686044\n",
      "23.1802411079 23.180241000520706\n",
      "22.5914855003 22.591480853578567\n",
      "16.6717705727 16.671765166152\n",
      "21.418387413 21.41838637760162\n",
      "22.7598671913 22.75985668791962\n",
      "22.2680997849 22.268100216890335\n",
      "23.0543169975 23.05431735936356\n",
      "22.1939640045 22.193957323819163\n",
      "22.4794912338 22.479486460113524\n",
      "24.5431723595 24.543175516507624\n",
      "22.5948996544 22.594898029559136\n",
      "20.1966683865 20.196669874523163\n",
      "25.519888401 25.51988353410244\n",
      "22.2329719067 22.232974216165545\n",
      "24.1433768272 24.143377984006886\n",
      "19.0792148113 19.079209399077413\n",
      "21.2749736309 21.27497208041668\n",
      "22.126803875 22.126797720083236\n",
      "27.3606843948 27.36068927780342\n",
      "21.3769254684 21.376918402950764\n",
      "22.2361574173 22.23615281456137\n",
      "20.7426505089 20.74264847728586\n",
      "23.8442468643 23.844246767051697\n",
      "21.820104599 21.820105174623013\n",
      "17.2665593529 17.263176912917615\n",
      "22.2559223175 22.255925261678694\n",
      "22.9560494423 22.956046874798297\n",
      "20.2338798046 20.23387414775848\n",
      "23.0710368156 23.071043389623643\n",
      "20.9159412384 20.915941154836176\n",
      "27.4537053108 27.453700686294553\n",
      "23.6411366463 23.64113805572176\n",
      "23.0521945953 23.052193681331634\n",
      "21.1332259178 21.133233340773586\n",
      "22.5241026878 22.524098588290215\n",
      "21.8973689079 21.897372014480588\n",
      "24.2059795856 24.20597371561718\n",
      "21.2260665894 21.226066451189517\n",
      "22.7880158424 22.788013833701612\n",
      "24.2291717529 24.229173196456912\n",
      "24.0845885277 24.084586713804246\n",
      "21.8599963188 21.85999776675034\n",
      "22.7582170963 22.758204533839226\n",
      "23.9871602058 23.98716334893608\n",
      "23.8232917786 23.82329214793253\n",
      "21.6489808559 21.64898155674362\n",
      "22.063044548 22.06304590705013\n",
      "21.247396946 21.24739718352127\n",
      "22.489256382 22.48925474689007\n",
      "20.8333227634 20.83331836832428\n",
      "23.2063069344 23.20630424122286\n",
      "19.1168966293 19.116902904282572\n",
      "23.206451416 23.20644007049799\n",
      "21.1528460979 21.152850212712288\n",
      "22.5156369209 22.51563626430416\n",
      "19.1651945114 19.16518882554531\n",
      "19.3675730228 19.367570955147745\n",
      "20.342056036 20.342052589330674\n",
      "21.7722992897 21.77230717745972\n",
      "21.1707363129 21.170738883912087\n",
      "23.4823646545 23.482369081935882\n",
      "19.9294190407 19.929417808796885\n",
      "24.1412668228 24.141265656198502\n",
      "23.4900398254 23.490040499649524\n",
      "21.3051347733 21.30512956487036\n",
      "19.9902112484 "
     ]
    },
    {
     "name": "stderr",
     "output_type": "stream",
     "text": [
      " 13%|█▎        | 175/1394 [00:00<00:04, 285.58it/s]"
     ]
    },
    {
     "name": "stdout",
     "output_type": "stream",
     "text": [
      "19.990207463174343\n",
      "21.1465315819 21.14653304803133\n",
      "17.9930391312 17.99304181967926\n",
      "23.3846120834 23.384603564993856\n",
      "18.7540066242 18.75400107502937\n",
      "20.2140874863 20.21408607463741\n",
      "24.0778074265 24.077806266288757\n",
      "23.2324962616 23.232494612998963\n",
      "22.8854646683 22.88546245101261\n",
      "19.1106209755 19.110617899942397\n",
      "25.2713365555 25.271338927898405\n",
      "20.8218007088 20.821804221153258\n",
      "24.9226651192 24.922665194625377\n",
      "21.4657912254 21.46579381499147\n",
      "24.0988025665 24.09879957450676\n",
      "24.095952034 24.095952544989583\n",
      "22.7869906425 22.78698826043701\n",
      "25.2072854042 25.207283726069928\n",
      "21.766043663 21.766040832386018\n",
      "20.8126802444 20.81267932635784\n",
      "22.696574688 22.696571619606974\n",
      "23.0554795265 23.055475970587732\n",
      "24.7365612984 24.736552575912476\n",
      "24.1474151611 24.14742181696701\n",
      "24.1977462769 24.197747910731316\n",
      "21.7495503426 21.749551919204713\n",
      "21.8053052425 21.805307132635118\n",
      "20.624997139 20.624993783894062\n",
      "22.5217700005 22.52176708401918\n",
      "20.6161930561 20.616196788589956\n",
      "26.2979545593 26.297964864387513\n",
      "19.3955204487 19.395515023842812\n",
      "21.0867848396 21.08678249049377\n",
      "20.3880083561 20.388009510784148\n",
      "19.4097344875 19.409728036709783\n",
      "21.4585156441 21.458522620991708\n",
      "24.2533607483 24.25336314704895\n",
      "27.0259480476 27.025949802231786\n",
      "23.3721938133 23.372187687788962\n",
      "23.0661258698 23.066125893688202\n",
      "23.2287163734 23.228722828918933\n",
      "22.3405804634 22.34057604789543\n",
      "23.8639030457 23.863901307601928\n",
      "22.5629272461 22.562928342988013\n",
      "24.0278611183 24.027854728738784\n",
      "24.3833861351 24.38338549107885\n",
      "21.939987421 21.939992576026437\n",
      "20.6662678719 20.666265008254054\n",
      "19.0561027527 19.056103094717027\n",
      "21.5496590137 21.54966162726879\n",
      "22.0268514156 22.026846532718185\n",
      "25.1189684868 25.118958745079038\n",
      "20.4162225723 20.41622726922989\n",
      "21.0504283905 21.050426112585065\n",
      "23.6103920937 23.610389786125186\n",
      "23.5603451729 23.56034431377125\n",
      "23.9460501671 23.94605427806854\n",
      "21.5769696236 21.576969544707296\n",
      "23.4553961754 23.45539812667084\n",
      "22.5625917912"
     ]
    },
    {
     "name": "stderr",
     "output_type": "stream",
     "text": [
      " 17%|█▋        | 232/1394 [00:00<00:04, 281.04it/s]"
     ]
    },
    {
     "name": "stdout",
     "output_type": "stream",
     "text": [
      " 22.5625863935895\n",
      "23.6311535835 23.63115408770609\n",
      "23.4761190414 23.47611437455368\n",
      "23.3864269257 23.38642571811581\n",
      "24.389598608 24.389597526763914\n",
      "21.3301458359 21.33015061707401\n",
      "19.2686595917 19.26865823881531\n",
      "22.1796216965 22.179617198753355\n",
      "20.5239887238 20.5239851298995\n",
      "19.2328078747 19.232807649936678\n",
      "23.8543539047 23.854356671954157\n",
      "23.1483421326 23.14834799534893\n",
      "22.8276267052 22.82762431180525\n",
      "18.9846282005 18.9846255131073\n",
      "20.6438467503 20.643853596317292\n",
      "22.683816433 22.68382259613037\n",
      "20.3928842545 20.39288243628025\n",
      "21.715241909 21.715240967735287\n",
      "18.8559622765 18.85596274164772\n",
      "20.5344777107 20.534477791677475\n",
      "23.9753441811 23.97534490548849\n",
      "23.1928253174 23.192816779804232\n",
      "22.8220062256 22.822001378579614\n",
      "22.1635808945 22.163576919441223\n",
      "22.5554790497 22.5554754508152\n",
      "22.5925607681 22.592561341926572\n",
      "26.0619220734 26.06191889300346\n",
      "21.6712636948 21.671265525839807\n",
      "19.5245797634 19.524581695846557\n",
      "23.2120218277 23.21202159942198\n",
      "25.277782917 25.277783817443847\n",
      "23.2037987709 23.203802571899413\n",
      "21.3308169842 21.330824647116664\n",
      "24.8305549622 24.830549176428793\n",
      "20.1491467953 20.149139029784205\n",
      "22.5046687126 22.504669853070258\n",
      "18.7042479515 18.704246622053144\n",
      "21.9144339561 21.914435743618014\n",
      "23.8197536469 23.819751524895665\n",
      "23.3724889755 23.372491312185286\n",
      "22.4669084549 22.466912580159185\n",
      "28.6644883156 28.6644917240715\n",
      "19.7915921211 19.791585027081013\n",
      "21.7184882164 21.71847818340826\n",
      "22.9212441444 22.921240520183563\n",
      "22.3633422852 22.363337570757864\n",
      "23.2647385597 23.264737333953857\n",
      "23.3060994148 23.306099887585642\n",
      "18.0924568176 18.09246017693281\n",
      "23.5588288307 23.558830382424834\n",
      "21.2855682373 21.285562252464295\n",
      "21.9437842369 21.943789160609246\n",
      "21.4295647144 21.42955542976999\n",
      "20.4173653126 20.417366696624757\n",
      "24.9998202324 24.999822988898277\n",
      "21.3825659752 21.382573661674975\n",
      "22.5457930565 22.54578893572331\n",
      "23.9350681305 23.935068050453662\n",
      "23.3464841843 23.346475090203285\n",
      "23.7633843422 23.763387220026495\n",
      "25.0131015778 25.013100111306667\n",
      "21.8073611259 21.807365127027033\n",
      "22.283390522 22.28338656824684\n",
      "21.7237482071 21.723755486598492\n",
      "24.2674264908 24.267421588760374\n",
      "23.6832370758 23.68323687101364\n",
      "21.9409856796 21.940981089839934\n",
      "23.2708539963 23.270856960216523\n",
      "22.8981175423 22.898124087598802\n",
      "27.1964478493 27.196452251356128\n",
      "21.2615642548 21.261567292717935\n",
      "21.9520907402 21.952093515935896\n",
      "19.1310386658 19.131043684682847\n",
      "21.6945948601 21.694599139420987\n",
      "23.6554946899 23.655500565879823\n",
      "22.2780590057 22.278059634108068\n",
      "22.7303261757 22.730329105359075\n",
      "17.13529706 17.13529654811096\n",
      "22.9779195786 22.977919234783172\n",
      "23.3601999283 23.360198802707195\n",
      "23.1734032631 23.173397928345683\n"
     ]
    },
    {
     "name": "stderr",
     "output_type": "stream",
     "text": [
      " 23%|██▎       | 319/1394 [00:01<00:03, 283.15it/s]"
     ]
    },
    {
     "name": "stdout",
     "output_type": "stream",
     "text": [
      "21.5564351082 21.55643569100857\n",
      "26.7018857002 26.70188217554855\n",
      "24.319881916 24.319882412264345\n",
      "22.949801445 22.949799280218127\n",
      "23.0419704914 23.041968124644754\n",
      "22.1110281944 22.11102622718811\n",
      "21.9837055206 21.98370154411793\n",
      "24.4441933632 24.44419657204628\n",
      "21.9167256355 21.91671937582016\n",
      "22.4723572731 22.472352769533632\n",
      "23.9410386086 23.941037345891\n",
      "23.5858006477 23.585801405921938\n",
      "22.657623291 22.65762598464203\n",
      "23.3653535843 23.365356463230132\n",
      "25.0711860657 25.07117665482044\n",
      "23.2725195885 23.272522598075867\n",
      "20.5805344582 20.580540967764854\n",
      "21.7271771431 21.727183746391294\n",
      "23.9312419891 23.931239387554648\n",
      "22.8215503693 22.821550765373228\n",
      "23.6760134697 23.67601331562996\n",
      "25.9183554649 25.91835637377453\n",
      "19.1962275505 19.196227859384535\n",
      "22.3097801208 22.309780346699714\n",
      "22.0294837952 22.029483469576835\n",
      "21.7534122467 21.75340977430344\n",
      "23.478225708 23.478220307319162\n",
      "22.6088700294 22.60886455063486\n",
      "24.1365184784 24.136522277784348\n",
      "22.3769388199 22.37694330395651\n",
      "23.0800747871 23.080076168334962\n",
      "22.3221654892 22.322167054423808\n",
      "21.2162537575 21.216255429630756\n",
      "23.16269207 23.162683623082163\n",
      "23.1764531136 23.1764527309885\n",
      "21.5477108955 21.54771047318888\n",
      "23.28074646 23.280752845350268\n",
      "22.493452549 22.493452938949588\n",
      "20.2402787209 20.240284789157865\n",
      "21.3840894699 21.3840852459507\n",
      "20.9017086029 20.90170552801609\n",
      "24.3440651894 24.34406095904827\n",
      "23.1313385963 23.13133857937098\n",
      "22.6795740128 22.679569169651987\n",
      "23.62377882 23.623775339489935\n",
      "24.7224183083 24.7224214942646\n",
      "24.1917982101 24.19180244657707\n",
      "25.6268219948 25.62681879585266\n",
      "22.6841769218 22.684180099504474\n",
      "25.5898795128 25.58987921637726\n",
      "22.2602171898 22.260211522609236\n",
      "22.1452798843 22.145278154439925\n",
      "15.7062447071 15.706247754870414\n",
      "21.6863563061 21.686357911709788\n",
      "21.8035855293 21.80358957777977\n",
      "25.7629103661 25.762902869068146\n",
      "22.3720116615 22.37201315638161\n",
      "21.339466095 21.339466320514678\n",
      "19.4539937973 19.453989597320557\n",
      "19.0091011524 19.009101931705473\n",
      "22.5697178841 22.569715792299746\n",
      "22.3580579758"
     ]
    },
    {
     "name": "stderr",
     "output_type": "stream",
     "text": [
      " 27%|██▋       | 377/1394 [00:01<00:03, 281.27it/s]"
     ]
    },
    {
     "name": "stdout",
     "output_type": "stream",
     "text": [
      " 22.358063043342593\n",
      "24.4181194305 24.41811998375988\n",
      "19.4103939533 19.41039316982174\n",
      "22.5566239357 22.556616693574906\n",
      "25.0872592926 25.08725774957657\n",
      "23.770793438 23.770795993652342\n",
      "21.0192632675 21.019260336408617\n",
      "23.9154038429 23.915409802393913\n",
      "24.8011131287 24.801107181197644\n",
      "22.1305904388 22.130592089447024\n",
      "23.899266243 23.899265235139847\n",
      "19.0411086082 19.041108765065193\n",
      "23.7042822838 23.704291166833876\n",
      "21.8922095299 21.89220775844288\n",
      "22.6317877769 22.63178700079155\n",
      "22.4596319199 22.459627823618888\n",
      "20.8913624287 20.891363017957687\n",
      "24.841070652 24.841068713140487\n",
      "21.583363533 21.58336222752571\n",
      "19.826164484 19.82616804001522\n",
      "19.8640289307 19.864026003098488\n",
      "26.0963778496 26.096377607383726\n",
      "20.0253500938 20.025360140962125\n",
      "20.1736698151 20.173671288391112\n",
      "22.6092422009 22.60924606936884\n",
      "24.2648415565 24.26484352324009\n",
      "21.6391301155 21.63912607583237\n",
      "23.9915819168 23.991584950823782\n",
      "20.5272040367 20.527199971039295\n",
      "26.4585456848 26.45855662204742\n",
      "21.6651368141 21.66513766419411\n",
      "21.3973808289 21.39737952164078\n",
      "19.5375890732 19.537585428242682\n",
      "19.8487746716 19.8487717800293\n",
      "20.9347081184 20.93470849350071\n",
      "22.1880645752 22.188060122832773\n",
      "23.4401893616 23.440186826758385\n",
      "22.8453769684 22.84537914572954\n",
      "25.6685500145 25.66854877746582\n",
      "25.1807389259 25.18073607332516\n",
      "23.4682812691 23.46827634209442\n",
      "19.5566904545 19.556688670878412\n",
      "22.1065940857 22.10659817871952\n",
      "22.0680892467 22.068087294417857\n",
      "23.7958636284 23.795861281292915\n",
      "16.2120044231 16.212004616915703\n",
      "23.9802880287 23.980284248143192\n",
      "26.1215267181 26.121522189207077\n",
      "25.2388539314 25.23885444396353\n",
      "23.1348204613 23.134823025148393\n",
      "22.2875852585 22.287583221645356\n",
      "23.9683470726 23.968341382478716\n",
      "25.8598680496 25.85987258452034\n",
      "21.0288481712 21.028851884219172\n",
      "22.1776161194 22.177614885525703\n",
      "20.429361105 20.42936548233223\n",
      "20.2794356346 20.27943419641113\n",
      "22.4522390366 22.452233959717752\n",
      "22.5556788445 22.555680864264968\n",
      "23.0902738571"
     ]
    },
    {
     "name": "stderr",
     "output_type": "stream",
     "text": [
      " 33%|███▎      | 465/1394 [00:01<00:03, 284.22it/s]"
     ]
    },
    {
     "name": "stdout",
     "output_type": "stream",
     "text": [
      " 23.090278023643492\n",
      "19.5419440269 19.541944300368307\n",
      "19.4670646191 19.46706376028442\n",
      "22.2396392822 22.239639175999166\n",
      "23.6995134354 23.69951142565441\n",
      "22.1151685715 22.115174515353683\n",
      "24.5747489929 24.574750075995922\n",
      "22.221016407 22.221013087997914\n",
      "20.287566185 20.287563372969153\n",
      "22.7240996361 22.72410045202303\n",
      "22.8181049824 22.818103002905847\n",
      "25.1291050911 25.129101664150237\n",
      "22.1025929451 22.102590653327464\n",
      "20.2298972607 20.229900319293023\n",
      "23.7563271523 23.75632417325974\n",
      "18.7850835323 18.785082075725555\n",
      "21.7399175167 21.73991759484482\n",
      "22.2181110382 22.218107573540685\n",
      "23.2141656876 23.214175288071633\n",
      "22.9925985336 22.99260667465687\n",
      "24.2081766129 24.208179124183655\n",
      "25.6432380676 25.64324073238182\n",
      "20.2893006802 20.289298020883084\n",
      "18.9383709431 18.938374155518055\n",
      "18.6944870949 18.694484784183025\n",
      "20.4952263832 20.495231535543443\n",
      "21.3397288322 21.339724387421132\n",
      "23.5082478523 23.50824568830156\n",
      "21.4951426983 21.495137804540633\n",
      "24.8079595566 24.80796059928894\n",
      "22.7690076828 22.76900877949762\n",
      "22.6827178001 22.682715780392645\n",
      "24.0212755203 24.021273661823273\n",
      "22.9647741318 22.9647670604496\n",
      "25.9809885025 25.98099099056625\n",
      "20.997220993 20.997229377269747\n",
      "24.0680603981 24.0680581674242\n",
      "22.8857984543 22.88579176044607\n",
      "20.1934270859 20.19342519623232\n",
      "22.2122533321 22.212248941509248\n",
      "24.5744752884 24.57447131549835\n",
      "19.962905407 19.962908779015542\n",
      "20.8639116287 20.86391160385704\n",
      "27.5437998772 27.54380290716934\n",
      "22.2671947479 22.267194445725917\n",
      "20.053412199 20.053412677930833\n",
      "26.8545126915 26.854518164302824\n",
      "21.30311203 21.303109285323142\n",
      "22.31935215 22.319352635009764\n",
      "26.2313199043 26.23131878429222\n",
      "21.9987866879 21.99878342406273\n",
      "26.4038572311 26.403855158500672\n",
      "21.8749380112 21.87493592035103\n",
      "24.8965773582 24.896580578704835\n",
      "27.7556686401 27.755668854522703\n",
      "26.0382428169 26.038242884887694\n",
      "23.0994033813 23.09940091878891\n",
      "18.2335600853 18.233560739511965\n",
      "26.2564277649 26.256418557575223\n",
      "22.7289566994 22.728952567169667\n",
      "22.8438315392 22.8438254986763\n",
      "26.063624382 26.063620882629394\n",
      "22.8468112946 22.846817051363946\n",
      "23.5871667862 23.587171516271116\n",
      "21.6205968857 21.620597324532508\n",
      "25.4302873611 25.430271611509326\n",
      "23.4566812515 23.456676946853637\n",
      "21.2012987137 21.201299853841782\n",
      "22.0037446022 22.003747909145357\n",
      "22.5757770538 22.575772274204255\n",
      "23.7443580627 23.744356681934356\n",
      "24.6375794411 24.637578755381586\n",
      "21.2693710327 21.26936862440014\n",
      "21.6849570274 21.684961590652467\n",
      "22.0153803825 22.015376215065956\n",
      "21.3385434151 21.33853819625664\n",
      "23.5855350494 23.58553722702408\n",
      "24.6901831627 24.690183982202054\n",
      "23.961284399 23.96128540050125\n",
      "20.1074881554 20.10749081760645\n",
      "21.8621573448 21.862151407287598\n",
      "23.0327501297 23.032751641262053\n",
      "21.1822218895 21.182227076105118\n",
      "20.0858240128 20.085818529209135\n",
      "22.4124822617 22.41248640470028\n",
      "22.8926167488 22.89261174682331\n",
      "23.9204521179 23.920451691734314\n"
     ]
    },
    {
     "name": "stderr",
     "output_type": "stream",
     "text": [
      " 38%|███▊      | 523/1394 [00:01<00:03, 284.14it/s]"
     ]
    },
    {
     "name": "stdout",
     "output_type": "stream",
     "text": [
      "22.0983657837 22.098365542718888\n",
      "20.4068510532 20.406851474802018\n",
      "23.0709018707 23.070899508060933\n",
      "22.9860305786 22.98602660638428\n",
      "24.7889585495 24.788959792251585\n",
      "22.5495433807 22.549537104148865\n",
      "23.6149301529 23.61492845258379\n",
      "26.6174278259 26.61742396219444\n",
      "21.7929222584 21.792922482335094\n",
      "19.8065321445 19.80652824869156\n",
      "22.9973163605 22.997324308956145\n",
      "22.0023341179 22.00233154403305\n",
      "19.9418041706 19.94179996121311\n",
      "27.5760388374 27.5760334021492\n",
      "22.7029805183 22.70297575474262\n",
      "20.1258120537 20.125816600021363\n",
      "21.8167433739 21.81675097474575\n",
      "24.6330251694 24.633023812880516\n",
      "21.5772619247 21.577258289813997\n",
      "21.7021570206 21.70215685199547\n",
      "23.0837197304 23.08372099512863\n",
      "22.922129631 22.92213577339554\n",
      "20.1995279789 20.199525604269503\n",
      "23.7057147026 23.70571221411133\n",
      "23.0683479309 23.06834358046722\n",
      "23.1652274132 23.165224086636545\n",
      "23.8258776665 23.825880273572444\n",
      "25.2177462578 25.217741658301353\n",
      "23.4054336548 23.40543669875717\n",
      "22.187526226 22.18753090170193\n",
      "20.0015079975 20.00150423978567\n",
      "23.5787878036 23.578780962588308\n",
      "21.1534962654 21.153495730442046\n",
      "23.0424137115 23.04241068151188\n",
      "22.6560792923 22.65607462801218\n",
      "22.3549127579 22.354912250957966\n",
      "19.7699093819 19.76991342495632\n",
      "22.6770815849 22.67708363501358\n",
      "25.0035839081 25.003581276744843\n",
      "22.0064477921 22.006437815008162\n",
      "20.9433066845 20.943310450170994\n",
      "22.8286941051 22.828701519791124\n",
      "21.763967514 21.76396508088684\n",
      "24.2063102722 24.206309274985312\n",
      "22.2909679413 22.290965510204312\n",
      "22.2459659576 22.245968207273485\n",
      "25.3239278793 25.323930496400834\n",
      "22.3371527195 22.337157049937723\n",
      "23.5862579346 23.58625563138771\n",
      "22.4912896156 22.491289531007766\n",
      "21.4818925858 21.48189268351412\n",
      "24.4516940117 24.451683610378264\n",
      "22.6146755219 22.614674522818564\n",
      "19.7856116295 19.78561863932419\n",
      "26.2018842697 26.20188808801651\n",
      "22.9634847641 22.963487343788145\n",
      "23.0108036995 23.010805469815732\n",
      "21.1874952316 21.187494924804685\n",
      "23.0232930183 23.0232918325243\n",
      "22.3025689125 22.30257603188515\n",
      "20.6813459396 20.68134996180725\n",
      "22.3929858208 22.392985784050943\n",
      "24.8286857605 24.82869516576195\n",
      "20.0751972198 20.075192681640626\n",
      "22.4330744743 22.433070552062986\n",
      "22.3338937759 22.33389613084173\n",
      "22.3287186623 22.3287118280468\n",
      "22.7863426208 22.786334987897874\n",
      "22.7702395916 22.770239574124336\n",
      "22.1601350307 22.160139670096875\n",
      "22.0208380222 22.020837287089826\n",
      "21.082834959 21.08283202981949\n",
      "23.6174588203 23.617456099243164\n",
      "24.5385227203 24.53852032700157\n",
      "22.2326335907 22.232632247827052\n",
      "22.2880430222 22.28804046089935\n",
      "20.3107204437 20.310716932399753\n",
      "24.5322203636 "
     ]
    },
    {
     "name": "stderr",
     "output_type": "stream",
     "text": [
      " 42%|████▏     | 583/1394 [00:02<00:02, 284.77it/s]"
     ]
    },
    {
     "name": "stdout",
     "output_type": "stream",
     "text": [
      "24.53221904473877\n",
      "21.8454575539 21.845450926955223\n",
      "19.9046783447 19.90468380136013\n",
      "20.6538660526 20.653866263462067\n",
      "23.3864536285 23.38645193195343\n",
      "22.902973175 22.902978426838875\n",
      "20.7613737583 20.76137925212288\n",
      "21.0090539455 21.00905059982109\n",
      "23.7741570473 23.774150660827637\n",
      "15.2567732239 15.253382716267588\n",
      "25.5393896103 25.539390994001387\n",
      "21.3316421509 21.331637373386858\n",
      "23.6208028793 23.620802078765866\n",
      "24.0780897141 24.0780923850708\n",
      "21.2450387478 21.245036178007602\n",
      "22.0705037117 22.07049757363415\n",
      "20.1255230904 20.12552171793747\n",
      "22.1956586838 22.195651948156353\n",
      "25.3353142738 25.335302535318377\n",
      "25.7586240768 25.758616801044464\n",
      "22.0729403496 22.07294011197472\n",
      "20.9161062241 20.916104158489706\n",
      "20.7700514793 20.770054093666076\n",
      "22.4677758217 22.467774341846468\n",
      "18.7512331009 18.751234382910727\n",
      "22.171851635 22.1718507671833\n",
      "20.7428121567 20.74281142463684\n",
      "21.4879341125 21.487925775549414\n",
      "20.7299571037 20.72995466739893\n",
      "20.1702198982 20.170227190263272\n",
      "23.4108633995 23.410867755371093\n",
      "22.9485387802 22.948540633163454\n",
      "21.19049263 21.19049741214943\n",
      "22.2670238018 22.267025651458738\n",
      "21.035671711 21.03567448363781\n",
      "20.1791546345 20.179163311149598\n",
      "22.3611016273 22.36110389123678\n",
      "20.0300030708 20.030006334340097\n",
      "21.9155859947 21.915584338274\n",
      "21.8344688416 21.834466739049912\n",
      "22.5260028839 22.526002855365753\n",
      "23.7474107742 23.74740766272068\n",
      "19.9708044529 19.970809093688963\n",
      "20.988699913 20.988706948794363\n"
     ]
    },
    {
     "name": "stderr",
     "output_type": "stream",
     "text": [
      " 48%|████▊     | 671/1394 [00:02<00:02, 282.53it/s]"
     ]
    },
    {
     "name": "stdout",
     "output_type": "stream",
     "text": [
      "22.7828993797 22.78290296459198\n",
      "23.8564999104 23.8564979221344\n",
      "22.6271567345 22.62716072975254\n",
      "17.8934934139 17.893486926861762\n",
      "20.9523572922 20.95235190439224\n",
      "26.0010986328 26.00110751818466\n",
      "20.3323407173 20.332343829757214\n",
      "16.8886005783 16.88521502982855\n",
      "19.884093523 19.884084076035975\n",
      "23.0782327652 23.078237798085215\n",
      "21.7396178246 21.739617683563235\n",
      "22.7399713993 22.739979974455835\n",
      "27.2193651199 27.219358126182556\n",
      "23.5109500885 23.51094576382542\n",
      "23.2783126831 23.27831017023182\n",
      "22.2229957581 22.22299794497442\n",
      "24.1457138062 24.145721259370802\n",
      "22.0017066002 22.00170661592388\n",
      "21.8572697639 21.85726678796053\n",
      "21.5759658813 21.575969324710844\n",
      "24.6638150215 24.66381709467888\n",
      "24.0226826668 24.02267616228676\n",
      "23.3026490211 23.302649996500012\n",
      "21.8729233742 21.872921604696753\n",
      "22.615963459 22.615971281814574\n",
      "23.8902692795 23.890266197105884\n",
      "25.4670557976 25.467062490234376\n",
      "23.0595011711 23.05949283789873\n",
      "21.9543128014 21.954314695861818\n",
      "20.636443615 20.636438783745767\n",
      "22.2388927937 22.238890228271483\n",
      "22.2483673096 22.248364588541985\n",
      "22.8567466736 22.856741026632786\n",
      "23.480956316 23.480952387680055\n",
      "20.3689448833 20.368940421874523\n",
      "23.300142765 23.300140237637997\n",
      "20.6808261871 20.68082081925392\n",
      "20.1252584457 20.125256820101736\n",
      "22.436606884 22.43660731564522\n",
      "22.6586270332 22.65862120793915\n",
      "22.7476081848 22.747603894157407\n",
      "20.5669662952 20.566961299818995\n",
      "19.4984500408 19.498456224143506\n",
      "25.6648612022 25.66486232867241\n",
      "23.3195004463 23.31949718658447\n",
      "23.9241051674 23.9241050433054\n",
      "24.0116386414 24.011631670570374\n",
      "22.4660792351 22.466082611115933\n",
      "24.7814252377 24.781418931147577\n",
      "21.133243084 21.13324225072384\n",
      "23.2948637009 23.294862792664052\n",
      "23.2842845917 23.284284804901127\n",
      "23.6028528214 23.60285760803747\n",
      "21.0607843399 21.060780994284627\n",
      "25.5077738762 25.50778079176712\n",
      "19.4836688042 19.483669067554953\n",
      "21.8861575127 21.88615956284046\n",
      "24.2395973206 24.239599005109785\n",
      "21.3328671455 21.332865501114846\n",
      "21.2182741165 21.21827612969303\n",
      "21.2167592049 21.216757908572195\n",
      "22.829003334 22.82900325593281\n",
      "21.4357171059 21.435720158137798\n",
      "21.7755479813 21.775546829090118\n",
      "20.8114323616 20.811432627651218\n",
      "26.0229229927 26.022922324371336\n",
      "21.843729496 21.843730674586773\n",
      "22.3894605637 22.389462921214104\n",
      "22.8969221115 22.89691792956352\n",
      "23.4345383644 23.434544518579006\n",
      "23.1852869987 23.185287804855346\n",
      "25.1370558739 25.13705407153702\n",
      "22.9741563797 22.974150234312056\n",
      "23.5674552917 23.56745894319153\n",
      "22.8814358711 22.881437967116355\n",
      "24.0261259079 24.026129229019165\n",
      "22.7247548103 22.72476015008354\n",
      "23.4411404133 23.44113677236843\n",
      "24.4591684341 24.45917258992386\n",
      "19.9954898357 19.99548931873226\n",
      "24.0129814148 24.012978391287803\n",
      "23.1934657097 23.193470690710548\n",
      "17.0790200233 17.079017816874025\n",
      "22.6649565697 22.664961847620965\n",
      "23.4398136139 23.439815630378725\n",
      "22.004607439 "
     ]
    },
    {
     "name": "stderr",
     "output_type": "stream",
     "text": [
      " 52%|█████▏    | 730/1394 [00:02<00:02, 281.08it/s]"
     ]
    },
    {
     "name": "stdout",
     "output_type": "stream",
     "text": [
      "22.004603795791624\n",
      "20.8850185871 20.88501294067383\n",
      "22.5771055222 22.577097361874582\n",
      "26.4316644669 26.431658108156203\n",
      "21.0276339054 21.02763331996536\n",
      "21.8094146252 21.80940884510088\n",
      "24.4096627235 24.409662574170113\n",
      "23.2207279205 23.220727933972356\n",
      "22.0430305004 22.043029523530482\n",
      "23.3301544189 23.330151465128424\n",
      "19.4353415966 19.43534401740074\n",
      "22.3902263641 22.39022968932152\n",
      "25.0576906204 25.057692260103703\n",
      "22.1562776566 22.156276045796872\n",
      "23.8290061951 23.82900261235285\n",
      "24.4383459091 24.438345267404554\n",
      "21.5747892857 21.57478937042284\n",
      "23.6176776886 23.617677435984614\n",
      "23.2252886295 23.225286371269224\n",
      "24.3718967438 24.3719000142622\n",
      "21.6444401741 21.644435578358173\n",
      "21.1590616703 21.159057891799925\n",
      "22.4280562401 22.428050695075513\n",
      "22.0028076172 22.002806610734464\n",
      "23.2379522324 23.23795130303574\n",
      "15.1239066124 15.123902236966131\n",
      "22.1485919952 22.148591856296537\n",
      "20.0020036697 20.001999802742006\n",
      "22.9242887497 22.9242910560751\n",
      "19.0113675594 19.011364914058685\n",
      "20.6301822662 20.630191992907047\n",
      "22.6037106514 22.603718353716374\n",
      "22.6819062233 22.681908071022036\n",
      "24.877348423 24.87734454437256\n",
      "20.5296502113 20.529648944057463\n",
      "22.7468793392 22.746874496574403\n",
      "20.4686617851 20.468660491547585\n",
      "22.7044324875 22.704439456739905\n",
      "22.5955228806 22.595515560781955\n",
      "25.0816373825 25.08163968990326\n",
      "20.5353364944 20.535335014301776\n",
      "23.9356484413 23.935649156239986\n",
      "19.7177081108 19.71770306969213\n",
      "23.0730705261 23.073060961455347\n",
      "24.0861210823 24.086112281265258\n",
      "21.1858556271 21.18585544183874\n",
      "18.2863492966 18.28634660679531\n",
      "24.2087230682 24.208719435493467\n",
      "23.5635380745 23.563537609468938\n",
      "20.6332449913 20.633247648252485\n",
      "21.8011488914 21.80114444191217\n",
      "22.1817498207 22.18175791042328\n",
      "20.2634830475 20.263484004873277\n",
      "17.698433876 17.698441548764706\n",
      "23.9294538498 23.929453118619918\n",
      "18.1452102661 18.14521024290657\n",
      "21.0520195961 21.052017080327033\n",
      "21.5535535812 21.553553392024995\n",
      "22.1976966858 22.1976918971467\n",
      "25.6125202179 25.612519249534607\n",
      "18.8644173145"
     ]
    },
    {
     "name": "stderr",
     "output_type": "stream",
     "text": [
      " 59%|█████▉    | 819/1394 [00:02<00:02, 281.58it/s]"
     ]
    },
    {
     "name": "stdout",
     "output_type": "stream",
     "text": [
      " 18.864413559315206\n",
      "24.2742123604 24.27421477683735\n",
      "21.5607795715 21.560785122602464\n",
      "22.436144352 22.436145013355254\n",
      "24.4353432655 24.43533118889427\n",
      "23.1868114471 23.18680610342026\n",
      "21.6843929291 21.684396643427373\n",
      "23.401081562 23.40107666095543\n",
      "22.8480811119 22.848085011914254\n",
      "26.2584519386 26.25845590663147\n",
      "25.5408000946 25.54079868656349\n",
      "19.46007061 19.46007232534504\n",
      "23.2786688805 23.278672042639258\n",
      "22.7198004723 22.719803113723753\n",
      "23.0729913712 23.072989101700305\n",
      "23.8812088966 23.88120505958557\n",
      "21.7206788063 21.72068236525774\n",
      "23.4646787643 23.46466864115715\n",
      "20.7325265408 20.732525302479743\n",
      "24.1570215225 24.15702948695326\n",
      "19.7522871494 19.752288793361664\n",
      "20.9387004375 20.938694035314562\n",
      "24.372531414 24.37254102845907\n",
      "26.3351573944 26.33515934542465\n",
      "21.1670045853 21.1670096250124\n",
      "23.6495471001 23.649548183784486\n",
      "20.8925228119 20.892520631481172\n",
      "22.368935585 22.368939624160767\n",
      "21.0862236023 21.086220059883594\n",
      "21.7307724953 21.730772530334473\n",
      "24.7160949707 24.716090898574826\n",
      "23.854678154 23.854683124181744\n",
      "18.6174309254 18.61743523452759\n",
      "22.608382225 22.60838293041658\n",
      "27.5564637184 27.556467509410858\n",
      "25.1298599243 25.129862746856688\n",
      "24.4391212463 24.43912397216797\n",
      "22.8607492447 22.860743999484537\n",
      "23.557970047 23.557969776821135\n",
      "21.3472979069 21.347295673241614\n",
      "21.2663059235 21.26629861132812\n",
      "21.8152985573 21.81529878404045\n",
      "20.4353795052 20.435387208369256\n",
      "22.8939332962 22.89393957299042\n",
      "22.6098303795 22.609830244205476\n",
      "21.3214631081 21.321465006317137\n",
      "21.7901992798 21.790192321883204\n",
      "21.8530521393 21.853051576163292\n",
      "24.0441102982 24.044113032895087\n",
      "22.3149347305 22.314931370651248\n",
      "23.2467865944 23.246790062965395\n",
      "23.2106852531 23.21068785023117\n",
      "22.8765697479 22.876564543476103\n",
      "24.8935947418 24.893595776148317\n",
      "23.9712743759 23.971277297011376\n",
      "22.5279765129 22.527983037262917\n",
      "22.4817280769 22.481725862786767\n",
      "24.7882847786 24.78828308338356\n",
      "22.3006639481 22.300668133260725\n",
      "21.8029770851 21.80297520885086\n",
      "23.2443881035 23.244393044789312\n",
      "22.3214468956 22.321446004013538\n",
      "19.9535527229 19.953552538467406\n",
      "20.0361213684 20.036121247258663\n",
      "23.0462293625 23.046225721229554\n",
      "21.6561264992 21.656128112010958\n",
      "23.7107086182 23.71070456336975\n",
      "22.9925284386 22.992526145344733\n",
      "22.205770731 22.205773762550354\n",
      "21.5406913757 21.540689515247344\n",
      "21.7525758743 21.752575834167484\n",
      "21.7869725227 21.786971321911814\n",
      "23.1868419647 23.186836729824545\n",
      "22.2030768394 22.203079457159042\n",
      "22.9179904461 22.917982863831043\n",
      "20.6193976402 20.619398054713248\n",
      "23.6096796989 23.60967385278797\n",
      "21.6134796143 21.613477094419956\n",
      "22.0450930595 22.045094346317768\n",
      "23.3541464806 23.35414127701664\n",
      "21.8394765854 21.83947125559473\n",
      "22.2112340927 22.211232334350587\n",
      "20.690182209 20.69018431477547\n",
      "25.3058624268 25.305869924194337\n",
      "22.8861141205 22.886116128663062\n",
      "24.172305584 24.172301140761377\n",
      "23.8859820366 23.88597989228153\n",
      "21.3256473541 21.32565181888199\n",
      "24.3542480469"
     ]
    },
    {
     "name": "stderr",
     "output_type": "stream",
     "text": [
      " 63%|██████▎   | 878/1394 [00:03<00:01, 275.78it/s]"
     ]
    },
    {
     "name": "stdout",
     "output_type": "stream",
     "text": [
      " 24.354246345886228\n",
      "23.0826339722 23.082632734973906\n",
      "23.0120472908 23.012045189123157\n",
      "20.1346931458 20.134697721038815\n",
      "23.7078285217 23.707830777244567\n",
      "20.5277218819 20.527724700592515\n",
      "23.0677027702 23.067699681936265\n",
      "23.3412733078 23.341276524364474\n",
      "23.7489199638 23.748922403954506\n",
      "23.3624110222 23.362406949497224\n",
      "23.5397424698 23.539747855960847\n",
      "22.7270889282 22.727084690750598\n",
      "21.0084347725 21.008428535247802\n",
      "22.3492054939 22.349201356933595\n",
      "22.4557414055 22.455743110408307\n",
      "23.831058979 23.831063066179276\n",
      "23.600584507 23.60058635450745\n",
      "22.6366248131 22.63662450126171\n",
      "24.4664645195 24.466471388031007\n",
      "24.3141341209 24.314136714334012\n",
      "23.4608058929 23.46081386226368\n",
      "24.5383372307 24.538329842010498\n",
      "22.1532659531 22.153262588172915\n",
      "23.0085496902 23.008547987127304\n",
      "21.1698122025 21.169812905507086\n",
      "23.2213273048 23.221323332227705\n",
      "21.7799739838 21.779972665496828\n",
      "22.3850269318 22.385029390592575\n",
      "23.0215706825 23.021571035300255\n",
      "22.7650647163 22.765061651127816\n",
      "23.9530477524 23.95303876042366\n",
      "20.3768181801 20.37681500192404\n",
      "25.4953565598 25.495357836488722\n",
      "22.2653484344 22.26534788639355\n",
      "22.6682195663 22.66822713783026\n",
      "20.6569280624 20.65692921304321\n",
      "19.6778659821 19.677872040242672\n",
      "22.6513381004 22.651339965227127\n",
      "24.0387024879 24.038706621209144\n",
      "22.2392725945 22.23927024498558\n",
      "22.4603772163 22.460378533759116\n",
      "20.122323513 20.122325412486077\n",
      "23.959695816 23.959700148326874\n",
      "22.9396281242 22.93962688318634\n",
      "23.5107517242 23.510752458770753\n",
      "23.195078373 23.195076556750777\n",
      "24.1667661667 24.166760207035065\n",
      "22.5182642937 22.518266122398376\n",
      "23.4854311943 23.48543435229492\n",
      "20.6794595718 20.67945450879097\n",
      "22.4277844429 22.427781485957144\n",
      "24.1144218445 24.114419545691014\n",
      "19.0879826546 19.08797590334654\n",
      "21.3228077888 21.32280744725418\n",
      "23.601272583 23.60127638438892\n",
      "20.6252698898 20.625263086016176\n",
      "22.3364257812 22.336428081802367\n",
      "24.6208791733 24.620876074011804\n",
      "23.355588913 23.35558468050957\n",
      "21.7222113609 21.722212879657746\n",
      "22.1492581367 22.149259721363066"
     ]
    },
    {
     "name": "stderr",
     "output_type": "stream",
     "text": [
      " 67%|██████▋   | 939/1394 [00:03<00:01, 284.93it/s]"
     ]
    },
    {
     "name": "stdout",
     "output_type": "stream",
     "text": [
      "\n",
      "21.6330332756 21.633027857169154\n",
      "24.0850467682 24.085046172985557\n",
      "21.4154024124 21.415397349703788\n",
      "22.8769822121 22.876983534881592\n",
      "22.1698422432 22.169849255943298\n",
      "19.1662213802 19.166223281413078\n",
      "22.8584990501 22.858501297439574\n",
      "22.8869843483 22.88698474543333\n",
      "22.8263421059 22.826347048104285\n",
      "22.1695547104 22.169560096128464\n",
      "21.8909730911 21.890965278084757\n",
      "22.7714891434 22.771497141980646\n",
      "22.3477950096 22.347794078083037\n",
      "21.6418232918 21.641825501792905\n",
      "22.4320516586 22.43205071891308\n",
      "21.7945113182 21.794512014390467\n",
      "19.2287316322 19.22872557002306\n",
      "20.3967847824 20.396786338840485\n",
      "21.6554074287 21.65540998223877\n",
      "21.7399582863 21.739957847635747\n",
      "23.4863247871 23.48632085541916\n",
      "22.5932154655 22.593217252993586\n",
      "20.5307612419 20.5307561757679\n",
      "23.0595011711 23.05949283789873\n",
      "22.0921413898 22.09213924494267\n",
      "21.6333608627 21.63335066093445\n",
      "22.4649090767 22.464908576228144\n",
      "23.32949543 23.329499307665827\n",
      "21.4366092682 21.43661402586937\n",
      "22.6509490013 22.65094863870144\n",
      "22.0449938774 22.04499041228485\n",
      "22.3800477982 22.38004601866722\n",
      "22.9504985809 22.950498351735593\n",
      "20.822687149 20.822680116496084\n",
      "22.3961815834 22.396172993249895\n",
      "21.9976859093 21.997684053440096\n",
      "22.0899868011 22.089985615263465\n",
      "22.9351072311 22.935104149532318\n",
      "21.0271234512 21.027120549394606\n",
      "24.5064277649 24.506425893360614\n",
      "22.4077005386 22.407692496677395\n",
      "25.8100423813 25.810034351234435\n",
      "24.7155942917 24.71559939207268\n",
      "22.557076931 22.55707444326973\n",
      "20.2039775848 20.203979809560778\n",
      "20.4391791821 20.43917643760204\n",
      "22.8526091576 22.85260907506561\n",
      "20.8354902267 20.83548370043993\n",
      "23.3645825386 23.364583797730926\n",
      "20.7513189316 20.751314106880663\n",
      "24.2371501923 24.237139250802993\n",
      "22.9750695229 22.9750668984375\n",
      "21.695224762 21.69522669981384\n",
      "22.5003919601 22.500388664932252\n",
      "23.0056591034 23.005663193421363\n",
      "23.3672766685 23.3672716762619\n",
      "23.3056855202 23.305682515826224\n",
      "23.5555076599 23.555503435672758\n",
      "23.9689884186 23.968987891440868\n",
      "23.9474081993 23.947404561906815\n",
      "21.4026641846 21.402659223239898\n",
      "21.611518383 21.611521901282313\n",
      "21.6533050537 21.653309748913767\n",
      "20.0278036594 20.02780182091713\n",
      "23.1135501862 23.11355362706852\n",
      "20.7979054451 20.797906972091674\n",
      "23.5952301025 23.59522518297195\n",
      "22.5069613457 22.506957673814775\n",
      "23.160289526 23.16029183778763\n",
      "23.3595046997 23.359502127942083\n",
      "21.6438808441 21.64388229536629\n",
      "23.9689884186 23.968987891440868\n",
      "23.4933996201 23.49340134780407\n",
      "23.7763175964 23.776316434053896\n",
      "21.1385307312 21.138532772048947\n",
      "22.7179522514 22.717949417551516\n",
      "24.462574482 24.462578661030292\n",
      "21.6736235619 21.673628768935206\n",
      "19.5972685814 19.59726877727413\n",
      "19.7791743279 19.779175036009313\n",
      "21.8072953224"
     ]
    },
    {
     "name": "stderr",
     "output_type": "stream",
     "text": [
      " 74%|███████▎  | 1026/1394 [00:03<00:01, 281.01it/s]"
     ]
    },
    {
     "name": "stdout",
     "output_type": "stream",
     "text": [
      " 21.80729327900362\n",
      "21.2216973305 21.221694218673708\n",
      "24.126721859 24.12672044964552\n",
      "21.3438954353 21.343891094244004\n",
      "22.8187971115 22.818799525924682\n",
      "21.0470724106 21.04707847476244\n",
      "23.2527885437 23.25277774689865\n",
      "24.6198792458 24.619873981378078\n",
      "20.4876337051 20.48762847669649\n",
      "20.5179109573 20.517915074386597\n",
      "22.9526534081 22.952661337360382\n",
      "23.1413235664 23.141321236171244\n",
      "21.7605338097 21.76053014300537\n",
      "22.1650905609 22.165094906229022\n",
      "21.9429154396 21.94292286461258\n",
      "22.2111177444 22.211119378303053\n",
      "21.5501356125 21.5501373354702\n",
      "22.3741188049 22.37411927670622\n",
      "22.0354447365 22.03543629396057\n",
      "20.0865807533 20.086583770997525\n",
      "22.6290688515 22.629071923556328\n",
      "22.6726307869 22.672635196389198\n",
      "22.3321003914 22.33210343804169\n",
      "24.2215528488 24.221554361335755\n",
      "24.4097495079 24.40974803844452\n",
      "20.9801588058 20.980159542480468\n",
      "23.6557097435 23.655711220681667\n",
      "23.6208028793 23.620802078765866\n",
      "23.186917305 23.186918387381557\n",
      "22.0192532539 22.019249416799067\n",
      "21.3042368889 21.304240577270505\n",
      "24.3517251015 24.351731561776162\n",
      "20.314467907 20.314471150339603\n",
      "22.986515522 22.986506858642578\n",
      "21.743080616 21.74307928446627\n",
      "22.3422226906 22.342214030685426\n",
      "23.0588579178 23.058852307811737\n",
      "23.1377148628 23.137710314065455\n",
      "20.9731817245 20.97317985063553\n",
      "23.809220314 23.80921735245323\n",
      "23.6563134193 23.656312873373505\n",
      "22.200428009 22.200423244600298\n",
      "21.056016922 21.05600879715729\n",
      "22.6231203079 22.623116103746415\n",
      "20.7433280945 20.743332968482495\n",
      "23.3827958107 23.38280268722534\n",
      "21.6975574493 21.69755813987827\n",
      "20.765332222 20.765330795412062\n",
      "23.5843734741 23.58437319098568\n",
      "22.1331577301 22.133156375570298\n",
      "22.0757374763 22.075736783227917\n",
      "20.6272313595 20.627239001690867\n",
      "22.8132915497 22.813291570414066\n",
      "23.3187046051 23.31870793244171\n",
      "22.0910177231 22.09101730763197\n",
      "22.1116323471 22.111633733875276\n",
      "22.4506931305 22.450683420352934\n",
      "21.6238908768 21.62389395051193\n",
      "22.2749056816 22.274905621221542\n",
      "20.8834471703 20.883451376146315\n",
      "22.1144554615 22.11446017198467\n",
      "20.6934099197 20.693412453136443\n",
      "20.3973793983 20.3973858503046\n",
      "21.8979969025 21.897991131715298\n",
      "23.0444531441 23.04446153344822\n",
      "23.4743051529 23.47430367508936\n",
      "23.0084238052"
     ]
    },
    {
     "name": "stderr",
     "output_type": "stream",
     "text": [
      " 78%|███████▊  | 1084/1394 [00:03<00:01, 278.26it/s]"
     ]
    },
    {
     "name": "stdout",
     "output_type": "stream",
     "text": [
      " 23.00842332438135\n",
      "22.7396550179 22.73965786612988\n",
      "21.0587472916 21.05875043668318\n",
      "22.260890007 22.260884223041536\n",
      "23.7957324982 23.795731481029986\n",
      "21.610265255 21.61026630706787\n",
      "19.8711500168 19.87115097454882\n",
      "21.9477636814 21.947760835926058\n",
      "22.6718916893 22.671881305473327\n",
      "20.2224555016 20.222451713600634\n",
      "23.0170302391 23.017027417541506\n",
      "22.7774181366 22.777419277384755\n",
      "22.4274029732 22.427401844444276\n",
      "20.7536189556 20.753618283275603\n",
      "22.1028785706 22.10287896235466\n",
      "23.6251573563 23.6251584991107\n",
      "26.0065126419 26.006517532672884\n",
      "21.0388832092 21.038889095294476\n",
      "21.3787112236 21.378715851387977\n",
      "22.9647741318 22.9647670604496\n",
      "22.8695850372 22.869585764932634\n",
      "22.8153939247 22.815392608459472\n",
      "22.3651137352 22.365107399032595\n",
      "22.8188853264 22.8188823738842\n",
      "22.5235490799 22.523549504804613\n",
      "23.4256663322 23.425664068425178\n",
      "21.2831449509 21.28314293521643\n",
      "25.2884082794 25.288408464250566\n",
      "22.7662630081 22.766263072013857\n",
      "23.8604402542 23.860445234290125\n",
      "19.9287984371 19.92879045623779\n",
      "24.3670158386 24.36701326715946\n",
      "22.746160984 22.746157114085197\n",
      "23.4690542221 23.4690539806366\n",
      "22.8613848686 22.86138603123474\n",
      "21.6188249588 21.618827079291343\n",
      "24.246878624 24.246882877349854\n",
      "18.3350265026 18.335021932990074\n",
      "21.892572403 21.89257488703251\n",
      "21.5469732285 21.546973171224117\n",
      "22.9726886749 22.97269105155945\n",
      "22.7927603722 22.792768574607848\n",
      "23.3825120926 23.38251011918163\n",
      "22.5416755676 22.541672177152634\n",
      "21.6664252281 21.666428210010526\n",
      "23.7965650558 23.796567785141946\n",
      "22.7170329094 22.717030146037576\n",
      "21.2143845558 21.21439241651058\n",
      "23.0904965401 23.09049926180124\n",
      "22.9097361565 22.909730597135066\n",
      "23.4926886559 23.49269068162918\n",
      "23.2807130814 23.28070930597973\n",
      "21.3615612984 21.361564301218987\n",
      "24.536544323 24.536545479378223\n",
      "20.9395232201 20.939525127943043\n",
      "23.0482940674 23.0482991477952\n",
      "22.5559740067 22.555967061973572\n",
      "23.2888321877 23.288828308696747\n",
      "21.7221646309 21.722158821997645\n",
      "20.7584877014 20.75848568236208\n",
      "21.4389946461"
     ]
    },
    {
     "name": "stderr",
     "output_type": "stream",
     "text": [
      " 82%|████████▏ | 1144/1394 [00:04<00:00, 284.26it/s]"
     ]
    },
    {
     "name": "stdout",
     "output_type": "stream",
     "text": [
      " 21.43899373167515\n",
      "23.2248110771 23.22481050227356\n",
      "21.1508312225 21.15083179374218\n",
      "21.3768215179 21.3768181495142\n",
      "21.8691496849 21.86915091452265\n",
      "23.3262410164 23.326240885951997\n",
      "22.4609661102 22.460976569845197\n",
      "21.7872848511 21.78727860747957\n",
      "22.4764714241 22.476469085472107\n",
      "21.2762813568 21.276284445957184\n",
      "23.7803301811 23.780332708773614\n",
      "23.5505504608 23.55055109737873\n",
      "20.977314949 20.97731251862097\n",
      "20.2398967743 20.239901307091714\n",
      "23.7427725792 23.742774942752362\n",
      "22.0212545395 22.02125448977709\n",
      "22.4520945549 22.452090254319668\n",
      "22.5894651413 22.58946442943573\n",
      "21.743080616 21.74307928446627\n",
      "22.7509851456 22.75098957078123\n",
      "23.9151682854 23.915166068077088\n",
      "21.8253858089 21.82538832177258\n",
      "22.6232047081 22.62320315314436\n",
      "22.9924073219 22.992397624872208\n",
      "21.8115773201 21.81157047398758\n",
      "22.5261616707 22.52616297236538\n",
      "22.1111469269 22.1111478887043\n",
      "22.3086900711 22.308685804732324\n",
      "22.6318569183 22.631863865805624\n",
      "22.8680262566 22.86802058264923\n",
      "25.2566981316 25.25670313751793\n",
      "22.434319973 22.434322090780736\n",
      "21.6313114166 21.63131483107567\n",
      "21.4059467316 21.40594854642677\n",
      "23.5886340141 23.588629518610954\n",
      "23.3971357346 23.397137292633055\n",
      "22.9604582787 22.96045633140564\n",
      "22.3259577751 22.325958747937204\n",
      "20.3169989586 20.31699716042519\n",
      "23.1558480263 23.155845323055267\n",
      "22.0389499664 22.038952516021727\n",
      "22.4832239151 22.48322689434862\n",
      "23.4369316101 23.43693810765839\n",
      "21.9326725006 21.932668302280426\n",
      "21.9657349586 21.965730318782327\n",
      "22.7905583382 22.790556318338396\n",
      "23.5167798996 23.51678384080839\n",
      "20.1970615387 20.19705895198059\n",
      "22.8440647125 22.844060075495243\n",
      "23.5236463547 23.52364351290226\n",
      "23.0142674446 23.014271641809465\n",
      "20.0228157043 20.02281054671478\n",
      "22.2395811081 22.239576863808633\n",
      "21.5121946335 21.51219965490818\n",
      "23.4672474861 23.46725196088028\n",
      "22.6016535759 22.60164866256714\n",
      "21.2595076561 21.25951279129696\n",
      "22.8101997375 22.810204180301664\n",
      "21.7901992798 21.790192321883204\n",
      "21.5219359398 21.52193716674042\n",
      "20.6033165455 20.603322143618108\n",
      "23.9275465012 23.92754696775341\n",
      "22.0632629395 22.063264068563463\n",
      "23.3094105721 23.309413553466797\n",
      "21.7835268974 21.78353867582369\n",
      "21.309211731 21.309209825575355\n",
      "23.6889929771 23.68899563482189\n",
      "23.2579627037 23.25796910932064\n",
      "22.0601868629 22.06019093811035\n",
      "21.1747632027 21.174765932836532\n",
      "23.3675441742 23.367545800773623\n",
      "22.5981378555 22.598135663139345\n",
      "20.6813459396 20.68134996180725\n"
     ]
    },
    {
     "name": "stderr",
     "output_type": "stream",
     "text": [
      " 88%|████████▊ | 1231/1394 [00:04<00:00, 283.34it/s]"
     ]
    },
    {
     "name": "stdout",
     "output_type": "stream",
     "text": [
      "21.0273911953 21.02738632170868\n",
      "23.2171726227 23.2171675773344\n",
      "23.0351524353 23.035150088982583\n",
      "22.4183425903 22.41834458235645\n",
      "22.8135681152 22.813575313203334\n",
      "23.6040158272 23.604018291723726\n",
      "20.7116971016 20.711700827741623\n",
      "24.5532612801 24.55326664926624\n",
      "22.63950634 22.6395069392066\n",
      "21.1361813545 21.13617810828972\n",
      "23.11064291 23.11063923749924\n",
      "22.5002253056 22.500228411948203\n",
      "21.7820854187 21.78209132771301\n",
      "22.0127425194 22.012740142250063\n",
      "21.6247515678 21.62475047252369\n",
      "20.8354902267 20.83548370043993\n",
      "23.1888055801 23.18879830240774\n",
      "22.8794999123 22.87949116452932\n",
      "23.0328197479 23.03281582916737\n",
      "24.698741436 24.698740876369477\n",
      "21.8944826126 21.894486562056542\n",
      "24.3702235222 24.37021903930378\n",
      "22.0084533691 22.008448731256486\n",
      "20.3865280151 20.38652604589939\n",
      "21.777369976 21.777371334099772\n",
      "24.0579185486 24.0579211245594\n",
      "21.0736355782 21.073632632746694\n",
      "22.6300578117 22.630050411469934\n",
      "23.5957670212 23.595765768636706\n",
      "23.4226455688 23.422652037902832\n",
      "23.0536541939 23.05364748609209\n",
      "20.0994796753 20.09947158136368\n",
      "22.6654438972 22.66544706377983\n",
      "21.3196992874 21.319703350777626\n",
      "21.1082501411 21.108247584586145\n",
      "21.1799278259 21.179922214021683\n",
      "22.2520327568 22.25204515262604\n",
      "22.2832283974 22.283231381484985\n",
      "23.1679925919 23.167990709017754\n",
      "21.1714601517 21.171463913321496\n",
      "21.2667832375 21.26677933935547\n",
      "23.4424200058 23.442416636981964\n",
      "24.5064277649 24.506425893360614\n",
      "23.9279761314 23.92797962109089\n",
      "23.1173839569 23.117379623262885\n",
      "23.4022979736 23.402298645876407\n",
      "25.7680706978 25.768071811820985\n",
      "23.5844483376 23.584455271844867\n",
      "23.308485508 23.308478273100853\n",
      "22.2743840218 22.274386680803776\n",
      "23.6005730629 23.600573449988367\n",
      "22.7978515625 22.79784848627281\n",
      "20.9541578293 20.95415514614582\n",
      "21.6645498276 21.66454387307167\n",
      "22.0568795204 22.056884892471313\n",
      "23.3206253052 23.320620335088726\n",
      "22.1405391693 22.140540460158345\n",
      "23.3580188751 23.35801439831829\n",
      "22.0096077919 22.009612667622566\n",
      "22.0973467827 22.09733897075653\n",
      "22.6041464806 22.604142018424987\n",
      "21.6988430023 21.69884158012247\n",
      "21.1577749252 21.157771672977926\n",
      "22.8885760307 22.88857633109188\n",
      "21.9689831734 21.968985830984117\n",
      "21.2261009216 21.226102589423657\n",
      "22.3635425568 22.36353794550848\n",
      "22.8253798485 22.82537850138569\n",
      "23.972120285 23.97212493797016\n",
      "23.1708521843 23.170850754888054\n",
      "21.358263731 21.358264852418422\n",
      "23.1574172974 23.15741596007824\n"
     ]
    },
    {
     "name": "stderr",
     "output_type": "stream",
     "text": [
      " 92%|█████████▏| 1289/1394 [00:04<00:00, 283.22it/s]"
     ]
    },
    {
     "name": "stdout",
     "output_type": "stream",
     "text": [
      "19.9525337219 19.952535293655394\n",
      "23.8146510124 23.814641398143767\n",
      "20.7912192345 20.791219798871516\n",
      "22.6823301315 22.68233093413496\n",
      "22.0389499664 22.038952516021727\n",
      "22.4384403229 22.438442908525467\n",
      "24.1916570663 24.19164693014908\n",
      "19.4066488743 19.406652461729053\n",
      "22.6057686806 22.605767530936717\n",
      "23.5607163906 23.56071200096512\n",
      "21.6292777061 21.629279646707538\n",
      "21.5499100685 21.549911136796478\n",
      "23.2558441162 23.255839350437167\n",
      "24.3447313309 24.344731144897462\n",
      "21.3980264664 21.39803493420601\n",
      "21.7848582268 21.784848703436854\n",
      "22.6866059303 22.686602913223744\n",
      "23.6690998077 23.669092505723476\n",
      "23.8637595177 23.863762028515815\n",
      "24.5687403679 24.56874327812195\n",
      "22.8305015564 22.830505814599036\n",
      "21.041282177 21.041285598534106\n",
      "23.2535734177 23.25356868107605\n",
      "21.5043010712 21.504304786243914\n",
      "20.5266575813 20.52666329473114\n",
      "24.1847896576 24.184790847552776\n",
      "24.1421127319 24.142106579675673\n",
      "22.7290863991 22.729086098289013\n",
      "21.70262146 21.70262477892065\n",
      "22.3955116272 22.395512795387265\n",
      "22.9441847801 22.944182471500394\n",
      "20.2061231136 20.20612483973837\n",
      "22.4921236038 22.49212424858856\n",
      "22.5495433807 22.549537104148865\n",
      "22.1460323334 22.1460309657321\n",
      "22.7216730118 22.721677184865474\n",
      "21.7446885109 21.744689263446805\n",
      "21.1779723167 21.177966930351257\n",
      "21.2485566139 21.248555714845658\n",
      "22.1294813156 22.12948730429077\n",
      "22.0614709854 22.061474812436106\n",
      "20.8185400963 20.81854308454275\n",
      "20.6535487175 20.653552984263897\n",
      "22.3580136299 22.358016566135404\n",
      "21.7734122276 21.773412022231103\n",
      "20.9108023643 20.910796166179658\n",
      "20.8824768066 20.882478303918838\n",
      "21.2163574696 21.21635468377304\n",
      "23.3115124702 23.311508250033377\n",
      "21.5115699768 21.511574638328554\n",
      "22.9679756165 22.967970518426895\n",
      "23.4853720665 23.485364820706366\n",
      "20.4804735184 20.48047160453796\n",
      "21.3932347298 21.393238344038007\n",
      "22.7221283913 22.72212978375435\n",
      "23.7623639107 23.762358850548267\n",
      "21.4093160629 21.409314788299557\n",
      "21.7056412697 21.705635366201403\n",
      "21.9403886795 21.940388109295846\n",
      "22.7767324448 22.776727992805004\n",
      "23.3466663361 23.346659674654962"
     ]
    },
    {
     "name": "stderr",
     "output_type": "stream",
     "text": [
      " 97%|█████████▋| 1347/1394 [00:04<00:00, 282.79it/s]"
     ]
    },
    {
     "name": "stdout",
     "output_type": "stream",
     "text": [
      "\n",
      "18.8624219894 18.862420550689695\n",
      "21.5061750412 21.506176155576707\n",
      "22.2222423553 22.222240560183526\n",
      "21.823952198 21.823945008141518\n",
      "21.6582241058 21.65822847605324\n",
      "23.2163491249 23.216343594585418\n",
      "24.5455260277 24.54553401955414\n",
      "24.6942601204 24.694258922210693\n",
      "23.5898032188 23.58980832470226\n",
      "22.3224468231 22.32244678139496\n",
      "21.8544917107 21.854495287877082\n",
      "23.7109289169 23.7109239391551\n",
      "21.9225692749 21.922569979379652\n",
      "21.7983727455 21.798375738979338\n",
      "20.1892747879 20.189272180638312\n",
      "22.3151321411 22.315132329010964\n",
      "22.9053287506 22.90533403496313\n",
      "24.6285896301 24.628587874643326\n",
      "21.3302235603 21.330220971788407\n",
      "21.01303339 21.013032820967673\n",
      "20.8354902267 20.83548370043993\n",
      "22.6715455055 22.67154553717995\n",
      "22.1065835953 22.10658457074261\n",
      "23.0314440727 23.031449600624562\n",
      "22.6625876427 22.662586339613913\n",
      "23.0171785355 23.01717970471859\n",
      "22.3583731651 22.358373148421286\n",
      "19.7938334942 19.793830745180603\n",
      "19.7963552475 19.796358426691057\n",
      "22.9178009033 22.91779703462601\n",
      "23.3541464806 23.35414127701664\n",
      "22.7206282616 22.720628340899943\n",
      "20.9600934982 20.96009936220646\n",
      "20.9054055214 20.905405680570603\n",
      "23.3706831932 23.370683585128784\n",
      "20.9788353443 20.9788414650321\n",
      "21.5331394672 21.533139383890628\n",
      "21.7202296257 21.72022739705086\n",
      "19.540995121 19.540994255444524\n",
      "23.4122929573 23.412290167497634\n",
      "23.1084699631 23.10847122334528\n",
      "23.1228284836 23.122820316936494\n",
      "19.7448234558 19.744826509362223\n",
      "20.0595340729 20.059540673789023\n",
      "21.3543174267 21.354316794493677\n",
      "22.6218771935 22.621866964697837\n",
      "23.8455677032 23.8455650841074\n",
      "22.2125763893 22.21257097702074\n",
      "22.1255984306 22.12559833498001\n",
      "23.5018949509 23.501894021422864\n",
      "23.6231236458 23.623127112308502\n",
      "22.2553372383 22.255341954495908\n",
      "23.4478988647 23.44790326255131\n",
      "23.2021303177 23.202130319166184\n",
      "21.928217411 21.928217738256457\n",
      "21.4567337036 21.456737946487426\n",
      "23.930100441 23.930102883850097\n",
      "21.6014432907 21.60144926839113\n",
      "23.1764531136 23.1764527309885\n",
      "21.1909213066 21.190917402482988\n",
      "23.554172039 23.554173206892013\n",
      "22.3298840523 22.329883194093703\n",
      "23.8999881744 23.89998256492138\n",
      "21.5904631615 21.590470025333403\n",
      "21.6133165359 21.613319510812758\n",
      "23.4258403778 23.425835721945763\n",
      "22.1990709305 22.199067270579334\n",
      "19.5390701294 19.539073390502928\n",
      "21.9068760872 21.90688030708885\n",
      "20.6441645622 20.64415866668701\n",
      "22.2939229012 22.293917310404776"
     ]
    },
    {
     "name": "stderr",
     "output_type": "stream",
     "text": [
      "100%|██████████| 1394/1394 [00:04<00:00, 282.99it/s]"
     ]
    },
    {
     "name": "stdout",
     "output_type": "stream",
     "text": [
      "\n",
      "23.3465642929 23.346567817501064\n",
      "22.2729520798 22.272949766187665\n",
      "21.8696470261 21.86965304947996\n",
      "20.6364307404 20.63642976725292\n",
      "23.3034405708 23.303441015808108\n",
      "23.2118458748 23.2118475447464\n",
      "23.0705761909 23.070578141360283\n",
      "25.4933791161 25.493381360848428\n",
      "22.5559990406 22.555999407460213\n",
      "22.8215503693 22.821550765373228\n",
      "21.4487962723 21.448791571434974\n",
      "22.4908599854 22.49086362653017\n",
      "22.3108911514 22.310886884346484\n",
      "22.7690076828 22.76900877949762\n",
      "22.5722098351 22.572206008672715\n",
      "19.4576880932 19.457685013831618\n",
      "22.4442954063 22.44429783682442\n",
      "21.0595693588 21.059569567983626\n",
      "19.9630548954 19.963055365448\n",
      "23.6256723404 23.625660279257296\n",
      "24.9575276375 24.957533265389443\n",
      "20.2274105549 20.22741570829773\n",
      "22.2992854118 22.29928681119061\n",
      "23.1050386429 23.105041329747678\n",
      "21.2719635963 21.271961999330046\n",
      "21.6279850006 21.627986788044932\n",
      "20.9231295586 20.92312595968151\n",
      "22.7915730476 22.791576456127164\n",
      "24.0973944664 24.097391984256745\n",
      "21.2437520027 21.243749843619344\n",
      "24.3387436867 24.33875001045227\n"
     ]
    },
    {
     "name": "stderr",
     "output_type": "stream",
     "text": [
      "\n"
     ]
    }
   ],
   "source": [
    "custom_wmd = []\n",
    "gensim_wmd = []\n",
    "c1 = contexts[0]\n",
    "for c in tqdm(contexts):\n",
    "#     custom_wmd.append(alignement_cos_metric_contexts(c1, c, \n",
    "#                         sum_init=np.inf,\n",
    "#                         comparison=operator.lt,\n",
    "#                         metric=euclidean_distances))\n",
    "#     gensim_wmd.append(model.wmdistance(c1.split(), c.split()))\n",
    "    print(alignement_cos_metric_contexts(c1, c, \n",
    "                        sum_init=np.inf,\n",
    "                        comparison=operator.lt,\n",
    "                        metric=euclidean_distances),model.wmdistance(c1.split(), c.split()))"
   ]
  },
  {
   "cell_type": "code",
   "execution_count": 113,
   "metadata": {
    "collapsed": false
   },
   "outputs": [
    {
     "data": {
      "image/png": "[encoded data removed]",
      "text/plain": [
       "<matplotlib.figure.Figure at 0x7f831687b160>"
      ]
     },
     "metadata": {},
     "output_type": "display_data"
    }
   ],
   "source": [
    "plt.hist(custom_wmd, bins=200, alpha=0.2)\n",
    "plt.hist(gensim_wmd, bins=200, alpha=0.2)\n",
    "plt.show()"
   ]
  },
  {
   "cell_type": "code",
   "execution_count": 116,
   "metadata": {
    "collapsed": false
   },
   "outputs": [
    {
     "data": {
      "text/plain": [
       "(15, 30)"
      ]
     },
     "execution_count": 116,
     "metadata": {},
     "output_type": "execute_result"
    },
    {
     "data": {
      "image/png": "[encoded data removed]",
      "text/plain": [
       "<matplotlib.figure.Figure at 0x7f832a3136a0>"
      ]
     },
     "metadata": {},
     "output_type": "display_data"
    }
   ],
   "source": [
    "plt.scatter(custom_wmd, gensim_wmd, alpha=0.2)\n",
    "plt.xlim([15,30])\n",
    "plt.ylim([15,30])"
   ]
  },
  {
   "cell_type": "code",
   "execution_count": 89,
   "metadata": {
    "collapsed": false
   },
   "outputs": [],
   "source": [
    "index = np.hstack((np.where(gensim_wmd<12.5)[0], np.where(gensim_wmd>1)[0]))"
   ]
  },
  {
   "cell_type": "code",
   "execution_count": 92,
   "metadata": {
    "collapsed": false
   },
   "outputs": [
    {
     "data": {
      "text/plain": [
       "array([   0,    1,    2, ..., 1391, 1392, 1393])"
      ]
     },
     "execution_count": 92,
     "metadata": {},
     "output_type": "execute_result"
    }
   ],
   "source": [
    "index"
   ]
  },
  {
   "cell_type": "code",
   "execution_count": 94,
   "metadata": {
    "collapsed": false
   },
   "outputs": [
    {
     "data": {
      "text/plain": [
       "(1394,)"
      ]
     },
     "execution_count": 94,
     "metadata": {},
     "output_type": "execute_result"
    }
   ],
   "source": [
    "gensim_wmd.shape"
   ]
  },
  {
   "cell_type": "code",
   "execution_count": 166,
   "metadata": {
    "collapsed": false
   },
   "outputs": [
    {
     "name": "stderr",
     "output_type": "stream",
     "text": [
      "  0%|          | 1/1100 [00:07<2:13:57,  7.31s/it]\n"
     ]
    },
    {
     "ename": "KeyboardInterrupt",
     "evalue": "",
     "output_type": "error",
     "traceback": [
      "\u001b[0;31m---------------------------------------------------------------------------\u001b[0m",
      "\u001b[0;31mKeyboardInterrupt\u001b[0m                         Traceback (most recent call last)",
      "\u001b[0;32m<ipython-input-166-5895a80ca9f3>\u001b[0m in \u001b[0;36m<module>\u001b[0;34m()\u001b[0m\n\u001b[1;32m      4\u001b[0m                         \u001b[0msum_init\u001b[0m\u001b[0;34m=\u001b[0m\u001b[0mnp\u001b[0m\u001b[0;34m.\u001b[0m\u001b[0minf\u001b[0m\u001b[0;34m,\u001b[0m\u001b[0;34m\u001b[0m\u001b[0m\n\u001b[1;32m      5\u001b[0m                         \u001b[0mcomparison\u001b[0m\u001b[0;34m=\u001b[0m\u001b[0moperator\u001b[0m\u001b[0;34m.\u001b[0m\u001b[0mlt\u001b[0m\u001b[0;34m,\u001b[0m\u001b[0;34m\u001b[0m\u001b[0m\n\u001b[0;32m----> 6\u001b[0;31m                         metric=euclidean_distances)\n\u001b[0m",
      "\u001b[0;32m<ipython-input-32-62cb0ff867a5>\u001b[0m in \u001b[0;36malignement_cos_metric_contexts\u001b[0;34m(s1, s2, sum_init, comparison, metric)\u001b[0m\n\u001b[1;32m     32\u001b[0m     \u001b[0;32mfor\u001b[0m \u001b[0mperm\u001b[0m \u001b[0;32min\u001b[0m \u001b[0mitertools\u001b[0m\u001b[0;34m.\u001b[0m\u001b[0mpermutations\u001b[0m\u001b[0;34m(\u001b[0m\u001b[0mlist\u001b[0m\u001b[0;34m(\u001b[0m\u001b[0mrange\u001b[0m\u001b[0;34m(\u001b[0m\u001b[0mn\u001b[0m\u001b[0;34m)\u001b[0m\u001b[0;34m)\u001b[0m\u001b[0;34m,\u001b[0m \u001b[0mm\u001b[0m\u001b[0;34m)\u001b[0m\u001b[0;34m:\u001b[0m\u001b[0;34m\u001b[0m\u001b[0m\n\u001b[1;32m     33\u001b[0m         \u001b[0mperm_sum\u001b[0m \u001b[0;34m=\u001b[0m \u001b[0;36m0\u001b[0m\u001b[0;34m\u001b[0m\u001b[0m\n\u001b[0;32m---> 34\u001b[0;31m         \u001b[0;32mfor\u001b[0m \u001b[0mi\u001b[0m\u001b[0;34m,\u001b[0m \u001b[0mj\u001b[0m \u001b[0;32min\u001b[0m \u001b[0menumerate\u001b[0m\u001b[0;34m(\u001b[0m\u001b[0mperm\u001b[0m\u001b[0;34m)\u001b[0m\u001b[0;34m:\u001b[0m\u001b[0;34m\u001b[0m\u001b[0m\n\u001b[0m\u001b[1;32m     35\u001b[0m             \u001b[0mperm_sum\u001b[0m \u001b[0;34m+=\u001b[0m \u001b[0msimilarity_matrix\u001b[0m\u001b[0;34m[\u001b[0m\u001b[0mi\u001b[0m\u001b[0;34m,\u001b[0m\u001b[0mj\u001b[0m\u001b[0;34m]\u001b[0m\u001b[0;34m\u001b[0m\u001b[0m\n\u001b[1;32m     36\u001b[0m         \u001b[0;32mif\u001b[0m \u001b[0mcomparison\u001b[0m\u001b[0;34m(\u001b[0m\u001b[0mperm_sum\u001b[0m\u001b[0;34m,\u001b[0m \u001b[0mbest_sum\u001b[0m\u001b[0;34m)\u001b[0m\u001b[0;34m:\u001b[0m\u001b[0;34m\u001b[0m\u001b[0m\n",
      "\u001b[0;31mKeyboardInterrupt\u001b[0m: "
     ]
    }
   ],
   "source": [
    "for c1 in tqdm(contexts):\n",
    "    for c2 in contexts:\n",
    "        alignement_cos_metric_contexts(c1.split(), c2.split(), \n",
    "                        sum_init=np.inf,\n",
    "                        comparison=operator.lt,\n",
    "                        metric=euclidean_distances)"
   ]
  },
  {
   "cell_type": "code",
   "execution_count": 152,
   "metadata": {
    "collapsed": false
   },
   "outputs": [
    {
     "name": "stdout",
     "output_type": "stream",
     "text": [
      "CPU times: user 0 ns, sys: 0 ns, total: 0 ns\n",
      "Wall time: 21.7 µs\n"
     ]
    }
   ],
   "source": [
    "%time\n",
    "for c in contexts:\n",
    "#     print(c)\n",
    "    alignement_cos_metric_contexts(c1, c, \n",
    "                        sum_init=np.inf,\n",
    "                        comparison=operator.lt,\n",
    "                        metric=euclidean_distances),"
   ]
  },
  {
   "cell_type": "code",
   "execution_count": 162,
   "metadata": {
    "collapsed": false
   },
   "outputs": [],
   "source": [
    "p1 = \" \".join(contexts[:100])\n",
    "p2 = \" \".join(contexts[100:200])"
   ]
  },
  {
   "cell_type": "code",
   "execution_count": 163,
   "metadata": {
    "collapsed": false
   },
   "outputs": [
    {
     "ename": "KeyboardInterrupt",
     "evalue": "",
     "output_type": "error",
     "traceback": [
      "\u001b[0;31m---------------------------------------------------------------------------\u001b[0m",
      "\u001b[0;31mKeyboardInterrupt\u001b[0m                         Traceback (most recent call last)",
      "\u001b[0;32m<ipython-input-163-cc2b799a48a6>\u001b[0m in \u001b[0;36m<module>\u001b[0;34m()\u001b[0m\n\u001b[1;32m      2\u001b[0m                         \u001b[0msum_init\u001b[0m\u001b[0;34m=\u001b[0m\u001b[0mnp\u001b[0m\u001b[0;34m.\u001b[0m\u001b[0minf\u001b[0m\u001b[0;34m,\u001b[0m\u001b[0;34m\u001b[0m\u001b[0m\n\u001b[1;32m      3\u001b[0m                         \u001b[0mcomparison\u001b[0m\u001b[0;34m=\u001b[0m\u001b[0moperator\u001b[0m\u001b[0;34m.\u001b[0m\u001b[0mlt\u001b[0m\u001b[0;34m,\u001b[0m\u001b[0;34m\u001b[0m\u001b[0m\n\u001b[0;32m----> 4\u001b[0;31m                         metric=euclidean_distances)\n\u001b[0m",
      "\u001b[0;32m<ipython-input-32-62cb0ff867a5>\u001b[0m in \u001b[0;36malignement_cos_metric_contexts\u001b[0;34m(s1, s2, sum_init, comparison, metric)\u001b[0m\n\u001b[1;32m     33\u001b[0m         \u001b[0mperm_sum\u001b[0m \u001b[0;34m=\u001b[0m \u001b[0;36m0\u001b[0m\u001b[0;34m\u001b[0m\u001b[0m\n\u001b[1;32m     34\u001b[0m         \u001b[0;32mfor\u001b[0m \u001b[0mi\u001b[0m\u001b[0;34m,\u001b[0m \u001b[0mj\u001b[0m \u001b[0;32min\u001b[0m \u001b[0menumerate\u001b[0m\u001b[0;34m(\u001b[0m\u001b[0mperm\u001b[0m\u001b[0;34m)\u001b[0m\u001b[0;34m:\u001b[0m\u001b[0;34m\u001b[0m\u001b[0m\n\u001b[0;32m---> 35\u001b[0;31m             \u001b[0mperm_sum\u001b[0m \u001b[0;34m+=\u001b[0m \u001b[0msimilarity_matrix\u001b[0m\u001b[0;34m[\u001b[0m\u001b[0mi\u001b[0m\u001b[0;34m,\u001b[0m\u001b[0mj\u001b[0m\u001b[0;34m]\u001b[0m\u001b[0;34m\u001b[0m\u001b[0m\n\u001b[0m\u001b[1;32m     36\u001b[0m         \u001b[0;32mif\u001b[0m \u001b[0mcomparison\u001b[0m\u001b[0;34m(\u001b[0m\u001b[0mperm_sum\u001b[0m\u001b[0;34m,\u001b[0m \u001b[0mbest_sum\u001b[0m\u001b[0;34m)\u001b[0m\u001b[0;34m:\u001b[0m\u001b[0;34m\u001b[0m\u001b[0m\n\u001b[1;32m     37\u001b[0m             \u001b[0mbest_sum\u001b[0m \u001b[0;34m=\u001b[0m \u001b[0mperm_sum\u001b[0m\u001b[0;34m\u001b[0m\u001b[0m\n",
      "\u001b[0;31mKeyboardInterrupt\u001b[0m: "
     ]
    }
   ],
   "source": [
    "alignement_cos_metric_contexts(p1, p2, \n",
    "                        sum_init=np.inf,\n",
    "                        comparison=operator.lt,\n",
    "                        metric=euclidean_distances)"
   ]
  },
  {
   "cell_type": "code",
   "execution_count": 164,
   "metadata": {
    "collapsed": false
   },
   "outputs": [
    {
     "data": {
      "text/plain": [
       "11.474344154244939"
      ]
     },
     "execution_count": 164,
     "metadata": {},
     "output_type": "execute_result"
    }
   ],
   "source": [
    "model.wmdistance(p1.split(), p2.split())"
   ]
  },
  {
   "cell_type": "code",
   "execution_count": 167,
   "metadata": {
    "collapsed": false
   },
   "outputs": [
    {
     "name": "stderr",
     "output_type": "stream",
     "text": [
      "  1%|          | 6/1100 [00:10<31:06,  1.71s/it]\n"
     ]
    },
    {
     "ename": "KeyboardInterrupt",
     "evalue": "",
     "output_type": "error",
     "traceback": [
      "\u001b[0;31m---------------------------------------------------------------------------\u001b[0m",
      "\u001b[0;31mKeyboardInterrupt\u001b[0m                         Traceback (most recent call last)",
      "\u001b[0;32m<ipython-input-167-c6f3bdb811e3>\u001b[0m in \u001b[0;36m<module>\u001b[0;34m()\u001b[0m\n\u001b[1;32m      1\u001b[0m \u001b[0;32mfor\u001b[0m \u001b[0mc1\u001b[0m \u001b[0;32min\u001b[0m \u001b[0mtqdm\u001b[0m\u001b[0;34m(\u001b[0m\u001b[0mcontexts\u001b[0m\u001b[0;34m)\u001b[0m\u001b[0;34m:\u001b[0m\u001b[0;34m\u001b[0m\u001b[0m\n\u001b[1;32m      2\u001b[0m     \u001b[0;32mfor\u001b[0m \u001b[0mc2\u001b[0m \u001b[0;32min\u001b[0m \u001b[0mcontexts\u001b[0m\u001b[0;34m:\u001b[0m\u001b[0;34m\u001b[0m\u001b[0m\n\u001b[0;32m----> 3\u001b[0;31m         \u001b[0mmodel\u001b[0m\u001b[0;34m.\u001b[0m\u001b[0mwmdistance\u001b[0m\u001b[0;34m(\u001b[0m\u001b[0mc1\u001b[0m\u001b[0;34m.\u001b[0m\u001b[0msplit\u001b[0m\u001b[0;34m(\u001b[0m\u001b[0;34m)\u001b[0m\u001b[0;34m,\u001b[0m \u001b[0mc2\u001b[0m\u001b[0;34m.\u001b[0m\u001b[0msplit\u001b[0m\u001b[0;34m(\u001b[0m\u001b[0;34m)\u001b[0m\u001b[0;34m)\u001b[0m\u001b[0;34m\u001b[0m\u001b[0m\n\u001b[0m",
      "\u001b[0;32m/media/cdata-work/anaconda3/lib/python3.5/site-packages/gensim/models/keyedvectors.py\u001b[0m in \u001b[0;36mwmdistance\u001b[0;34m(self, document1, document2)\u001b[0m\n\u001b[1;32m    426\u001b[0m \u001b[0;34m\u001b[0m\u001b[0m\n\u001b[1;32m    427\u001b[0m         \u001b[0;31m# Compute WMD.\u001b[0m\u001b[0;34m\u001b[0m\u001b[0;34m\u001b[0m\u001b[0m\n\u001b[0;32m--> 428\u001b[0;31m         \u001b[0;32mreturn\u001b[0m \u001b[0memd\u001b[0m\u001b[0;34m(\u001b[0m\u001b[0md1\u001b[0m\u001b[0;34m,\u001b[0m \u001b[0md2\u001b[0m\u001b[0;34m,\u001b[0m \u001b[0mdistance_matrix\u001b[0m\u001b[0;34m)\u001b[0m\u001b[0;34m\u001b[0m\u001b[0m\n\u001b[0m\u001b[1;32m    429\u001b[0m \u001b[0;34m\u001b[0m\u001b[0m\n\u001b[1;32m    430\u001b[0m     \u001b[0;32mdef\u001b[0m \u001b[0mmost_similar_cosmul\u001b[0m\u001b[0;34m(\u001b[0m\u001b[0mself\u001b[0m\u001b[0;34m,\u001b[0m \u001b[0mpositive\u001b[0m\u001b[0;34m=\u001b[0m\u001b[0;34m[\u001b[0m\u001b[0;34m]\u001b[0m\u001b[0;34m,\u001b[0m \u001b[0mnegative\u001b[0m\u001b[0;34m=\u001b[0m\u001b[0;34m[\u001b[0m\u001b[0;34m]\u001b[0m\u001b[0;34m,\u001b[0m \u001b[0mtopn\u001b[0m\u001b[0;34m=\u001b[0m\u001b[0;36m10\u001b[0m\u001b[0;34m)\u001b[0m\u001b[0;34m:\u001b[0m\u001b[0;34m\u001b[0m\u001b[0m\n",
      "\u001b[0;31mKeyboardInterrupt\u001b[0m: "
     ]
    }
   ],
   "source": [
    "for c1 in tqdm(contexts):\n",
    "    for c2 in contexts:\n",
    "        model.wmdistance(c1.split(), c2.split())"
   ]
  },
  {
   "cell_type": "code",
   "execution_count": 103,
   "metadata": {
    "collapsed": false
   },
   "outputs": [
    {
     "name": "stderr",
     "output_type": "stream",
     "text": [
      "/media/cdata-work/anaconda3/lib/python3.5/site-packages/sklearn/utils/validation.py:395: DeprecationWarning: Passing 1d arrays as data is deprecated in 0.17 and will raise ValueError in 0.19. Reshape your data either using X.reshape(-1, 1) if your data has a single feature or X.reshape(1, -1) if it contains a single sample.\n",
      "  DeprecationWarning)\n",
      "/media/cdata-work/anaconda3/lib/python3.5/site-packages/sklearn/utils/validation.py:395: DeprecationWarning: Passing 1d arrays as data is deprecated in 0.17 and will raise ValueError in 0.19. Reshape your data either using X.reshape(-1, 1) if your data has a single feature or X.reshape(1, -1) if it contains a single sample.\n",
      "  DeprecationWarning)\n"
     ]
    },
    {
     "data": {
      "text/plain": [
       "array([[ 16.19408607]], dtype=float32)"
      ]
     },
     "execution_count": 103,
     "metadata": {},
     "output_type": "execute_result"
    }
   ],
   "source": [
    "euclidean_distances(model['mis'], model['see'])"
   ]
  },
  {
   "cell_type": "code",
   "execution_count": 90,
   "metadata": {
    "collapsed": false
   },
   "outputs": [
    {
     "data": {
      "text/plain": [
       "(2782,)"
      ]
     },
     "execution_count": 90,
     "metadata": {},
     "output_type": "execute_result"
    }
   ],
   "source": [
    "gensim_wmd[index].shape"
   ]
  },
  {
   "cell_type": "code",
   "execution_count": 64,
   "metadata": {
    "collapsed": false
   },
   "outputs": [
    {
     "data": {
      "text/plain": [
       "array([  0.        ,   7.4236916 ,   9.14308616, ...,   9.29879584,\n",
       "        10.40469048,   6.70222648])"
      ]
     },
     "execution_count": 64,
     "metadata": {},
     "output_type": "execute_result"
    }
   ],
   "source": [
    "gensim_wmd"
   ]
  }
 ],
 "metadata": {
  "kernelspec": {
   "display_name": "Python [conda root]",
   "language": "python",
   "name": "conda-root-py"
  },
  "language_info": {
   "codemirror_mode": {
    "name": "ipython",
    "version": 3
   },
   "file_extension": ".py",
   "mimetype": "text/x-python",
   "name": "python",
   "nbconvert_exporter": "python",
   "pygments_lexer": "ipython3",
   "version": "3.5.2"
  }
 },
 "nbformat": 4,
 "nbformat_minor": 2
}
