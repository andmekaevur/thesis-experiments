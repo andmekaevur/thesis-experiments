{
 "cells": [
  {
   "cell_type": "code",
   "execution_count": 3,
   "metadata": {
    "collapsed": true,
    "deletable": true,
    "editable": true
   },
   "outputs": [],
   "source": [
    "%matplotlib inline\n",
    "import numpy as np\n",
    "from joblib import Parallel, delayed\n",
    "from gensim.models.keyedvectors import KeyedVectors\n",
    "# from numba import jit, autojit\n",
    "from sklearn.manifold import MDS, TSNE\n",
    "from tqdm import tqdm\n",
    "from sklearn.metrics.pairwise import cosine_similarity, cosine_distances, linear_kernel, euclidean_distances\n",
    "from sklearn.feature_extraction.text import TfidfVectorizer\n",
    "from glob import glob\n",
    "import matplotlib.pyplot as plt\n",
    "import seaborn as sns\n",
    "import os\n",
    "import scipy.sparse as sps"
   ]
  },
  {
   "cell_type": "code",
   "execution_count": 7,
   "metadata": {
    "collapsed": false,
    "deletable": true,
    "editable": true
   },
   "outputs": [],
   "source": [
    "# model = KeyedVectors.load_word2vec_format('word2vec-models/lemmas.cbow.s100.w2v.bin', binary=True)"
   ]
  },
  {
   "cell_type": "code",
   "execution_count": 4,
   "metadata": {
    "collapsed": false,
    "deletable": true,
    "editable": true
   },
   "outputs": [],
   "source": [
    "model_sg = KeyedVectors.load_word2vec_format('word2vec-models/lemmas.sg.s100.w2v.bin', binary=True)"
   ]
  },
  {
   "cell_type": "code",
   "execution_count": 6,
   "metadata": {
    "collapsed": false,
    "deletable": true,
    "editable": true
   },
   "outputs": [
    {
     "data": {
      "text/plain": [
       "<gensim.models.keyedvectors.KeyedVectors at 0x7ff60bf21898>"
      ]
     },
     "execution_count": 6,
     "metadata": {},
     "output_type": "execute_result"
    }
   ],
   "source": [
    "model_sg"
   ]
  },
  {
   "cell_type": "code",
   "execution_count": 8,
   "metadata": {
    "collapsed": true,
    "deletable": true,
    "editable": true
   },
   "outputs": [],
   "source": [
    "def n_similarity(s1, s2):\n",
    "    vec1 = np.mean(model[s1.split()], axis=0)\n",
    "    vec2 = np.mean(model[s2.split()], axis=0)\n",
    "    return cosine_similarity([vec1], [vec2])[0][0]\n",
    "\n",
    "def n_distance(s1, s2):\n",
    "    vec1 = np.mean(model[s1.split()], axis=0)\n",
    "    vec2 = np.mean(model[s2.split()], axis=0)\n",
    "    return cosine_distances([vec1], [vec2])[0][0]\n",
    "\n",
    "def matrix_row_sim(s1, contexts, row_length):\n",
    "    row = np.empty(row_length)\n",
    "    for j, s2 in enumerate(contexts):\n",
    "#         row[j] = model.n_similarity(s1.split(), s2.split())\n",
    "        row[j] = n_similarity(s1, s2)\n",
    "        \n",
    "    return row\n",
    "\n",
    "def matrix_row_dist(s1, contexts, row_length):\n",
    "    row = np.empty(row_length)\n",
    "    for j, s2 in enumerate(contexts):\n",
    "        row[j] = n_distance(s1, s2)\n",
    "    return row"
   ]
  },
  {
   "cell_type": "markdown",
   "metadata": {
    "deletable": true,
    "editable": true
   },
   "source": [
    "# tf-idf"
   ]
  },
  {
   "cell_type": "code",
   "execution_count": 13,
   "metadata": {
    "collapsed": true,
    "deletable": true,
    "editable": true
   },
   "outputs": [],
   "source": [
    "words = [('joogitee', 'sõidutee'),\n",
    "        ('õun', 'banaan'),\n",
    "        ('õun', 'puder'),\n",
    "        ('õun', 'kivi'),\n",
    "        ('ämber', 'pang'),\n",
    "        ('hea', 'halb'),\n",
    "        ('countries', 'cities'),\n",
    "        ('Eesti', 'TallinnTartu')]\n",
    "\n",
    "# words = [('hea', 'halb'),\n",
    "#             ('countries', 'cities'),\n",
    "#             ('Eesti', 'TallinnTartu')]"
   ]
  },
  {
   "cell_type": "code",
   "execution_count": 15,
   "metadata": {
    "collapsed": false,
    "deletable": true,
    "editable": true
   },
   "outputs": [
    {
     "data": {
      "text/plain": [
       "[('joogitee', 'sõidutee'),\n",
       " ('õun', 'banaan'),\n",
       " ('õun', 'puder'),\n",
       " ('õun', 'kivi'),\n",
       " ('ämber', 'pang'),\n",
       " ('hea', 'halb'),\n",
       " ('countries', 'cities'),\n",
       " ('Eesti', 'TallinnTartu')]"
      ]
     },
     "execution_count": 15,
     "metadata": {},
     "output_type": "execute_result"
    }
   ],
   "source": [
    "words"
   ]
  },
  {
   "cell_type": "code",
   "execution_count": 215,
   "metadata": {
    "collapsed": true,
    "deletable": true,
    "editable": true
   },
   "outputs": [
    {
     "name": "stdout",
     "output_type": "stream",
     "text": [
      "hea halb\n",
      "2 True\n",
      "10000\n",
      "saving\n",
      "\n",
      "../datasets/tfidf-features/hea_halb_w_2_s_True.npy\n",
      "2 False\n",
      "10000\n",
      "saving\n",
      "\n",
      "../datasets/tfidf-features/hea_halb_w_2_s_False.npy\n",
      "3 True\n",
      "10000\n",
      "saving\n",
      "\n",
      "../datasets/tfidf-features/hea_halb_w_3_s_True.npy\n",
      "3 False\n",
      "10000\n",
      "saving\n",
      "\n",
      "../datasets/tfidf-features/hea_halb_w_3_s_False.npy\n",
      "4 True\n",
      "8068\n",
      "saving\n",
      "\n",
      "../datasets/tfidf-features/hea_halb_w_4_s_True.npy\n",
      "4 False\n",
      "10000\n",
      "saving\n",
      "\n",
      "../datasets/tfidf-features/hea_halb_w_4_s_False.npy\n",
      "countries cities\n",
      "2 True\n",
      "7486\n",
      "saving\n",
      "\n",
      "../datasets/tfidf-features/countries_cities_w_2_s_True.npy\n",
      "2 False\n",
      "10000\n",
      "saving\n",
      "\n",
      "../datasets/tfidf-features/countries_cities_w_2_s_False.npy\n",
      "3 True\n",
      "5980\n",
      "saving\n",
      "\n",
      "../datasets/tfidf-features/countries_cities_w_3_s_True.npy\n",
      "3 False\n",
      "10000\n",
      "saving\n",
      "\n",
      "../datasets/tfidf-features/countries_cities_w_3_s_False.npy\n",
      "4 True\n",
      "4614\n",
      "saving\n",
      "\n",
      "../datasets/tfidf-features/countries_cities_w_4_s_True.npy\n",
      "4 False\n",
      "10000\n",
      "saving\n",
      "\n",
      "../datasets/tfidf-features/countries_cities_w_4_s_False.npy\n",
      "Eesti TallinnTartu\n",
      "2 True\n",
      "6928\n",
      "saving\n",
      "\n",
      "../datasets/tfidf-features/Eesti_TallinnTartu_w_2_s_True.npy\n",
      "2 False\n",
      "10000\n",
      "saving\n",
      "\n",
      "../datasets/tfidf-features/Eesti_TallinnTartu_w_2_s_False.npy\n",
      "3 True\n",
      "5402\n",
      "saving\n",
      "\n",
      "../datasets/tfidf-features/Eesti_TallinnTartu_w_3_s_True.npy\n",
      "3 False\n",
      "10000\n",
      "saving\n",
      "\n",
      "../datasets/tfidf-features/Eesti_TallinnTartu_w_3_s_False.npy\n",
      "4 True\n",
      "4058\n",
      "saving\n",
      "\n",
      "../datasets/tfidf-features/Eesti_TallinnTartu_w_4_s_True.npy\n",
      "4 False\n",
      "10000\n",
      "saving\n",
      "\n",
      "../datasets/tfidf-features/Eesti_TallinnTartu_w_4_s_False.npy\n"
     ]
    }
   ],
   "source": [
    "for word1, word2 in words:\n",
    "    print(word1, word2)\n",
    "    for window in [2,3,4]:\n",
    "        for symmetric in [True, False]:\n",
    "            print(window, symmetric)\n",
    "            with open('../datasets/contexts/{}_s_{}_w_{}.txt'.format(word1, symmetric, window)) as f:\n",
    "                contexts1 = f.read().splitlines()\n",
    "            with open('../datasets/contexts/{}_s_{}_w_{}.txt'.format(word2, symmetric, window)) as f:\n",
    "                contexts2 = f.read().splitlines()\n",
    "            contexts = contexts1 + contexts2\n",
    "#             labels = [0]*len(contexts1) + [1]*len(contexts2)\n",
    "            \n",
    "            print(len(contexts))\n",
    "            tfidf_vectorizer = TfidfVectorizer()\n",
    "            tfidf = tfidf_vectorizer.fit_transform(contexts)\n",
    "            print('saving')\n",
    "            print()\n",
    "            filename = '../datasets/tfidf-features/{}_{}_w_{}_s_{}.npy'.format(word1, word2, window, symmetric)\n",
    "            print(filename)\n",
    "#             break\n",
    "            \n",
    "#         break\n",
    "#     break\n",
    "            np.save(filename, tfidf)\n"
   ]
  },
  {
   "cell_type": "markdown",
   "metadata": {
    "deletable": true,
    "editable": true
   },
   "source": [
    "# mean-vec"
   ]
  },
  {
   "cell_type": "code",
   "execution_count": 16,
   "metadata": {
    "collapsed": true,
    "deletable": true,
    "editable": true
   },
   "outputs": [
    {
     "name": "stdout",
     "output_type": "stream",
     "text": [
      "joogitee sõidutee\n",
      "2 True\n",
      "627 627 627 1254\n",
      "saving\n",
      "\n",
      "datasets/sg/mean-vec/vectors/joogitee_sõidutee_w_2_s_True.npy\n",
      "2 False\n",
      "977 977 977 1954\n",
      "saving\n",
      "\n",
      "datasets/sg/mean-vec/vectors/joogitee_sõidutee_w_2_s_False.npy\n",
      "3 True\n",
      "480 480 480 960\n",
      "saving\n",
      "\n",
      "datasets/sg/mean-vec/vectors/joogitee_sõidutee_w_3_s_True.npy\n",
      "3 False\n",
      "939 939 939 1878\n",
      "saving\n",
      "\n",
      "datasets/sg/mean-vec/vectors/joogitee_sõidutee_w_3_s_False.npy\n",
      "4 True\n",
      "354 354 354 708\n",
      "saving\n",
      "\n",
      "datasets/sg/mean-vec/vectors/joogitee_sõidutee_w_4_s_True.npy\n",
      "4 False\n",
      "919 919 919 1838\n",
      "saving\n",
      "\n",
      "datasets/sg/mean-vec/vectors/joogitee_sõidutee_w_4_s_False.npy\n",
      "õun banaan\n",
      "2 True\n",
      "1747 797 797 1594\n",
      "saving\n",
      "\n",
      "datasets/sg/mean-vec/vectors/õun_banaan_w_2_s_True.npy\n",
      "2 False\n",
      "2784 1174 1174 2348\n",
      "saving\n",
      "\n",
      "datasets/sg/mean-vec/vectors/õun_banaan_w_2_s_False.npy\n",
      "3 True\n",
      "1281 611 611 1222\n",
      "saving\n",
      "\n",
      "datasets/sg/mean-vec/vectors/õun_banaan_w_3_s_True.npy\n",
      "3 False\n",
      "2706 1136 1136 2272\n",
      "saving\n",
      "\n",
      "datasets/sg/mean-vec/vectors/õun_banaan_w_3_s_False.npy\n",
      "4 True\n",
      "942 494 494 988\n",
      "saving\n",
      "\n",
      "datasets/sg/mean-vec/vectors/õun_banaan_w_4_s_True.npy\n",
      "4 False\n",
      "2647 1113 1113 2226\n",
      "saving\n",
      "\n",
      "datasets/sg/mean-vec/vectors/õun_banaan_w_4_s_False.npy\n",
      "õun puder\n",
      "2 True\n",
      "1747 502 502 1004\n",
      "saving\n",
      "\n",
      "datasets/sg/mean-vec/vectors/õun_puder_w_2_s_True.npy\n",
      "2 False\n",
      "2784 818 818 1636\n",
      "saving\n",
      "\n",
      "datasets/sg/mean-vec/vectors/õun_puder_w_2_s_False.npy\n",
      "3 True\n",
      "1281 374 374 748\n",
      "saving\n",
      "\n",
      "datasets/sg/mean-vec/vectors/õun_puder_w_3_s_True.npy\n",
      "3 False\n",
      "2706 798 798 1596\n",
      "saving\n",
      "\n",
      "datasets/sg/mean-vec/vectors/õun_puder_w_3_s_False.npy\n",
      "4 True\n",
      "942 259 259 518\n",
      "saving\n",
      "\n",
      "datasets/sg/mean-vec/vectors/õun_puder_w_4_s_True.npy\n",
      "4 False\n",
      "2647 784 784 1568\n",
      "saving\n",
      "\n",
      "datasets/sg/mean-vec/vectors/õun_puder_w_4_s_False.npy\n",
      "õun kivi\n",
      "2 True\n",
      "1747 1747 1747 3494\n",
      "saving\n",
      "\n",
      "datasets/sg/mean-vec/vectors/õun_kivi_w_2_s_True.npy\n",
      "2 False\n",
      "2784 2784 2784 5568\n",
      "saving\n",
      "\n",
      "datasets/sg/mean-vec/vectors/õun_kivi_w_2_s_False.npy\n",
      "3 True\n",
      "1281 1281 1281 2562\n",
      "saving\n",
      "\n",
      "datasets/sg/mean-vec/vectors/õun_kivi_w_3_s_True.npy\n",
      "3 False\n",
      "2706 2706 2706 5412\n",
      "saving\n",
      "\n",
      "datasets/sg/mean-vec/vectors/õun_kivi_w_3_s_False.npy\n",
      "4 True\n",
      "942 942 942 1884\n",
      "saving\n",
      "\n",
      "datasets/sg/mean-vec/vectors/õun_kivi_w_4_s_True.npy\n",
      "4 False\n",
      "2647 2647 2647 5294\n",
      "saving\n",
      "\n",
      "datasets/sg/mean-vec/vectors/õun_kivi_w_4_s_False.npy\n",
      "ämber pang\n",
      "2 True\n",
      "308 308 308 616\n",
      "saving\n",
      "\n",
      "datasets/sg/mean-vec/vectors/ämber_pang_w_2_s_True.npy\n",
      "2 False\n",
      "463 463 463 926\n",
      "saving\n",
      "\n",
      "datasets/sg/mean-vec/vectors/ämber_pang_w_2_s_False.npy\n",
      "3 True\n",
      "224 224 224 448\n",
      "saving\n",
      "\n",
      "datasets/sg/mean-vec/vectors/ämber_pang_w_3_s_True.npy\n",
      "3 False\n",
      "455 455 455 910\n",
      "saving\n",
      "\n",
      "datasets/sg/mean-vec/vectors/ämber_pang_w_3_s_False.npy\n",
      "4 True\n",
      "170 170 170 340\n",
      "saving\n",
      "\n",
      "datasets/sg/mean-vec/vectors/ämber_pang_w_4_s_True.npy\n",
      "4 False\n",
      "450 450 450 900\n",
      "saving\n",
      "\n",
      "datasets/sg/mean-vec/vectors/ämber_pang_w_4_s_False.npy\n",
      "hea halb\n",
      "2 True\n",
      "5000 5000 5000 10000\n",
      "saving\n",
      "\n",
      "datasets/sg/mean-vec/vectors/hea_halb_w_2_s_True.npy\n",
      "2 False\n",
      "5000 5000 5000 10000\n",
      "saving\n",
      "\n",
      "datasets/sg/mean-vec/vectors/hea_halb_w_2_s_False.npy\n",
      "3 True\n",
      "5000 5000 5000 10000\n",
      "saving\n",
      "\n",
      "datasets/sg/mean-vec/vectors/hea_halb_w_3_s_True.npy\n",
      "3 False\n",
      "5000 5000 5000 10000\n",
      "saving\n",
      "\n",
      "datasets/sg/mean-vec/vectors/hea_halb_w_3_s_False.npy\n",
      "4 True\n",
      "4034 4034 4034 8068\n",
      "saving\n",
      "\n",
      "datasets/sg/mean-vec/vectors/hea_halb_w_4_s_True.npy\n",
      "4 False\n",
      "5000 5000 5000 10000\n",
      "saving\n",
      "\n",
      "datasets/sg/mean-vec/vectors/hea_halb_w_4_s_False.npy\n",
      "countries cities\n",
      "2 True\n",
      "3743 3743 3743 7486\n",
      "saving\n",
      "\n",
      "datasets/sg/mean-vec/vectors/countries_cities_w_2_s_True.npy\n",
      "2 False\n",
      "5000 5000 5000 10000\n",
      "saving\n",
      "\n",
      "datasets/sg/mean-vec/vectors/countries_cities_w_2_s_False.npy\n",
      "3 True\n",
      "2990 2990 2990 5980\n",
      "saving\n",
      "\n",
      "datasets/sg/mean-vec/vectors/countries_cities_w_3_s_True.npy\n",
      "3 False\n",
      "5000 5000 5000 10000\n",
      "saving\n",
      "\n",
      "datasets/sg/mean-vec/vectors/countries_cities_w_3_s_False.npy\n",
      "4 True\n",
      "2307 2307 2307 4614\n",
      "saving\n",
      "\n",
      "datasets/sg/mean-vec/vectors/countries_cities_w_4_s_True.npy\n",
      "4 False\n",
      "5000 5000 5000 10000\n",
      "saving\n",
      "\n",
      "datasets/sg/mean-vec/vectors/countries_cities_w_4_s_False.npy\n",
      "Eesti TallinnTartu\n",
      "2 True\n",
      "3464 3464 3464 6928\n",
      "saving\n",
      "\n",
      "datasets/sg/mean-vec/vectors/Eesti_TallinnTartu_w_2_s_True.npy\n",
      "2 False\n",
      "5000 5000 5000 10000\n",
      "saving\n",
      "\n",
      "datasets/sg/mean-vec/vectors/Eesti_TallinnTartu_w_2_s_False.npy\n",
      "3 True\n",
      "2701 2701 2701 5402\n",
      "saving\n",
      "\n",
      "datasets/sg/mean-vec/vectors/Eesti_TallinnTartu_w_3_s_True.npy\n",
      "3 False\n",
      "5000 5000 5000 10000\n",
      "saving\n",
      "\n",
      "datasets/sg/mean-vec/vectors/Eesti_TallinnTartu_w_3_s_False.npy\n",
      "4 True\n",
      "2029 2029 2029 4058\n",
      "saving\n",
      "\n",
      "datasets/sg/mean-vec/vectors/Eesti_TallinnTartu_w_4_s_True.npy\n",
      "4 False\n",
      "5000 5000 5000 10000\n",
      "saving\n",
      "\n",
      "datasets/sg/mean-vec/vectors/Eesti_TallinnTartu_w_4_s_False.npy\n"
     ]
    }
   ],
   "source": [
    "for word1, word2 in words:\n",
    "    print(word1, word2)\n",
    "    for window in [2,3,4]:\n",
    "        for symmetric in [True, False]:\n",
    "            print(window, symmetric)\n",
    "            with open('datasets/contexts/{}_s_{}_w_{}.txt'.format(word1, symmetric, window)) as f:\n",
    "                contexts1 = f.read().splitlines()\n",
    "            with open('datasets/contexts/{}_s_{}_w_{}.txt'.format(word2, symmetric, window)) as f:\n",
    "                contexts2 = f.read().splitlines()\n",
    "            contexts_len = min(len(contexts1), len(contexts2))\n",
    "            contexts = contexts1[:contexts_len] + contexts2[:contexts_len]\n",
    "#             labels = [0]*len(contexts1) + [1]*len(contexts2)\n",
    "            print(len(contexts1), len(contexts2), contexts_len, len(contexts))\n",
    "            n = len(contexts)\n",
    "            mean_vectors = np.zeros((n, 100))\n",
    "            for i in range(n):\n",
    "                mean_vectors[i] = np.mean(model_sg[contexts[i].split()], axis=0)\n",
    "            print('saving')\n",
    "            print()\n",
    "            filename = 'datasets/sg/mean-vec/vectors/{}_{}_w_{}_s_{}.npy'.format(word1, word2, window, symmetric)\n",
    "            print(filename)\n",
    "#             break\n",
    "#         break\n",
    "#     break\n",
    "            np.save(filename, mean_vectors)\n"
   ]
  },
  {
   "cell_type": "markdown",
   "metadata": {
    "deletable": true,
    "editable": true
   },
   "source": [
    "# {angular, euclidean}_distance"
   ]
  },
  {
   "cell_type": "code",
   "execution_count": 248,
   "metadata": {
    "collapsed": false,
    "deletable": true,
    "editable": true,
    "scrolled": false
   },
   "outputs": [
    {
     "data": {
      "text/plain": [
       "'../datasets/mean-vec/Eesti_TallinnTartu_w_4_s_False.npy'"
      ]
     },
     "execution_count": 248,
     "metadata": {},
     "output_type": "execute_result"
    }
   ],
   "source": [
    "filename"
   ]
  },
  {
   "cell_type": "code",
   "execution_count": 120,
   "metadata": {
    "collapsed": false,
    "deletable": true,
    "editable": true
   },
   "outputs": [],
   "source": [
    "t = np.load(filename).item()"
   ]
  },
  {
   "cell_type": "code",
   "execution_count": 128,
   "metadata": {
    "collapsed": false,
    "deletable": true,
    "editable": true,
    "scrolled": true
   },
   "outputs": [
    {
     "data": {
      "text/plain": [
       "(900, 2281)"
      ]
     },
     "execution_count": 128,
     "metadata": {},
     "output_type": "execute_result"
    }
   ],
   "source": [
    "t.shape"
   ]
  },
  {
   "cell_type": "code",
   "execution_count": 137,
   "metadata": {
    "collapsed": true,
    "deletable": true,
    "editable": true
   },
   "outputs": [
    {
     "data": {
      "text/plain": [
       "array([[ 1.        ,  0.        ,  0.        ,  0.        ,  0.        ,\n",
       "         0.        ,  0.        ,  0.        ,  0.        ,  0.        ,\n",
       "         0.04124013,  0.07124831,  0.12497102,  0.        ,  0.        ,\n",
       "         0.        ,  0.        ,  0.        ,  0.04488199,  0.03823299,\n",
       "         0.        ,  0.        ,  0.        ,  0.        ,  0.        ,\n",
       "         0.        ,  0.04913427,  0.        ,  0.        ,  0.        ,\n",
       "         0.        ,  0.10260547,  0.        ,  0.        ,  0.        ,\n",
       "         0.        ,  0.05200036,  0.        ,  0.        ,  0.        ,\n",
       "         0.        ,  0.        ,  0.        ,  0.        ,  0.08418861,\n",
       "         0.        ,  0.04037107,  0.06486868,  0.        ,  0.        ,\n",
       "         0.        ,  0.03878343,  0.        ,  0.        ,  0.        ,\n",
       "         0.        ,  0.        ,  0.18640086,  0.16808128,  0.        ,\n",
       "         0.038121  ,  0.03977867,  0.        ,  0.14769402,  0.        ,\n",
       "         0.        ,  0.08296978,  0.        ,  0.        ,  0.        ,\n",
       "         0.        ,  0.        ,  0.        ,  0.        ,  0.        ,\n",
       "         0.        ,  0.        ,  0.        ,  0.        ,  0.        ,\n",
       "         0.        ,  0.        ,  0.04946643,  0.06794802,  0.        ,\n",
       "         0.        ,  0.        ,  0.        ,  0.        ,  0.        ,\n",
       "         0.0452556 ,  0.        ,  0.        ,  0.        ,  0.        ,\n",
       "         0.        ,  0.        ,  0.        ,  0.        ,  0.        ,\n",
       "         0.        ,  0.        ,  0.        ,  0.        ,  0.        ,\n",
       "         0.        ,  0.        ,  0.        ,  0.        ,  0.        ,\n",
       "         0.        ,  0.        ,  0.        ,  0.        ,  0.        ,\n",
       "         0.        ,  0.        ,  0.0377341 ,  0.        ,  0.        ,\n",
       "         0.        ,  0.        ,  0.        ,  0.        ,  0.        ,\n",
       "         0.        ,  0.        ,  0.        ,  0.05115856,  0.        ,\n",
       "         0.        ,  0.        ,  0.        ,  0.        ,  0.        ,\n",
       "         0.        ,  0.        ,  0.        ,  0.        ,  0.        ,\n",
       "         0.        ,  0.        ,  0.        ,  0.        ,  0.        ,\n",
       "         0.        ,  0.        ,  0.04071737,  0.        ,  0.        ,\n",
       "         0.        ,  0.        ,  0.        ,  0.        ,  0.        ,\n",
       "         0.        ,  0.        ,  0.0500101 ,  0.        ,  0.        ,\n",
       "         0.        ,  0.        ,  0.        ,  0.        ,  0.        ,\n",
       "         0.03972767,  0.        ,  0.        ,  0.        ,  0.        ,\n",
       "         0.        ,  0.        ,  0.        ,  0.        ,  0.        ,\n",
       "         0.        ,  0.        ,  0.        ,  0.07272946,  0.05798767,\n",
       "         0.        ,  0.        ,  0.        ,  0.04520447,  0.        ,\n",
       "         0.        ,  0.11250106,  0.03695661,  0.        ,  0.05793391,\n",
       "         0.        ,  0.        ,  0.        ,  0.        ,  0.        ,\n",
       "         0.        ,  0.        ,  0.        ,  0.        ,  0.        ,\n",
       "         0.        ,  0.        ,  0.        ,  0.        ,  0.        ,\n",
       "         0.        ,  0.        ,  0.04179847,  0.        ,  0.        ,\n",
       "         0.        ,  0.        ,  0.        ,  0.        ,  0.        ,\n",
       "         0.        ,  0.        ,  0.        ,  0.        ,  0.        ,\n",
       "         0.        ,  0.        ,  0.        ,  0.        ,  0.        ,\n",
       "         0.        ,  0.        ,  0.05722413,  0.03609192,  0.        ,\n",
       "         0.        ,  0.        ,  0.        ,  0.04388816,  0.        ,\n",
       "         0.        ,  0.        ,  0.        ,  0.        ,  0.        ,\n",
       "         0.        ,  0.        ,  0.        ,  0.        ,  0.        ,\n",
       "         0.        ,  0.        ,  0.        ,  0.        ,  0.06744687,\n",
       "         0.03902728,  0.        ,  0.05415955,  0.        ,  0.        ,\n",
       "         0.        ,  0.        ,  0.        ,  0.        ,  0.        ,\n",
       "         0.        ,  0.        ,  0.        ,  0.        ,  0.        ,\n",
       "         0.        ,  0.        ,  0.04405635,  0.03923637,  0.        ,\n",
       "         0.        ,  0.        ,  0.        ,  0.        ,  0.04878164,\n",
       "         0.        ,  0.03748631,  0.        ,  0.        ,  0.        ,\n",
       "         0.        ,  0.        ,  0.        ,  0.        ,  0.        ,\n",
       "         0.        ,  0.        ,  0.04642062,  0.04205102,  0.        ,\n",
       "         0.05066115,  0.05756503,  0.05193401,  0.        ,  0.        ,\n",
       "         0.        ,  0.        ,  0.        ,  0.        ,  0.        ,\n",
       "         0.        ,  0.        ,  0.        ,  0.        ,  0.09085612,\n",
       "         0.        ,  0.        ,  0.        ,  0.        ,  0.        ,\n",
       "         0.06662389,  0.        ,  0.        ,  0.        ,  0.        ,\n",
       "         0.05363204,  0.04882206,  0.        ,  0.        ,  0.        ,\n",
       "         0.        ,  0.        ,  0.        ,  0.        ,  0.        ,\n",
       "         0.        ,  0.        ,  0.04083125,  0.        ,  0.        ,\n",
       "         0.        ,  0.        ,  0.        ,  0.13628587,  0.03893978,\n",
       "         0.04709475,  0.        ,  0.        ,  0.        ,  0.        ,\n",
       "         0.        ,  0.        ,  0.        ,  0.        ,  0.        ,\n",
       "         0.        ,  0.        ,  0.0457885 ,  0.        ,  0.        ,\n",
       "         0.        ,  0.        ,  0.        ,  0.        ,  0.        ,\n",
       "         0.        ,  0.        ,  0.        ,  0.        ,  0.        ,\n",
       "         0.        ,  0.        ,  0.        ,  0.        ,  0.        ,\n",
       "         0.        ,  0.        ,  0.        ,  0.        ,  0.        ,\n",
       "         0.        ,  0.        ,  0.        ,  0.        ,  0.        ,\n",
       "         0.        ,  0.        ,  0.        ,  0.        ,  0.        ,\n",
       "         0.        ,  0.        ,  0.11999317,  0.        ,  0.        ,\n",
       "         0.        ,  0.        ,  0.        ,  0.        ,  0.        ,\n",
       "         0.08443025,  0.        ,  0.        ,  0.        ,  0.        ,\n",
       "         0.        ,  0.        ,  0.        ,  0.        ,  0.        ,\n",
       "         0.        ,  0.        ,  0.06704032,  0.        ,  0.        ,\n",
       "         0.04608972,  0.        ,  0.        ,  0.        ,  0.15653148,\n",
       "         0.        ,  0.        ,  0.        ,  0.        ,  0.        ,\n",
       "         0.        ,  0.        ,  0.        ,  0.        ,  0.        ,\n",
       "         0.        ,  0.        ,  0.        ,  0.        ,  0.        ,\n",
       "         0.34309949,  0.        ,  0.        ,  0.        ,  0.03631586,\n",
       "         0.03418337,  0.        ,  0.        ,  0.09001033,  0.        ,\n",
       "         0.        ,  0.        ,  0.05139723,  0.        ,  0.        ,\n",
       "         0.        ,  0.        ,  0.        ,  0.        ,  0.        ,\n",
       "         0.        ,  0.0325148 ,  0.        ,  0.        ,  0.03531048,\n",
       "         0.        ,  0.        ,  0.05885537,  0.        ,  0.09951783,\n",
       "         0.        ,  0.        ,  0.        ,  0.        ,  0.04051993,\n",
       "         0.06091067,  0.        ,  0.        ,  0.04910211,  0.        ,\n",
       "         0.        ,  0.07094762,  0.        ,  0.03653411,  0.        ,\n",
       "         0.06000926,  0.03722576,  0.        ,  0.        ,  0.04273807,\n",
       "         0.043847  ,  0.04478236,  0.        ,  0.        ,  0.        ,\n",
       "         0.0519976 ,  0.        ,  0.        ,  0.        ,  0.        ,\n",
       "         0.21475074,  0.        ,  0.        ,  0.        ,  0.0571632 ,\n",
       "         0.        ,  0.        ,  0.        ,  0.        ,  0.        ,\n",
       "         0.        ,  0.        ,  0.04120288,  0.037486  ,  0.        ,\n",
       "         0.04481687,  0.        ,  0.        ,  0.        ,  0.        ,\n",
       "         0.        ,  0.03679595,  0.        ,  0.        ,  0.03366571,\n",
       "         0.        ,  0.        ,  0.        ,  0.07233182,  0.        ,\n",
       "         0.        ,  0.        ,  0.        ,  0.        ,  0.        ,\n",
       "         0.        ,  0.        ,  0.        ,  0.        ,  0.        ,\n",
       "         0.        ,  0.        ,  0.        ,  0.        ,  0.        ,\n",
       "         0.        ,  0.        ,  0.        ,  0.        ,  0.        ,\n",
       "         0.        ,  0.        ,  0.        ,  0.        ,  0.        ,\n",
       "         0.        ,  0.        ,  0.        ,  0.        ,  0.        ,\n",
       "         0.        ,  0.        ,  0.        ,  0.        ,  0.        ,\n",
       "         0.        ,  0.        ,  0.        ,  0.        ,  0.        ,\n",
       "         0.        ,  0.04534393,  0.        ,  0.        ,  0.        ,\n",
       "         0.        ,  0.        ,  0.07164055,  0.        ,  0.05968734,\n",
       "         0.03776121,  0.        ,  0.        ,  0.04831861,  0.04797938,\n",
       "         0.        ,  0.04702987,  0.        ,  0.07372773,  0.        ,\n",
       "         0.        ,  0.        ,  0.        ,  0.0614983 ,  0.        ,\n",
       "         0.        ,  0.        ,  0.        ,  0.        ,  0.        ,\n",
       "         0.        ,  0.        ,  0.        ,  0.        ,  0.0434104 ,\n",
       "         0.        ,  0.        ,  0.        ,  0.        ,  0.        ,\n",
       "         0.        ,  0.        ,  0.05534792,  0.        ,  0.        ,\n",
       "         0.        ,  0.        ,  0.        ,  0.        ,  0.        ,\n",
       "         0.        ,  0.04472851,  0.0614983 ,  0.        ,  0.        ,\n",
       "         0.        ,  0.        ,  0.        ,  0.        ,  0.        ,\n",
       "         0.        ,  0.        ,  0.        ,  0.09483187,  0.        ,\n",
       "         0.03834696,  0.04148762,  0.04197552,  0.        ,  0.        ,\n",
       "         0.        ,  0.        ,  0.        ,  0.        ,  0.        ,\n",
       "         0.06539882,  0.        ,  0.        ,  0.        ,  0.        ,\n",
       "         0.        ,  0.        ,  0.        ,  0.        ,  0.        ,\n",
       "         0.13030605,  0.        ,  0.        ,  0.        ,  0.05692039,\n",
       "         0.        ,  0.        ,  0.        ,  0.        ,  0.03823851,\n",
       "         0.04863872,  0.        ,  0.        ,  0.        ,  0.06349465,\n",
       "         0.        ,  0.        ,  0.03869039,  0.        ,  0.        ,\n",
       "         0.        ,  0.        ,  0.        ,  0.        ,  0.        ,\n",
       "         0.        ,  0.        ,  0.        ,  0.17683069,  0.        ,\n",
       "         0.        ,  0.        ,  0.        ,  0.        ,  0.        ,\n",
       "         0.21609638,  0.        ,  0.        ,  0.        ,  0.        ,\n",
       "         0.        ,  0.        ,  0.04928077,  0.        ,  0.        ,\n",
       "         0.        ,  0.03554291,  0.06178681,  0.09950749,  0.        ,\n",
       "         0.        ,  0.        ,  0.        ,  0.        ,  0.04094166,\n",
       "         0.        ,  0.        ,  0.        ,  0.        ,  0.        ,\n",
       "         0.04039853,  0.        ,  0.        ,  0.        ,  0.        ,\n",
       "         0.        ,  0.        ,  0.        ,  0.        ,  0.        ,\n",
       "         0.        ,  0.        ,  0.        ,  0.        ,  0.04278847,\n",
       "         0.        ,  0.        ,  0.        ,  0.        ,  0.        ,\n",
       "         0.        ,  0.03821238,  0.        ,  0.        ,  0.        ,\n",
       "         0.        ,  0.        ,  0.        ,  0.03946792,  0.        ,\n",
       "         0.        ,  0.        ,  0.        ,  0.        ,  0.07490734,\n",
       "         0.        ,  0.        ,  0.        ,  0.        ,  0.        ,\n",
       "         0.        ,  0.        ,  0.        ,  0.        ,  0.        ,\n",
       "         0.        ,  0.        ,  0.        ,  0.        ,  0.        ,\n",
       "         0.        ,  0.        ,  0.        ,  0.        ,  0.        ,\n",
       "         0.        ,  0.        ,  0.        ,  0.        ,  0.        ,\n",
       "         0.        ,  0.        ,  0.        ,  0.        ,  0.06787392,\n",
       "         0.07915264,  0.        ,  0.        ,  0.06063489,  0.        ,\n",
       "         0.0433265 ,  0.        ,  0.04842562,  0.        ,  0.        ,\n",
       "         0.        ,  0.05891115,  0.        ,  0.        ,  0.        ,\n",
       "         0.05548316,  0.06200393,  0.        ,  0.        ,  0.        ,\n",
       "         0.        ,  0.10653018,  0.        ,  0.        ,  0.        ,\n",
       "         0.        ,  0.        ,  0.        ,  0.        ,  0.04534393,\n",
       "         0.        ,  0.06075229,  0.        ,  0.07094762,  0.        ,\n",
       "         0.        ,  0.        ,  0.16759721,  0.        ,  0.        ,\n",
       "         0.        ,  0.        ,  0.        ,  0.        ,  0.        ,\n",
       "         0.        ,  0.        ,  0.        ,  0.08448826,  0.        ,\n",
       "         0.        ,  0.        ,  0.09483187,  0.        ,  0.        ,\n",
       "         0.        ,  0.06933415,  0.        ,  0.        ,  0.        ,\n",
       "         0.        ,  0.        ,  0.        ,  0.        ,  0.        ,\n",
       "         0.04040232,  0.        ,  0.06243056,  0.        ,  0.        ,\n",
       "         0.        ,  0.        ,  0.04416632,  0.        ,  0.        ,\n",
       "         0.04927989,  0.        ,  0.        ,  0.        ,  0.        ,\n",
       "         0.0457471 ,  0.        ,  0.        ,  0.        ,  0.        ,\n",
       "         0.        ,  0.        ,  0.        ,  0.04397444,  0.        ,\n",
       "         0.        ,  0.        ,  0.        ,  0.        ,  0.        ,\n",
       "         0.        ,  0.        ,  0.        ,  0.        ,  0.        ,\n",
       "         0.09296691,  0.04697545,  0.        ,  0.        ,  0.        ,\n",
       "         0.        ,  0.        ,  0.        ,  0.        ,  0.        ,\n",
       "         0.        ,  0.        ,  0.        ,  0.08260724,  0.        ,\n",
       "         0.04442335,  0.        ,  0.        ,  0.        ,  0.04418963,\n",
       "         0.        ,  0.06275085,  0.03780788,  0.        ,  0.06820397,\n",
       "         0.        ,  0.        ,  0.        ,  0.        ,  0.        ,\n",
       "         0.        ,  0.04472941,  0.        ,  0.        ,  0.        ]])"
      ]
     },
     "execution_count": 137,
     "metadata": {},
     "output_type": "execute_result"
    }
   ],
   "source": [
    "cosine_similarity(features[i], features)"
   ]
  },
  {
   "cell_type": "code",
   "execution_count": 151,
   "metadata": {
    "collapsed": false,
    "deletable": true,
    "editable": true
   },
   "outputs": [],
   "source": [
    "a = glob(os.path.join('../datasets', feature, '*'))[0]"
   ]
  },
  {
   "cell_type": "code",
   "execution_count": 207,
   "metadata": {
    "collapsed": false,
    "deletable": true,
    "editable": true
   },
   "outputs": [
    {
     "data": {
      "text/plain": [
       "'../datasets/mean-vec/hea_halb_w_4_s_False.npy'"
      ]
     },
     "execution_count": 207,
     "metadata": {},
     "output_type": "execute_result"
    }
   ],
   "source": [
    "filename"
   ]
  },
  {
   "cell_type": "code",
   "execution_count": null,
   "metadata": {
    "collapsed": true,
    "deletable": true,
    "editable": true
   },
   "outputs": [],
   "source": [
    "features = np.load(filename)\n",
    "features = features.item()"
   ]
  },
  {
   "cell_type": "code",
   "execution_count": 231,
   "metadata": {
    "collapsed": false,
    "deletable": true,
    "editable": true
   },
   "outputs": [
    {
     "name": "stdout",
     "output_type": "stream",
     "text": [
      "../datasets/tfidf-features/hea_halb_w_4_s_False.npy tfidf-features\n",
      "(10000, 11439)\n",
      "<class 'scipy.sparse.csr.csr_matrix'>\n",
      "../datasets/euclidean-distance/tfidf-features/hea_halb_w_4_s_False.npy\n"
     ]
    }
   ],
   "source": [
    "feature = 'mean-vec'\n",
    "feature = 'tfidf-features'\n",
    "a = glob(os.path.join('../datasets', feature, '*'))[0]\n",
    "features_to_pairwise(files_5k[0], feature)"
   ]
  },
  {
   "cell_type": "code",
   "execution_count": 229,
   "metadata": {
    "collapsed": false,
    "deletable": true,
    "editable": true
   },
   "outputs": [
    {
     "data": {
      "text/plain": [
       "'../datasets/tfidf-features/hea_halb_w_4_s_False.npy'"
      ]
     },
     "execution_count": 229,
     "metadata": {},
     "output_type": "execute_result"
    }
   ],
   "source": [
    "files_5k[0]"
   ]
  },
  {
   "cell_type": "code",
   "execution_count": 24,
   "metadata": {
    "collapsed": false,
    "deletable": true,
    "editable": true
   },
   "outputs": [],
   "source": [
    "# doing both angular and euclidean here. change contentds to modify.\n",
    "\n",
    "def features_to_pairwise(filename):\n",
    "    print(filename)\n",
    "    features = np.load(filename)\n",
    "#     if feature == 'tfidf-features':\n",
    "#         features = features.\n",
    "#         print(features.item().shape)\n",
    "#         features = features.item()\n",
    "#         print(type(features))\n",
    "    n = features.shape[0]\n",
    "    matrix = np.zeros((n,n))\n",
    "    for i in range(n):\n",
    "        row = [features[i]]\n",
    "#         if feature == 'tfidf-features':\n",
    "#             row = row[0]\n",
    "        matrix[i,:] = cosine_similarity(row, features).flatten()\n",
    "#         matrix[i,:] = euclidean_distances(row, features).flatten()\n",
    "\n",
    "    matrix[matrix>1] = 1\n",
    "    matrix = np.arccos(matrix)/np.pi\n",
    "    basename = os.path.basename(filename)\n",
    "    new_path = os.path.join('datasets/sg/mean-vec/angular-distance/', basename)\n",
    "#     new_path = os.path.join('datasets/sg/mean-vec/euclidean-distance/', basename)\n",
    "    \n",
    "    print(new_path)\n",
    "    np.save(new_path, matrix)"
   ]
  },
  {
   "cell_type": "code",
   "execution_count": 34,
   "metadata": {
    "collapsed": false
   },
   "outputs": [
    {
     "name": "stdout",
     "output_type": "stream",
     "text": [
      "datasets/tfidf/lsi/tfidf_features_õun_banaan_w_2_s_False_n_10.npy\n",
      "datasets/tfidf/lsi-cos-dist/tfidf_features_õun_banaan_w_2_s_False_n_10.npy\n"
     ]
    }
   ],
   "source": [
    "# LSI COS DISTANCE\n",
    "\n",
    "def features_to_pairwise_lsi(filename):\n",
    "    print(filename)\n",
    "    features = np.load(filename)\n",
    "#     if feature == 'tfidf-features':\n",
    "#         features = features.\n",
    "#         print(features.item().shape)\n",
    "#         features = features.item()\n",
    "#         print(type(features))\n",
    "    n = features.shape[0]\n",
    "    matrix = np.zeros((n,n))\n",
    "    for i in range(n):\n",
    "        row = [features[i]]\n",
    "#         if feature == 'tfidf-features':\n",
    "#             row = row[0]\n",
    "        matrix[i,:] = cosine_distances(row, features).flatten()\n",
    "#         matrix[i,:] = euclidean_distances(row, features).flatten()\n",
    "\n",
    "#     matrix[matrix>1] = 1\n",
    "#     matrix = np.arccos(matrix)/np.pi\n",
    "    basename = os.path.basename(filename)\n",
    "    new_path = os.path.join('datasets/tfidf/lsi-cos-dist/', basename)\n",
    "#     new_path = os.path.join('datasets/sg/mean-vec/euclidean-distance/', basename)\n",
    "    \n",
    "    print(new_path)\n",
    "    np.save(new_path, matrix)\n",
    "\n",
    "features_to_pairwise(fname)"
   ]
  },
  {
   "cell_type": "code",
   "execution_count": 29,
   "metadata": {
    "collapsed": false
   },
   "outputs": [],
   "source": [
    "fname = glob('datasets/tfidf/lsi/*')[0]"
   ]
  },
  {
   "cell_type": "code",
   "execution_count": 33,
   "metadata": {
    "collapsed": false,
    "deletable": true,
    "editable": true
   },
   "outputs": [
    {
     "data": {
      "text/plain": [
       "3.0"
      ]
     },
     "execution_count": 33,
     "metadata": {},
     "output_type": "execute_result"
    }
   ],
   "source": [
    "all_files = glob(os.path.join('datasets/tfidf/lsi/*'))\n",
    "len(all_files)/48"
   ]
  },
  {
   "cell_type": "code",
   "execution_count": 35,
   "metadata": {
    "collapsed": false,
    "deletable": true,
    "editable": true
   },
   "outputs": [
    {
     "name": "stdout",
     "output_type": "stream",
     "text": [
      "datasets/tfidf/lsi/tfidf_features_õun_banaan_w_2_s_False_n_10.npy\n",
      "datasets/tfidf/lsi/tfidf_features_õun_banaan_w_2_s_True_n_40.npy\n",
      "datasets/tfidf/lsi/tfidf_features_õun_banaan_w_3_s_True_n_2.npy\n",
      "datasets/tfidf/lsi/tfidf_features_countries_cities_w_2_s_False_n_2.npy\n",
      "datasets/tfidf/lsi/tfidf_features_õun_puder_w_2_s_False_n_40.npy\n",
      "datasets/tfidf/lsi/tfidf_features_õun_banaan_w_3_s_False_n_2.npy\n",
      "datasets/tfidf/lsi/tfidf_features_ämber_pang_w_3_s_True_n_2.npy\n",
      "datasets/tfidf/lsi/tfidf_features_õun_banaan_w_2_s_False_n_2.npy\n",
      "datasets/tfidf/lsi/tfidf_features_Eesti_TallinnTartu_w_4_s_False_n_40.npy\n",
      "datasets/tfidf/lsi/tfidf_features_õun_kivi_w_4_s_True_n_40.npy\n",
      "datasets/tfidf/lsi/tfidf_features_õun_puder_w_3_s_False_n_40.npy\n",
      "datasets/tfidf/lsi/tfidf_features_õun_puder_w_3_s_True_n_10.npy\n",
      "datasets/tfidf/lsi/tfidf_features_hea_halb_w_3_s_False_n_2.npy\n",
      "datasets/tfidf/lsi/tfidf_features_countries_cities_w_4_s_False_n_40.npy\n",
      "datasets/tfidf/lsi/tfidf_features_countries_cities_w_3_s_False_n_10.npy\n",
      "datasets/tfidf/lsi/tfidf_features_ämber_pang_w_3_s_False_n_2.npy\n",
      "datasets/tfidf/lsi/tfidf_features_ämber_pang_w_4_s_True_n_40.npy\n",
      "datasets/tfidf/lsi/tfidf_features_Eesti_TallinnTartu_w_2_s_False_n_40.npy\n",
      "datasets/tfidf/lsi/tfidf_features_countries_cities_w_4_s_True_n_2.npy\n",
      "datasets/tfidf/lsi/tfidf_features_hea_halb_w_4_s_True_n_40.npy\n",
      "datasets/tfidf/lsi/tfidf_features_ämber_pang_w_3_s_False_n_40.npy\n",
      "datasets/tfidf/lsi/tfidf_features_õun_banaan_w_2_s_True_n_10.npy\n",
      "datasets/tfidf/lsi/tfidf_features_countries_cities_w_4_s_True_n_40.npy\n",
      "datasets/tfidf/lsi/tfidf_features_õun_banaan_w_4_s_True_n_40.npy\n",
      "datasets/tfidf/lsi/tfidf_features_õun_puder_w_2_s_False_n_10.npy\n",
      "datasets/tfidf/lsi-cos-dist/tfidf_features_ämber_pang_w_3_s_True_n_2.npy\n",
      "datasets/tfidf/lsi/tfidf_features_õun_puder_w_3_s_True_n_40.npy\n",
      "datasets/tfidf/lsi-cos-dist/tfidf_features_ämber_pang_w_4_s_True_n_40.npy\n",
      "datasets/tfidf/lsi/tfidf_features_õun_kivi_w_2_s_False_n_10.npy\n",
      "datasets/tfidf/lsi-cos-dist/tfidf_features_ämber_pang_w_3_s_False_n_2.npy\n",
      "datasets/tfidf/lsi/tfidf_features_õun_banaan_w_3_s_True_n_40.npy\n",
      "datasets/tfidf/lsi-cos-dist/tfidf_features_õun_banaan_w_3_s_True_n_2.npy\n",
      "datasets/tfidf/lsi-cos-dist/tfidf_features_ämber_pang_w_3_s_False_n_40.npy\n",
      "datasets/tfidf/lsi/tfidf_features_joogitee_sõidutee_w_4_s_True_n_2.npy\n",
      "datasets/tfidf/lsi/tfidf_features_joogitee_sõidutee_w_2_s_False_n_40.npy\n",
      "datasets/tfidf/lsi-cos-dist/tfidf_features_joogitee_sõidutee_w_4_s_True_n_2.npy\n",
      "datasets/tfidf/lsi/tfidf_features_Eesti_TallinnTartu_w_4_s_False_n_2.npy\n",
      "datasets/tfidf/lsi-cos-dist/tfidf_features_õun_banaan_w_4_s_True_n_40.npy\n",
      "datasets/tfidf/lsi/tfidf_features_ämber_pang_w_2_s_True_n_2.npy\n",
      "datasets/tfidf/lsi-cos-dist/tfidf_features_õun_puder_w_3_s_True_n_10.npy\n",
      "datasets/tfidf/lsi/tfidf_features_countries_cities_w_3_s_True_n_40.npy\n",
      "datasets/tfidf/lsi-cos-dist/tfidf_features_ämber_pang_w_2_s_True_n_2.npy\n",
      "datasets/tfidf/lsi/tfidf_features_õun_kivi_w_2_s_False_n_2.npy\n",
      "datasets/tfidf/lsi-cos-dist/tfidf_features_õun_puder_w_3_s_True_n_40.npy\n",
      "datasets/tfidf/lsi/tfidf_features_joogitee_sõidutee_w_4_s_True_n_10.npy\n",
      "datasets/tfidf/lsi-cos-dist/tfidf_features_joogitee_sõidutee_w_4_s_True_n_10.npy\n",
      "datasets/tfidf/lsi/tfidf_features_ämber_pang_w_4_s_True_n_10.npy\n",
      "datasets/tfidf/lsi-cos-dist/tfidf_features_õun_banaan_w_3_s_False_n_2.npy\n",
      "datasets/tfidf/lsi-cos-dist/tfidf_features_ämber_pang_w_4_s_True_n_10.npy\n",
      "datasets/tfidf/lsi/tfidf_features_ämber_pang_w_2_s_False_n_2.npy\n",
      "datasets/tfidf/lsi-cos-dist/tfidf_features_õun_banaan_w_2_s_False_n_2.npy\n",
      "datasets/tfidf/lsi-cos-dist/tfidf_features_õun_banaan_w_2_s_True_n_10.npy\n",
      "datasets/tfidf/lsi/tfidf_features_õun_puder_w_4_s_False_n_2.npy\n",
      "datasets/tfidf/lsi/tfidf_features_countries_cities_w_2_s_True_n_2.npy\n",
      "datasets/tfidf/lsi/tfidf_features_õun_kivi_w_2_s_True_n_40.npy\n",
      "datasets/tfidf/lsi-cos-dist/tfidf_features_õun_banaan_w_3_s_True_n_40.npy\n",
      "datasets/tfidf/lsi/tfidf_features_Eesti_TallinnTartu_w_3_s_True_n_40.npy\n",
      "datasets/tfidf/lsi-cos-dist/tfidf_features_ämber_pang_w_2_s_False_n_2.npy\n",
      "datasets/tfidf/lsi/tfidf_features_Eesti_TallinnTartu_w_2_s_False_n_10.npy\n",
      "datasets/tfidf/lsi-cos-dist/tfidf_features_õun_kivi_w_4_s_True_n_40.npy\n",
      "datasets/tfidf/lsi/tfidf_features_joogitee_sõidutee_w_3_s_True_n_2.npy\n",
      "datasets/tfidf/lsi-cos-dist/tfidf_features_joogitee_sõidutee_w_2_s_False_n_40.npy\n",
      "datasets/tfidf/lsi/tfidf_features_hea_halb_w_3_s_False_n_40.npy\n",
      "datasets/tfidf/lsi-cos-dist/tfidf_features_joogitee_sõidutee_w_3_s_True_n_2.npy\n",
      "datasets/tfidf/lsi/tfidf_features_Eesti_TallinnTartu_w_2_s_False_n_2.npy\n",
      "datasets/tfidf/lsi-cos-dist/tfidf_features_õun_puder_w_2_s_False_n_10.npy\n",
      "datasets/tfidf/lsi-cos-dist/tfidf_features_countries_cities_w_4_s_True_n_2.npy\n",
      "datasets/tfidf/lsi/tfidf_features_õun_banaan_w_4_s_True_n_10.npy\n",
      "datasets/tfidf/lsi/tfidf_features_õun_banaan_w_3_s_True_n_10.npy\n",
      "datasets/tfidf/lsi-cos-dist/tfidf_features_õun_puder_w_4_s_False_n_2.npy\n",
      "datasets/tfidf/lsi-cos-dist/tfidf_features_õun_banaan_w_4_s_True_n_10.npy\n",
      "datasets/tfidf/lsi/tfidf_features_ämber_pang_w_2_s_False_n_10.npy\n",
      "datasets/tfidf/lsi/tfidf_features_Eesti_TallinnTartu_w_2_s_True_n_2.npy\n",
      "datasets/tfidf/lsi-cos-dist/tfidf_features_õun_banaan_w_2_s_False_n_10.npy\n",
      "datasets/tfidf/lsi/tfidf_features_õun_banaan_w_2_s_True_n_2.npy\n",
      "datasets/tfidf/lsi-cos-dist/tfidf_features_ämber_pang_w_2_s_False_n_10.npy\n",
      "datasets/tfidf/lsi/tfidf_features_õun_puder_w_2_s_False_n_2.npy\n",
      "datasets/tfidf/lsi-cos-dist/tfidf_features_õun_banaan_w_2_s_True_n_40.npy\n",
      "datasets/tfidf/lsi/tfidf_features_õun_banaan_w_2_s_False_n_40.npy\n",
      "datasets/tfidf/lsi-cos-dist/tfidf_features_õun_banaan_w_2_s_True_n_2.npy\n",
      "datasets/tfidf/lsi-cos-dist/tfidf_features_õun_banaan_w_3_s_True_n_10.npy\n",
      "datasets/tfidf/lsi/tfidf_features_ämber_pang_w_4_s_False_n_40.npy\n",
      "datasets/tfidf/lsi/tfidf_features_joogitee_sõidutee_w_2_s_False_n_2.npy\n",
      "datasets/tfidf/lsi-cos-dist/tfidf_features_õun_kivi_w_2_s_False_n_2.npy\n",
      "datasets/tfidf/lsi/tfidf_features_hea_halb_w_4_s_False_n_10.npy\n",
      "datasets/tfidf/lsi-cos-dist/tfidf_features_õun_puder_w_3_s_False_n_40.npy\n",
      "datasets/tfidf/lsi-cos-dist/tfidf_features_õun_puder_w_2_s_False_n_40.npy\n",
      "datasets/tfidf/lsi/tfidf_features_Eesti_TallinnTartu_w_3_s_True_n_10.npy\n",
      "datasets/tfidf/lsi/tfidf_features_hea_halb_w_4_s_False_n_2.npy\n",
      "datasets/tfidf/lsi-cos-dist/tfidf_features_õun_puder_w_2_s_False_n_2.npy\n",
      "datasets/tfidf/lsi-cos-dist/tfidf_features_õun_kivi_w_2_s_False_n_10.npy\n",
      "datasets/tfidf/lsi-cos-dist/tfidf_features_ämber_pang_w_4_s_False_n_40.npy\n",
      "datasets/tfidf/lsi/tfidf_features_õun_kivi_w_4_s_False_n_2.npy\n",
      "datasets/tfidf/lsi-cos-dist/tfidf_features_joogitee_sõidutee_w_2_s_False_n_2.npy\n",
      "datasets/tfidf/lsi/tfidf_features_countries_cities_w_2_s_False_n_10.npy\n",
      "datasets/tfidf/lsi/tfidf_features_countries_cities_w_3_s_False_n_2.npy\n",
      "datasets/tfidf/lsi/tfidf_features_õun_kivi_w_4_s_True_n_10.npy\n",
      "datasets/tfidf/lsi-cos-dist/tfidf_features_õun_kivi_w_4_s_True_n_10.npy\n",
      "datasets/tfidf/lsi/tfidf_features_Eesti_TallinnTartu_w_2_s_True_n_10.npy\n",
      "datasets/tfidf/lsi-cos-dist/tfidf_features_õun_kivi_w_2_s_True_n_40.npy\n",
      "datasets/tfidf/lsi-cos-dist/tfidf_features_countries_cities_w_2_s_True_n_2.npy\n",
      "datasets/tfidf/lsi/tfidf_features_õun_banaan_w_3_s_False_n_40.npy\n",
      "datasets/tfidf/lsi-cos-dist/tfidf_features_hea_halb_w_3_s_False_n_2.npy\n",
      "datasets/tfidf/lsi-cos-dist/tfidf_features_countries_cities_w_2_s_False_n_2.npy\n",
      "datasets/tfidf/lsi/tfidf_features_õun_kivi_w_2_s_False_n_40.npy\n",
      "datasets/tfidf/lsi-cos-dist/tfidf_features_Eesti_TallinnTartu_w_2_s_True_n_2.npy\n",
      "datasets/tfidf/lsi-cos-dist/tfidf_features_õun_kivi_w_4_s_False_n_2.npy\n",
      "datasets/tfidf/lsi/tfidf_features_õun_banaan_w_4_s_True_n_2.npy\n",
      "datasets/tfidf/lsi/tfidf_features_õun_banaan_w_3_s_False_n_10.npy\n",
      "datasets/tfidf/lsi/tfidf_features_countries_cities_w_4_s_False_n_2.npy\n",
      "datasets/tfidf/lsi-cos-dist/tfidf_features_õun_banaan_w_4_s_True_n_2.npy\n",
      "datasets/tfidf/lsi/tfidf_features_Eesti_TallinnTartu_w_4_s_True_n_10.npy\n",
      "datasets/tfidf/lsi-cos-dist/tfidf_features_Eesti_TallinnTartu_w_4_s_False_n_2.npy\n",
      "datasets/tfidf/lsi/tfidf_features_ämber_pang_w_4_s_False_n_10.npy\n",
      "datasets/tfidf/lsi-cos-dist/tfidf_features_ämber_pang_w_4_s_False_n_10.npy\n",
      "datasets/tfidf/lsi/tfidf_features_õun_kivi_w_3_s_False_n_2.npy\n",
      "datasets/tfidf/lsi-cos-dist/tfidf_features_Eesti_TallinnTartu_w_2_s_False_n_2.npy\n",
      "datasets/tfidf/lsi-cos-dist/tfidf_features_countries_cities_w_4_s_True_n_40.npy\n",
      "datasets/tfidf/lsi/tfidf_features_õun_banaan_w_4_s_False_n_2.npy\n",
      "datasets/tfidf/lsi/tfidf_features_Eesti_TallinnTartu_w_3_s_False_n_40.npy\n",
      "datasets/tfidf/lsi/tfidf_features_hea_halb_w_2_s_False_n_2.npy\n",
      "datasets/tfidf/lsi-cos-dist/tfidf_features_Eesti_TallinnTartu_w_3_s_True_n_10.npy\n",
      "datasets/tfidf/lsi/tfidf_features_ämber_pang_w_3_s_False_n_10.npy\n",
      "datasets/tfidf/lsi-cos-dist/tfidf_features_õun_banaan_w_2_s_False_n_40.npy\n",
      "datasets/tfidf/lsi-cos-dist/tfidf_features_õun_banaan_w_3_s_False_n_10.npy\n",
      "datasets/tfidf/lsi-cos-dist/tfidf_features_ämber_pang_w_3_s_False_n_10.npy\n",
      "datasets/tfidf/lsi/tfidf_features_joogitee_sõidutee_w_3_s_False_n_10.npy\n",
      "datasets/tfidf/lsi-cos-dist/tfidf_features_õun_banaan_w_4_s_False_n_2.npy\n",
      "datasets/tfidf/lsi/tfidf_features_õun_kivi_w_3_s_True_n_10.npy\n",
      "datasets/tfidf/lsi/tfidf_features_ämber_pang_w_2_s_True_n_40.npy\n",
      "datasets/tfidf/lsi-cos-dist/tfidf_features_õun_banaan_w_3_s_False_n_40.npy\n",
      "datasets/tfidf/lsi/tfidf_features_õun_banaan_w_4_s_False_n_10.npy\n",
      "datasets/tfidf/lsi-cos-dist/tfidf_features_ämber_pang_w_2_s_True_n_40.npy\n",
      "datasets/tfidf/lsi/tfidf_features_Eesti_TallinnTartu_w_3_s_True_n_2.npy\n",
      "datasets/tfidf/lsi/tfidf_features_ämber_pang_w_4_s_True_n_2.npy\n",
      "datasets/tfidf/lsi-cos-dist/tfidf_features_Eesti_TallinnTartu_w_4_s_True_n_10.npy\n",
      "datasets/tfidf/lsi-cos-dist/tfidf_features_ämber_pang_w_4_s_True_n_2.npy\n",
      "datasets/tfidf/lsi/tfidf_features_õun_kivi_w_3_s_False_n_10.npy\n",
      "datasets/tfidf/lsi-cos-dist/tfidf_features_õun_kivi_w_3_s_False_n_2.npy\n",
      "datasets/tfidf/lsi/tfidf_features_õun_puder_w_3_s_False_n_10.npy\n",
      "datasets/tfidf/lsi-cos-dist/tfidf_features_joogitee_sõidutee_w_3_s_False_n_10.npy\n",
      "datasets/tfidf/lsi/tfidf_features_joogitee_sõidutee_w_3_s_False_n_40.npy\n",
      "datasets/tfidf/lsi/tfidf_features_countries_cities_w_2_s_True_n_40.npy\n",
      "datasets/tfidf/lsi-cos-dist/tfidf_features_hea_halb_w_4_s_False_n_2.npy\n",
      "datasets/tfidf/lsi-cos-dist/tfidf_features_countries_cities_w_3_s_False_n_2.npy\n",
      "datasets/tfidf/lsi-cos-dist/tfidf_features_õun_kivi_w_3_s_True_n_10.npy\n",
      "datasets/tfidf/lsi/tfidf_features_Eesti_TallinnTartu_w_3_s_False_n_2.npy\n",
      "datasets/tfidf/lsi-cos-dist/tfidf_features_õun_banaan_w_4_s_False_n_10.npy\n",
      "datasets/tfidf/lsi-cos-dist/tfidf_features_Eesti_TallinnTartu_w_2_s_True_n_10.npy\n",
      "datasets/tfidf/lsi/tfidf_features_hea_halb_w_3_s_False_n_10.npy\n",
      "datasets/tfidf/lsi/tfidf_features_ämber_pang_w_3_s_True_n_10.npy\n",
      "datasets/tfidf/lsi/tfidf_features_hea_halb_w_4_s_False_n_40.npy\n",
      "datasets/tfidf/lsi-cos-dist/tfidf_features_ämber_pang_w_3_s_True_n_10.npy\n",
      "datasets/tfidf/lsi/tfidf_features_hea_halb_w_2_s_True_n_40.npy\n",
      "datasets/tfidf/lsi/tfidf_features_ämber_pang_w_2_s_True_n_10.npy\n",
      "datasets/tfidf/lsi-cos-dist/tfidf_features_ämber_pang_w_2_s_True_n_10.npy\n",
      "datasets/tfidf/lsi/tfidf_features_Eesti_TallinnTartu_w_2_s_True_n_40.npy\n",
      "datasets/tfidf/lsi-cos-dist/tfidf_features_joogitee_sõidutee_w_3_s_False_n_40.npy\n",
      "datasets/tfidf/lsi-cos-dist/tfidf_features_õun_puder_w_3_s_False_n_10.npy\n",
      "datasets/tfidf/lsi/tfidf_features_hea_halb_w_3_s_True_n_40.npy\n",
      "datasets/tfidf/lsi-cos-dist/tfidf_features_Eesti_TallinnTartu_w_3_s_True_n_2.npy\n",
      "datasets/tfidf/lsi/tfidf_features_hea_halb_w_2_s_False_n_40.npy\n",
      "datasets/tfidf/lsi-cos-dist/tfidf_features_countries_cities_w_3_s_False_n_10.npy\n",
      "datasets/tfidf/lsi/tfidf_features_õun_puder_w_3_s_False_n_2.npy\n",
      "datasets/tfidf/lsi-cos-dist/tfidf_features_Eesti_TallinnTartu_w_2_s_False_n_10.npy\n",
      "datasets/tfidf/lsi/tfidf_features_õun_kivi_w_3_s_True_n_2.npy\n",
      "datasets/tfidf/lsi-cos-dist/tfidf_features_countries_cities_w_3_s_True_n_40.npy\n",
      "datasets/tfidf/lsi-cos-dist/tfidf_features_hea_halb_w_4_s_False_n_10.npy\n",
      "datasets/tfidf/lsi-cos-dist/tfidf_features_countries_cities_w_4_s_False_n_2.npy\n",
      "datasets/tfidf/lsi/tfidf_features_õun_puder_w_4_s_True_n_2.npy\n",
      "datasets/tfidf/lsi/tfidf_features_õun_puder_w_4_s_False_n_10.npy\n",
      "datasets/tfidf/lsi-cos-dist/tfidf_features_õun_puder_w_4_s_True_n_2.npy\n",
      "datasets/tfidf/lsi-cos-dist/tfidf_features_õun_kivi_w_3_s_True_n_2.npy\n",
      "datasets/tfidf/lsi/tfidf_features_õun_puder_w_3_s_True_n_2.npy\n",
      "datasets/tfidf/lsi/tfidf_features_Eesti_TallinnTartu_w_4_s_True_n_2.npy\n",
      "datasets/tfidf/lsi-cos-dist/tfidf_features_õun_puder_w_3_s_True_n_2.npy\n",
      "datasets/tfidf/lsi/tfidf_features_õun_puder_w_4_s_False_n_40.npy\n",
      "datasets/tfidf/lsi-cos-dist/tfidf_features_hea_halb_w_2_s_False_n_2.npy\n",
      "datasets/tfidf/lsi-cos-dist/tfidf_features_Eesti_TallinnTartu_w_3_s_True_n_40.npy\n",
      "datasets/tfidf/lsi-cos-dist/tfidf_features_õun_kivi_w_3_s_False_n_10.npy\n",
      "datasets/tfidf/lsi-cos-dist/tfidf_features_õun_puder_w_3_s_False_n_2.npy\n",
      "datasets/tfidf/lsi/tfidf_features_ämber_pang_w_2_s_False_n_40.npy\n",
      "datasets/tfidf/lsi/tfidf_features_countries_cities_w_3_s_False_n_40.npy\n",
      "datasets/tfidf/lsi/tfidf_features_õun_kivi_w_4_s_False_n_40.npy\n",
      "datasets/tfidf/lsi/tfidf_features_countries_cities_w_2_s_True_n_10.npy\n",
      "datasets/tfidf/lsi/tfidf_features_countries_cities_w_3_s_True_n_2.npy\n",
      "datasets/tfidf/lsi/tfidf_features_õun_kivi_w_4_s_False_n_10.npy\n",
      "datasets/tfidf/lsi-cos-dist/tfidf_features_Eesti_TallinnTartu_w_4_s_True_n_2.npy\n",
      "datasets/tfidf/lsi-cos-dist/tfidf_features_ämber_pang_w_2_s_False_n_40.npy\n",
      "datasets/tfidf/lsi/tfidf_features_countries_cities_w_3_s_True_n_10.npy\n",
      "datasets/tfidf/lsi/tfidf_features_Eesti_TallinnTartu_w_4_s_True_n_40.npy\n",
      "datasets/tfidf/lsi-cos-dist/tfidf_features_õun_puder_w_4_s_False_n_10.npy\n",
      "datasets/tfidf/lsi/tfidf_features_Eesti_TallinnTartu_w_3_s_False_n_10.npy\n",
      "datasets/tfidf/lsi-cos-dist/tfidf_features_countries_cities_w_2_s_False_n_10.npy\n",
      "datasets/tfidf/lsi-cos-dist/tfidf_features_õun_kivi_w_2_s_False_n_40.npy\n",
      "datasets/tfidf/lsi-cos-dist/tfidf_features_Eesti_TallinnTartu_w_3_s_False_n_2.npy\n",
      "datasets/tfidf/lsi/tfidf_features_countries_cities_w_2_s_False_n_40.npy\n",
      "datasets/tfidf/lsi/tfidf_features_ämber_pang_w_3_s_True_n_40.npy\n",
      "datasets/tfidf/lsi/tfidf_features_hea_halb_w_2_s_True_n_2.npy\n",
      "datasets/tfidf/lsi-cos-dist/tfidf_features_ämber_pang_w_3_s_True_n_40.npy\n",
      "datasets/tfidf/lsi/tfidf_features_joogitee_sõidutee_w_3_s_True_n_10.npy\n",
      "datasets/tfidf/lsi-cos-dist/tfidf_features_countries_cities_w_3_s_True_n_2.npy\n",
      "datasets/tfidf/lsi/tfidf_features_joogitee_sõidutee_w_2_s_False_n_10.npy\n",
      "datasets/tfidf/lsi-cos-dist/tfidf_features_joogitee_sõidutee_w_3_s_True_n_10.npy\n",
      "datasets/tfidf/lsi/tfidf_features_countries_cities_w_4_s_False_n_10.npy\n",
      "datasets/tfidf/lsi-cos-dist/tfidf_features_õun_puder_w_4_s_False_n_40.npy\n",
      "datasets/tfidf/lsi/tfidf_features_joogitee_sõidutee_w_3_s_True_n_40.npy\n",
      "datasets/tfidf/lsi-cos-dist/tfidf_features_joogitee_sõidutee_w_2_s_False_n_10.npy\n",
      "datasets/tfidf/lsi/tfidf_features_õun_puder_w_2_s_True_n_40.npy\n",
      "datasets/tfidf/lsi-cos-dist/tfidf_features_countries_cities_w_3_s_True_n_10.npy\n",
      "datasets/tfidf/lsi/tfidf_features_õun_banaan_w_4_s_False_n_40.npy\n",
      "datasets/tfidf/lsi-cos-dist/tfidf_features_joogitee_sõidutee_w_3_s_True_n_40.npy\n",
      "datasets/tfidf/lsi/tfidf_features_joogitee_sõidutee_w_2_s_True_n_10.npy\n",
      "datasets/tfidf/lsi-cos-dist/tfidf_features_countries_cities_w_2_s_True_n_10.npy\n",
      "datasets/tfidf/lsi-cos-dist/tfidf_features_õun_kivi_w_4_s_False_n_10.npy\n",
      "datasets/tfidf/lsi/tfidf_features_hea_halb_w_2_s_False_n_10.npy\n",
      "datasets/tfidf/lsi-cos-dist/tfidf_features_joogitee_sõidutee_w_2_s_True_n_10.npy\n",
      "datasets/tfidf/lsi/tfidf_features_joogitee_sõidutee_w_4_s_True_n_40.npy\n",
      "datasets/tfidf/lsi/tfidf_features_countries_cities_w_4_s_True_n_10.npy\n",
      "datasets/tfidf/lsi-cos-dist/tfidf_features_joogitee_sõidutee_w_4_s_True_n_40.npy\n",
      "datasets/tfidf/lsi/tfidf_features_õun_kivi_w_2_s_True_n_2.npy\n",
      "datasets/tfidf/lsi-cos-dist/tfidf_features_Eesti_TallinnTartu_w_4_s_True_n_40.npy\n",
      "datasets/tfidf/lsi-cos-dist/tfidf_features_õun_puder_w_2_s_True_n_40.npy\n",
      "datasets/tfidf/lsi/tfidf_features_õun_puder_w_4_s_True_n_10.npy\n",
      "datasets/tfidf/lsi/tfidf_features_joogitee_sõidutee_w_3_s_False_n_2.npy\n",
      "datasets/tfidf/lsi-cos-dist/tfidf_features_õun_puder_w_4_s_True_n_10.npy\n",
      "datasets/tfidf/lsi/tfidf_features_õun_kivi_w_2_s_True_n_10.npy\n",
      "datasets/tfidf/lsi-cos-dist/tfidf_features_joogitee_sõidutee_w_3_s_False_n_2.npy\n",
      "datasets/tfidf/lsi/tfidf_features_õun_kivi_w_4_s_True_n_2.npy\n",
      "datasets/tfidf/lsi-cos-dist/tfidf_features_õun_kivi_w_2_s_True_n_2.npy\n",
      "datasets/tfidf/lsi/tfidf_features_õun_puder_w_2_s_True_n_10.npy\n",
      "datasets/tfidf/lsi-cos-dist/tfidf_features_õun_kivi_w_4_s_True_n_2.npy\n",
      "datasets/tfidf/lsi/tfidf_features_joogitee_sõidutee_w_2_s_True_n_2.npy\n",
      "datasets/tfidf/lsi-cos-dist/tfidf_features_joogitee_sõidutee_w_2_s_True_n_2.npy\n",
      "datasets/tfidf/lsi/tfidf_features_joogitee_sõidutee_w_4_s_False_n_2.npy\n",
      "datasets/tfidf/lsi-cos-dist/tfidf_features_joogitee_sõidutee_w_4_s_False_n_2.npy\n",
      "datasets/tfidf/lsi/tfidf_features_õun_kivi_w_3_s_True_n_40.npy\n",
      "datasets/tfidf/lsi-cos-dist/tfidf_features_countries_cities_w_4_s_True_n_10.npy\n",
      "datasets/tfidf/lsi/tfidf_features_joogitee_sõidutee_w_2_s_True_n_40.npy\n",
      "datasets/tfidf/lsi-cos-dist/tfidf_features_õun_kivi_w_2_s_True_n_10.npy\n",
      "datasets/tfidf/lsi/tfidf_features_joogitee_sõidutee_w_4_s_False_n_10.npy\n",
      "datasets/tfidf/lsi-cos-dist/tfidf_features_hea_halb_w_2_s_True_n_2.npy\n",
      "datasets/tfidf/lsi-cos-dist/tfidf_features_joogitee_sõidutee_w_2_s_True_n_40.npy\n",
      "datasets/tfidf/lsi/tfidf_features_õun_kivi_w_3_s_False_n_40.npy\n",
      "datasets/tfidf/lsi-cos-dist/tfidf_features_õun_puder_w_2_s_True_n_10.npy\n",
      "datasets/tfidf/lsi-cos-dist/tfidf_features_õun_banaan_w_4_s_False_n_40.npy\n",
      "datasets/tfidf/lsi/tfidf_features_Eesti_TallinnTartu_w_4_s_False_n_10.npy\n",
      "datasets/tfidf/lsi-cos-dist/tfidf_features_hea_halb_w_3_s_False_n_10.npy\n",
      "datasets/tfidf/lsi/tfidf_features_hea_halb_w_4_s_True_n_10.npy\n",
      "datasets/tfidf/lsi-cos-dist/tfidf_features_joogitee_sõidutee_w_4_s_False_n_10.npy\n",
      "datasets/tfidf/lsi/tfidf_features_hea_halb_w_3_s_True_n_10.npy\n",
      "datasets/tfidf/lsi/tfidf_features_hea_halb_w_3_s_True_n_2.npy\n",
      "datasets/tfidf/lsi-cos-dist/tfidf_features_õun_kivi_w_4_s_False_n_40.npy\n",
      "datasets/tfidf/lsi/tfidf_features_õun_puder_w_4_s_True_n_40.npy\n",
      "datasets/tfidf/lsi/tfidf_features_joogitee_sõidutee_w_4_s_False_n_40.npy\n",
      "datasets/tfidf/lsi-cos-dist/tfidf_features_õun_puder_w_4_s_True_n_40.npy\n",
      "datasets/tfidf/lsi/tfidf_features_hea_halb_w_2_s_True_n_10.npy\n",
      "datasets/tfidf/lsi-cos-dist/tfidf_features_õun_kivi_w_3_s_True_n_40.npy\n",
      "datasets/tfidf/lsi/tfidf_features_ämber_pang_w_4_s_False_n_2.npy\n",
      "datasets/tfidf/lsi-cos-dist/tfidf_features_ämber_pang_w_4_s_False_n_2.npy\n",
      "datasets/tfidf/lsi/tfidf_features_õun_puder_w_2_s_True_n_2.npy\n",
      "datasets/tfidf/lsi-cos-dist/tfidf_features_joogitee_sõidutee_w_4_s_False_n_40.npy\n",
      "datasets/tfidf/lsi/tfidf_features_hea_halb_w_4_s_True_n_2.npy\n",
      "datasets/tfidf/lsi-cos-dist/tfidf_features_õun_puder_w_2_s_True_n_2.npy\n",
      "datasets/tfidf/lsi-cos-dist/tfidf_features_Eesti_TallinnTartu_w_3_s_False_n_10.npy\n",
      "datasets/tfidf/lsi-cos-dist/tfidf_features_hea_halb_w_4_s_True_n_40.npy\n",
      "datasets/tfidf/lsi-cos-dist/tfidf_features_Eesti_TallinnTartu_w_2_s_True_n_40.npy\n",
      "datasets/tfidf/lsi-cos-dist/tfidf_features_countries_cities_w_4_s_False_n_10.npy\n",
      "datasets/tfidf/lsi-cos-dist/tfidf_features_hea_halb_w_4_s_True_n_2.npy\n",
      "datasets/tfidf/lsi-cos-dist/tfidf_features_hea_halb_w_3_s_True_n_2.npy\n",
      "datasets/tfidf/lsi-cos-dist/tfidf_features_hea_halb_w_2_s_False_n_10.npy\n",
      "datasets/tfidf/lsi-cos-dist/tfidf_features_hea_halb_w_4_s_True_n_10.npy\n",
      "datasets/tfidf/lsi-cos-dist/tfidf_features_countries_cities_w_2_s_True_n_40.npy\n",
      "datasets/tfidf/lsi-cos-dist/tfidf_features_õun_kivi_w_3_s_False_n_40.npy\n",
      "datasets/tfidf/lsi-cos-dist/tfidf_features_hea_halb_w_3_s_True_n_10.npy\n",
      "datasets/tfidf/lsi-cos-dist/tfidf_features_Eesti_TallinnTartu_w_4_s_False_n_10.npy\n",
      "datasets/tfidf/lsi-cos-dist/tfidf_features_hea_halb_w_2_s_True_n_10.npy\n",
      "datasets/tfidf/lsi-cos-dist/tfidf_features_Eesti_TallinnTartu_w_4_s_False_n_40.npy\n",
      "datasets/tfidf/lsi-cos-dist/tfidf_features_Eesti_TallinnTartu_w_2_s_False_n_40.npy\n",
      "datasets/tfidf/lsi-cos-dist/tfidf_features_hea_halb_w_3_s_False_n_40.npy\n",
      "datasets/tfidf/lsi-cos-dist/tfidf_features_countries_cities_w_4_s_False_n_40.npy\n",
      "datasets/tfidf/lsi-cos-dist/tfidf_features_Eesti_TallinnTartu_w_3_s_False_n_40.npy\n",
      "datasets/tfidf/lsi-cos-dist/tfidf_features_hea_halb_w_3_s_True_n_40.npy\n",
      "datasets/tfidf/lsi-cos-dist/tfidf_features_countries_cities_w_3_s_False_n_40.npy\n",
      "datasets/tfidf/lsi-cos-dist/tfidf_features_hea_halb_w_2_s_True_n_40.npy\n",
      "datasets/tfidf/lsi-cos-dist/tfidf_features_hea_halb_w_4_s_False_n_40.npy\n",
      "datasets/tfidf/lsi-cos-dist/tfidf_features_hea_halb_w_2_s_False_n_40.npy\n",
      "datasets/tfidf/lsi-cos-dist/tfidf_features_countries_cities_w_2_s_False_n_40.npy\n"
     ]
    },
    {
     "data": {
      "text/plain": [
       "[None,\n",
       " None,\n",
       " None,\n",
       " None,\n",
       " None,\n",
       " None,\n",
       " None,\n",
       " None,\n",
       " None,\n",
       " None,\n",
       " None,\n",
       " None,\n",
       " None,\n",
       " None,\n",
       " None,\n",
       " None,\n",
       " None,\n",
       " None,\n",
       " None,\n",
       " None,\n",
       " None,\n",
       " None,\n",
       " None,\n",
       " None,\n",
       " None,\n",
       " None,\n",
       " None,\n",
       " None,\n",
       " None,\n",
       " None,\n",
       " None,\n",
       " None,\n",
       " None,\n",
       " None,\n",
       " None,\n",
       " None,\n",
       " None,\n",
       " None,\n",
       " None,\n",
       " None,\n",
       " None,\n",
       " None,\n",
       " None,\n",
       " None,\n",
       " None,\n",
       " None,\n",
       " None,\n",
       " None,\n",
       " None,\n",
       " None,\n",
       " None,\n",
       " None,\n",
       " None,\n",
       " None,\n",
       " None,\n",
       " None,\n",
       " None,\n",
       " None,\n",
       " None,\n",
       " None,\n",
       " None,\n",
       " None,\n",
       " None,\n",
       " None,\n",
       " None,\n",
       " None,\n",
       " None,\n",
       " None,\n",
       " None,\n",
       " None,\n",
       " None,\n",
       " None,\n",
       " None,\n",
       " None,\n",
       " None,\n",
       " None,\n",
       " None,\n",
       " None,\n",
       " None,\n",
       " None,\n",
       " None,\n",
       " None,\n",
       " None,\n",
       " None,\n",
       " None,\n",
       " None,\n",
       " None,\n",
       " None,\n",
       " None,\n",
       " None,\n",
       " None,\n",
       " None,\n",
       " None,\n",
       " None,\n",
       " None,\n",
       " None,\n",
       " None,\n",
       " None,\n",
       " None,\n",
       " None,\n",
       " None,\n",
       " None,\n",
       " None,\n",
       " None,\n",
       " None,\n",
       " None,\n",
       " None,\n",
       " None,\n",
       " None,\n",
       " None,\n",
       " None,\n",
       " None,\n",
       " None,\n",
       " None,\n",
       " None,\n",
       " None,\n",
       " None,\n",
       " None,\n",
       " None,\n",
       " None,\n",
       " None,\n",
       " None,\n",
       " None,\n",
       " None,\n",
       " None,\n",
       " None,\n",
       " None,\n",
       " None,\n",
       " None,\n",
       " None,\n",
       " None,\n",
       " None,\n",
       " None,\n",
       " None,\n",
       " None,\n",
       " None,\n",
       " None,\n",
       " None,\n",
       " None,\n",
       " None,\n",
       " None,\n",
       " None,\n",
       " None,\n",
       " None]"
      ]
     },
     "execution_count": 35,
     "metadata": {},
     "output_type": "execute_result"
    }
   ],
   "source": [
    "# all_files = glob(os.path.join('../datasets', feature, '*'))\n",
    "# files_5k = [filename for filename in all_files if ('hea' in filename or 'countries' in filename or 'Eesti' in filename)]\n",
    "\n",
    "Parallel(n_jobs=25)(delayed(features_to_pairwise_lsi)(filename) for filename in all_files)\n"
   ]
  },
  {
   "cell_type": "code",
   "execution_count": 98,
   "metadata": {
    "collapsed": false,
    "deletable": true,
    "editable": true
   },
   "outputs": [],
   "source": [
    "basename = os.path.basename(glob('../datasets/mean-vec/*')[0])"
   ]
  },
  {
   "cell_type": "code",
   "execution_count": 100,
   "metadata": {
    "collapsed": false,
    "deletable": true,
    "editable": true
   },
   "outputs": [
    {
     "data": {
      "text/plain": [
       "'../datasets/angular-distance/mean-vec/õun_kivi_w_4_s_True.npy'"
      ]
     },
     "execution_count": 100,
     "metadata": {},
     "output_type": "execute_result"
    }
   ],
   "source": [
    "new_path = os.path.join('../datasets/angular-distance/mean-vec/', basename)"
   ]
  },
  {
   "cell_type": "code",
   "execution_count": 61,
   "metadata": {
    "collapsed": false,
    "deletable": true,
    "editable": true
   },
   "outputs": [
    {
     "name": "stderr",
     "output_type": "stream",
     "text": [
      "/media/cdata-work/anaconda3/lib/python3.5/site-packages/ipykernel/__main__.py:1: RuntimeWarning: invalid value encountered in arccos\n",
      "  if __name__ == '__main__':\n"
     ]
    },
    {
     "data": {
      "text/plain": [
       "nan"
      ]
     },
     "execution_count": 61,
     "metadata": {},
     "output_type": "execute_result"
    }
   ],
   "source": [
    "np.arccos(1.1)"
   ]
  },
  {
   "cell_type": "code",
   "execution_count": 69,
   "metadata": {
    "collapsed": false,
    "deletable": true,
    "editable": true
   },
   "outputs": [],
   "source": [
    "matrix[matrix>1] = 1\n"
   ]
  },
  {
   "cell_type": "code",
   "execution_count": 71,
   "metadata": {
    "collapsed": false,
    "deletable": true,
    "editable": true
   },
   "outputs": [],
   "source": [
    "matrix[matrix>1] = 1\n",
    "angular_sim = 1-np.arccos(matrix)/np.pi"
   ]
  },
  {
   "cell_type": "markdown",
   "metadata": {
    "deletable": true,
    "editable": true
   },
   "source": [
    "# WMD"
   ]
  },
  {
   "cell_type": "code",
   "execution_count": null,
   "metadata": {
    "collapsed": true,
    "deletable": true,
    "editable": true
   },
   "outputs": [],
   "source": []
  },
  {
   "cell_type": "markdown",
   "metadata": {
    "deletable": true,
    "editable": true
   },
   "source": [
    "# Old code"
   ]
  },
  {
   "cell_type": "code",
   "execution_count": null,
   "metadata": {
    "collapsed": true,
    "deletable": true,
    "editable": true
   },
   "outputs": [],
   "source": [
    "for window in [2,3,4]:\n",
    "    for symmetric in [True, False]:\n",
    "        print(metric.__name__, window, symmetric)\n",
    "        apple_contexts = open('../datasets/apple_contexts_s_{}_w_{}.txt'.format(symmetric, window)).read().splitlines()\n",
    "        rock_contexts = open('../datasets/rock_contexts_s_{}_w_{}.txt'.format(symmetric, window)).read().splitlines()\n",
    "        pear_contexts = open('../datasets/pear_contexts_s_{}_w_{}.txt'.format(symmetric, window)).read().splitlines()\n",
    "        contexts = apple_contexts + rock_contexts + pear_contexts\n",
    "        labels = [0]*len(apple_contexts) + [1]*len(rock_contexts) + [2]*len(pear_contexts)\n",
    "        n = len(contexts)\n",
    "        matrix = np.empty((n,n))\n",
    "        matrix[:] = np.NAN\n",
    "\n",
    "        print('constructing matrix')\n",
    "        tfidf_vectorizer = TfidfVectorizer()\n",
    "        tfidf = tfidf_vectorizer.fit_transform(contexts)\n",
    "        for i in tqdm(range(n)):\n",
    "            matrix[i,:] = metric(tfidf[i], tfidf).flatten()\n",
    "        print('saving')\n",
    "        filename = '../datasets/apple-rock-pear/tfidf_{}_w_{}_s_{}.npy'.format(metric.__name__, window, symmetric)\n",
    "\n",
    "        np.save(filename, matrix)"
   ]
  },
  {
   "cell_type": "code",
   "execution_count": null,
   "metadata": {
    "collapsed": true,
    "deletable": true,
    "editable": true
   },
   "outputs": [
    {
     "name": "stdout",
     "output_type": "stream",
     "text": [
      "cosine_similarity 2 True\n"
     ]
    },
    {
     "name": "stderr",
     "output_type": "stream",
     "text": [
      "\r",
      "  0%|          | 0/10726 [00:00<?, ?it/s]"
     ]
    },
    {
     "name": "stdout",
     "output_type": "stream",
     "text": [
      "constructing matrix\n"
     ]
    },
    {
     "name": "stderr",
     "output_type": "stream",
     "text": [
      "100%|██████████| 10726/10726 [00:32<00:00, 330.76it/s]\n"
     ]
    },
    {
     "name": "stdout",
     "output_type": "stream",
     "text": [
      "saving\n",
      "cosine_similarity 2 False\n",
      "constructing matrix\n"
     ]
    },
    {
     "name": "stderr",
     "output_type": "stream",
     "text": [
      "100%|██████████| 12097/12097 [00:38<00:00, 317.42it/s]\n"
     ]
    },
    {
     "name": "stdout",
     "output_type": "stream",
     "text": [
      "saving\n",
      "cosine_similarity 3 True\n",
      "constructing matrix\n"
     ]
    },
    {
     "name": "stderr",
     "output_type": "stream",
     "text": [
      "100%|██████████| 9620/9620 [00:32<00:00, 294.53it/s]\n"
     ]
    },
    {
     "name": "stdout",
     "output_type": "stream",
     "text": [
      "saving\n",
      "cosine_similarity 3 False\n",
      "constructing matrix\n"
     ]
    },
    {
     "name": "stderr",
     "output_type": "stream",
     "text": [
      "100%|██████████| 11801/11801 [00:44<00:00, 265.30it/s]\n"
     ]
    },
    {
     "name": "stdout",
     "output_type": "stream",
     "text": [
      "saving\n",
      "cosine_similarity 4 True\n",
      "constructing matrix\n"
     ]
    },
    {
     "name": "stderr",
     "output_type": "stream",
     "text": [
      "100%|██████████| 8470/8470 [00:31<00:00, 270.79it/s]\n"
     ]
    },
    {
     "name": "stdout",
     "output_type": "stream",
     "text": [
      "saving\n",
      "cosine_similarity 4 False\n",
      "constructing matrix\n"
     ]
    },
    {
     "name": "stderr",
     "output_type": "stream",
     "text": [
      "100%|██████████| 11534/11534 [00:50<00:00, 229.57it/s]\n"
     ]
    },
    {
     "name": "stdout",
     "output_type": "stream",
     "text": [
      "saving\n",
      "cosine_distances 2 True\n"
     ]
    },
    {
     "name": "stderr",
     "output_type": "stream",
     "text": [
      "\r",
      "  0%|          | 0/10726 [00:00<?, ?it/s]"
     ]
    },
    {
     "name": "stdout",
     "output_type": "stream",
     "text": [
      "constructing matrix\n"
     ]
    },
    {
     "name": "stderr",
     "output_type": "stream",
     "text": [
      " 40%|███▉      | 4257/10726 [00:13<00:19, 324.96it/s]"
     ]
    }
   ],
   "source": [
    "for metric in [cosine_similarity, cosine_distances]:\n",
    "    for window in [2,3,4]:\n",
    "        for symmetric in [True, False]:\n",
    "            print(metric.__name__, window, symmetric)\n",
    "            apple_contexts = open('../datasets/apple_contexts_s_{}_w_{}.txt'.format(symmetric, window)).read().splitlines()\n",
    "            rock_contexts = open('../datasets/rock_contexts_s_{}_w_{}.txt'.format(symmetric, window)).read().splitlines()\n",
    "            pear_contexts = open('../datasets/pear_contexts_s_{}_w_{}.txt'.format(symmetric, window)).read().splitlines()\n",
    "            contexts = apple_contexts + rock_contexts + pear_contexts\n",
    "            labels = [0]*len(apple_contexts) + [1]*len(rock_contexts) + [2]*len(pear_contexts)\n",
    "            n = len(contexts)\n",
    "            matrix = np.zeros((n,n))\n",
    "\n",
    "            print('constructing matrix')\n",
    "            tfidf_vectorizer = TfidfVectorizer()\n",
    "            tfidf = tfidf_vectorizer.fit_transform(contexts)\n",
    "            for i in tqdm(range(n)):\n",
    "                matrix[i,:] = metric(tfidf[i], tfidf).flatten()\n",
    "            print('saving')\n",
    "            filename = '../datasets/apple-rock-pear/tfidf_{}_w_{}_s_{}.npy'.format(metric.__name__, window, symmetric)\n",
    "\n",
    "            np.save(filename, matrix)"
   ]
  }
 ],
 "metadata": {
  "kernelspec": {
   "display_name": "Python [conda root]",
   "language": "python",
   "name": "conda-root-py"
  },
  "language_info": {
   "codemirror_mode": {
    "name": "ipython",
    "version": 3
   },
   "file_extension": ".py",
   "mimetype": "text/x-python",
   "name": "python",
   "nbconvert_exporter": "python",
   "pygments_lexer": "ipython3",
   "version": "3.5.2"
  }
 },
 "nbformat": 4,
 "nbformat_minor": 2
}
